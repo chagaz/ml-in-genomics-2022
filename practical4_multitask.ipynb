{
 "cells": [
  {
   "cell_type": "markdown",
   "id": "c0d96075-a153-4930-b67a-b7e7600ec474",
   "metadata": {},
   "source": [
    "# Machine learning for genetic data — Part 4: Multitask learning"
   ]
  },
  {
   "cell_type": "markdown",
   "id": "bf612c7a-ab0b-4659-892e-8729ffff5428",
   "metadata": {},
   "source": [
    "## Reload librairies and data\n",
    "\n",
    "Let us first reload the librairies and data used in previous parts. You can run this entire section (until the \"The 4W phenotype\" section) \"blindly\"."
   ]
  },
  {
   "cell_type": "code",
   "execution_count": 1,
   "id": "67b8cfba-be75-4799-8aa9-11e784bc5908",
   "metadata": {},
   "outputs": [],
   "source": [
    "# make sure graphics are displayed inline (rather than opened in new windows)\n",
    "%matplotlib inline \n",
    "\n",
    "# imports\n",
    "import matplotlib.pyplot as plt\n",
    "import numpy as np"
   ]
  },
  {
   "cell_type": "code",
   "execution_count": 2,
   "id": "a6155fa6-c3b2-4b58-841b-37aed7061ac9",
   "metadata": {},
   "outputs": [],
   "source": [
    "import pandas as pd"
   ]
  },
  {
   "cell_type": "code",
   "execution_count": 3,
   "id": "1c48aab4-e6ba-4818-831c-07d39704b27f",
   "metadata": {},
   "outputs": [],
   "source": [
    "plt.rc('font', **{'size': 14}) # font size for text on plots"
   ]
  },
  {
   "cell_type": "code",
   "execution_count": 4,
   "id": "7c752c1c-ca2b-4d1d-9818-86643ddb27d0",
   "metadata": {},
   "outputs": [],
   "source": [
    "from sklearn import decomposition, linear_model, metrics, model_selection, preprocessing"
   ]
  },
  {
   "cell_type": "code",
   "execution_count": 5,
   "id": "0aa23d32-5455-4b72-a97e-1351502af59f",
   "metadata": {},
   "outputs": [],
   "source": [
    "import scipy.stats as st"
   ]
  },
  {
   "cell_type": "code",
   "execution_count": 6,
   "id": "2a0b5f38-ce51-4a9b-b343-7f8259eca828",
   "metadata": {},
   "outputs": [],
   "source": [
    "import statsmodels.api as sm"
   ]
  },
  {
   "cell_type": "code",
   "execution_count": 7,
   "id": "9313b89f-b273-4c08-96c6-cec461f957ea",
   "metadata": {},
   "outputs": [],
   "source": [
    "import warnings\n",
    "from sklearn.exceptions import ConvergenceWarning\n",
    "warnings.filterwarnings(\"ignore\", category=ConvergenceWarning, module=\"sklearn\")"
   ]
  },
  {
   "cell_type": "markdown",
   "id": "564257af-2b3c-4875-9add-ad81b25efdc3",
   "metadata": {},
   "source": [
    "### Load data"
   ]
  },
  {
   "cell_type": "code",
   "execution_count": 8,
   "id": "1daf9b3a-b2ec-4c4b-954c-db231e362fa5",
   "metadata": {},
   "outputs": [],
   "source": [
    "# Load the genotype data\n",
    "genotype_df = pd.read_csv(\"data/athaliana_small.genotype.txt\")\n",
    "genotype_df = genotype_df.set_index(\"Sample\")"
   ]
  },
  {
   "cell_type": "code",
   "execution_count": 9,
   "id": "dc494535-0ac2-4c1b-9876-1eb2a60efe81",
   "metadata": {},
   "outputs": [],
   "source": [
    "# Load the 2W phenotype\n",
    "phenotype_df = pd.read_csv('data/athaliana_small.2W.pheno', delim_whitespace=True)"
   ]
  },
  {
   "cell_type": "code",
   "execution_count": 10,
   "id": "c7eaa005-24b2-48f2-9ced-cc380b2c0625",
   "metadata": {},
   "outputs": [],
   "source": [
    "# Create the corresponding response vector\n",
    "y_2W = np.array(phenotype_df[\"2W\"])"
   ]
  },
  {
   "cell_type": "code",
   "execution_count": 11,
   "id": "fd34a216-36d8-4b5a-ae8e-2462c198d85c",
   "metadata": {},
   "outputs": [],
   "source": [
    "# Create the corresponding data matrix\n",
    "X_2W = np.array(genotype_df.loc[phenotype_df[\"IID\"]])"
   ]
  },
  {
   "cell_type": "code",
   "execution_count": 12,
   "id": "9ac441c4-5883-4c31-89a3-6e857433e920",
   "metadata": {},
   "outputs": [],
   "source": [
    "num_snps = X_2W.shape[1]"
   ]
  },
  {
   "cell_type": "code",
   "execution_count": 13,
   "id": "684e4955-153d-45c3-be91-b9585943a843",
   "metadata": {},
   "outputs": [],
   "source": [
    "# Load the list of candidate genes\n",
    "with open('data/candidate_genes.txt') as f:\n",
    "    candidate_genes = f.readline().split()\n",
    "    f.close()"
   ]
  },
  {
   "cell_type": "code",
   "execution_count": 14,
   "id": "95ad2a4d-43a5-4b48-bf8c-d11a4077cd55",
   "metadata": {},
   "outputs": [],
   "source": [
    "# Load the SNP to gene mapping\n",
    "genes_by_snp = {} # key: SNP, value = [genes in/near which this SNP is]\n",
    "with open('data/snps_by_gene.txt') as f:\n",
    "    for line in f:\n",
    "        ls = line.split()\n",
    "        gene_id = ls[0]\n",
    "        for snp_id in ls[1:]:\n",
    "            if not snp_id in genes_by_snp:\n",
    "                genes_by_snp[snp_id] = []\n",
    "            genes_by_snp[snp_id].append(gene_id) "
   ]
  },
  {
   "cell_type": "markdown",
   "id": "1dfc08e1-eba0-4178-85f1-7b30228ca24c",
   "metadata": {},
   "source": [
    "### Correct the phenotype for population structure"
   ]
  },
  {
   "cell_type": "code",
   "execution_count": 15,
   "id": "4ff29bfb-5317-4bbc-af26-7dc6609d31ec",
   "metadata": {},
   "outputs": [],
   "source": [
    "pca = decomposition.PCA(n_components=4)\n",
    "pca.fit(X_2W)\n",
    "principal_components = X_2W.dot(pca.components_.T) \n",
    "\n",
    "# Fit a linear model between the phenotype and the principal components\n",
    "model = linear_model.LinearRegression()\n",
    "model.fit(principal_components, y_2W)\n",
    "\n",
    "# Compute the model's residuals\n",
    "y_pred = model.predict(principal_components)\n",
    "y_2W_corrected = y_2W - y_pred"
   ]
  },
  {
   "cell_type": "markdown",
   "id": "12cfb327-17f9-4ad9-b589-3a3a5768e2c7",
   "metadata": {},
   "source": [
    "### Functions to measure stability"
   ]
  },
  {
   "cell_type": "code",
   "execution_count": 16,
   "id": "ca28c20f-26b3-435e-a68a-4d2f9812c72f",
   "metadata": {},
   "outputs": [],
   "source": [
    "def pearson_corr(vector1, vector2):\n",
    "    \"\"\"\n",
    "    Returns Pearson's correlation between two vectors of 0 and 1. \n",
    "    \"\"\"\n",
    "    # if the first or the second vector is constant\n",
    "    if (vector1 == vector1[0]).all() and (vector2 == vector2[0]).all():\n",
    "            # return 1 if both are the same and 0 otherwise\n",
    "            return 1. if (vector1[0] == vector2[0]) else 0.\n",
    "    return st.pearsonr(vector1, vector2)[0]"
   ]
  },
  {
   "cell_type": "markdown",
   "id": "794de56a-16e7-4dee-8d8c-69e7b6ded75e",
   "metadata": {},
   "source": [
    "Now we can define a function that measures the stability of a selection procedure."
   ]
  },
  {
   "cell_type": "code",
   "execution_count": 17,
   "id": "3cc1ce7c-135e-460a-ac11-f7e03c63e917",
   "metadata": {},
   "outputs": [],
   "source": [
    "def stability(X_train, y_train, selection_procedure, num_subsamples, subsample_size):\n",
    "    \"\"\"\n",
    "    Sample the training data (X_train, y_train) num_subsamples times.\n",
    "    Apply the selection procedure on each subsample.\n",
    "    Return a mesure of stability of the procedure\n",
    "    \n",
    "    Input parameters\n",
    "    ----------------\n",
    "    X_train: (n_samples, n_features) np.array\n",
    "       training data\n",
    "    y_train: (n_samples, ) np.array\n",
    "       training labels\n",
    "    selection_procedure: function\n",
    "       input parameters: (training_data, training_labels)\n",
    "       outputs: (n_features, ) np.array of 0 and 1 \n",
    "           1 for selected features\n",
    "           0 for non-selected features\n",
    "    num_subsamples: int\n",
    "        number of subsamples to use\n",
    "    subsample_size: int\n",
    "        number of samples in the subsample   \n",
    "        \n",
    "    Output\n",
    "    ------\n",
    "    pearson_corr: float\n",
    "        Pearson's measure of stability of the selection procedure\n",
    "    \"\"\"\n",
    "    n_samples, n_features = X_train.shape\n",
    "    sample_indices = np.arange(n_samples) \n",
    "    \n",
    "    # check there is the same number of samples in X and y\n",
    "    assert len(y_train) == n_samples\n",
    "    \n",
    "    # check the subsample size is less than the sample size\n",
    "    assert subsample_size < n_samples\n",
    "    \n",
    "    # run the feature selection procedure on the subsamples\n",
    "    selected_features_list = []\n",
    "    for idx in range(num_subsamples):\n",
    "        # shuffle the indices\n",
    "        np.random.shuffle(sample_indices)\n",
    "        # create the subsample indices\n",
    "        ss_indices = sample_indices[:subsample_size]\n",
    "        # run the feature selection procedure\n",
    "        # and append the results to selected_features_list\n",
    "        selected_features_list.append(selection_procedure(X_train[ss_indices, :], y_train[ss_indices]))\n",
    "    \n",
    "    # compute the average pairwise Pearson's correlation between the list of selected features\n",
    "    all_correlations = [pearson_corr(selected_features, selected_features_2) for (idx, selected_features) in enumerate(selected_features_list) \\\n",
    "                        for selected_features_2 in selected_features_list[idx+1:]]\n",
    "    \n",
    "    return np.nanmean(all_correlations)"
   ]
  },
  {
   "cell_type": "markdown",
   "id": "a8dc0822-a207-4ea2-8e5d-f8de1c7a286c",
   "metadata": {},
   "source": [
    "## The 4W phenotype\n",
    "\n",
    "The 4W phenotype is very similar to the 2W phenotype, except that the seeds have been vernelized for 4 weeks. We will repeat some of the analysis we did on the 2W phenotype on this phenotype."
   ]
  },
  {
   "cell_type": "markdown",
   "id": "6fdd23e8-22dd-4ffd-8c3e-3ef4b8016a6e",
   "metadata": {},
   "source": [
    "### Load data"
   ]
  },
  {
   "cell_type": "code",
   "execution_count": 18,
   "id": "d965d9d2-b80e-4767-9d29-4013b60a52e7",
   "metadata": {},
   "outputs": [],
   "source": [
    "# Load the 4W phenotype\n",
    "phenotype_4W_df = pd.read_csv('data/athaliana_small.4W.pheno', delim_whitespace=True)"
   ]
  },
  {
   "cell_type": "code",
   "execution_count": 19,
   "id": "c9b36996-2a5c-4329-a1a3-fb25ba7d664e",
   "metadata": {},
   "outputs": [],
   "source": [
    "# Create the corresponding response vector\n",
    "y_4W = np.array(phenotype_4W_df[\"4W\"])"
   ]
  },
  {
   "cell_type": "code",
   "execution_count": 20,
   "id": "b75cd9c1-887c-4c23-86e7-859c93f3ea96",
   "metadata": {},
   "outputs": [],
   "source": [
    "# Create the corresponding data matrix\n",
    "X_4W = np.array(genotype_df.loc[phenotype_4W_df[\"IID\"]])"
   ]
  },
  {
   "cell_type": "code",
   "execution_count": 21,
   "id": "5fbaa38a-8528-4dff-aec7-0c09a36e2e48",
   "metadata": {},
   "outputs": [],
   "source": [
    "assert num_snps == X_4W.shape[1]"
   ]
  },
  {
   "cell_type": "markdown",
   "id": "bb97228a-bc30-4948-bd64-bc6e3ee097c9",
   "metadata": {
    "tags": []
   },
   "source": [
    "### T-tests"
   ]
  },
  {
   "cell_type": "markdown",
   "id": "8587342f-d236-4a93-99aa-4863a3a67ac4",
   "metadata": {},
   "source": [
    "__Q: Complete the following code to obtain p-values for the uncorrected 4W phenotype__"
   ]
  },
  {
   "cell_type": "code",
   "execution_count": 22,
   "id": "569f1224-0d66-4cbf-a2df-252526976369",
   "metadata": {},
   "outputs": [],
   "source": [
    "pvalues_4W = []\n",
    "for snp_idx in range(num_snps):\n",
    "    # only look a the column corresponding to that SNP\n",
    "    X_snp = # TODO\n",
    "    \n",
    "    # run a linear regression (with bias) between the phenotype and this SNP\n",
    "    est = # TODO\n",
    "    \n",
    "    # get the p-value from the model \n",
    "    pvalues_4W.append(est.pvalues[1])\n",
    "\n",
    "# convert the list of p-values to a numpy array\n",
    "pvalues_4W = np.array(pvalues_4W)"
   ]
  },
  {
   "cell_type": "markdown",
   "id": "326aa565-35cf-47ad-bf6c-f29053c2812a",
   "metadata": {},
   "source": [
    "### QQ plot"
   ]
  },
  {
   "cell_type": "markdown",
   "id": "4648bb8e-c02c-40ad-ba5b-15da247f70f8",
   "metadata": {},
   "source": [
    "__Q: Obtain a QQ plot for -log10 of the p-values for the uncorrected 4W phenotype__"
   ]
  },
  {
   "cell_type": "markdown",
   "id": "9d661736-632a-4ede-8935-3a935f5e1de8",
   "metadata": {},
   "source": [
    "__Q: What is the genomic inflation factor here?__"
   ]
  },
  {
   "cell_type": "markdown",
   "id": "5e344dc7-7140-4d89-8529-28ce4c4edf32",
   "metadata": {},
   "source": [
    "### Correct for population stratification"
   ]
  },
  {
   "cell_type": "markdown",
   "id": "4c818375-cbf1-4b67-8bbf-13e25e6cc9f9",
   "metadata": {},
   "source": [
    "__Q: Use the first 4 principal components to correct the y_4W phenotype for population stratification.__\n",
    "Call the adjusted phenotype `y_4W_corrected`, the corresponding p-values `adjusted_pvalues_4W`, and compute the corresponding genomic inflation factor. You can also plot the corresponding QQ-plot."
   ]
  },
  {
   "cell_type": "markdown",
   "id": "1e9aa8e6-15d4-4170-bcc6-13ea59f6efb8",
   "metadata": {},
   "source": [
    "### Manhattan plot"
   ]
  },
  {
   "cell_type": "markdown",
   "id": "f0e49ec1-2761-4e51-8ba5-8c1fffc88248",
   "metadata": {},
   "source": [
    "__Q: Plot the Manhattan plot for the `adjusted_pvalues_4W` p-values__."
   ]
  },
  {
   "cell_type": "markdown",
   "id": "956d0c75-a619-45e6-95b1-eb8b19aac7d6",
   "metadata": {
    "tags": []
   },
   "source": [
    "## Comparing the two phenotypes"
   ]
  },
  {
   "cell_type": "markdown",
   "id": "e18de6cc-94d7-4ef8-89bc-0eb1a65ff8b7",
   "metadata": {},
   "source": [
    "### Comparing the p-values\n",
    "\n",
    "Let us start by computing the p-values for the 2W phenotype again:"
   ]
  },
  {
   "cell_type": "code",
   "execution_count": 34,
   "id": "fb41a2fc-8324-43d7-a41a-dc147fb89267",
   "metadata": {},
   "outputs": [],
   "source": [
    "pvalues_2W = []\n",
    "for snp_idx in range(num_snps):\n",
    "    # only look a the column corresponding to that SNP\n",
    "    X_snp = X_2W[:, snp_idx]\n",
    "    \n",
    "    # run a linear regression (with bias) between the phenotype and this SNP\n",
    "    X_snp = sm.add_constant(X_snp)\n",
    "    est = sm.regression.linear_model.OLS(y_2W_corrected, X_snp)\n",
    "    est = est.fit()\n",
    "    \n",
    "    # get the p-value from the model \n",
    "    pvalues_2W.append(est.pvalues[1])\n",
    "\n",
    "# convert the list of p-values to a numpy array\n",
    "pvalues_2W = np.array(pvalues_2W)"
   ]
  },
  {
   "cell_type": "markdown",
   "id": "7567b833-d53f-4ad4-9752-0b421df91833",
   "metadata": {},
   "source": [
    "We can now plot each SNP with two coordinates: -log10 of its p-value for the 4W phenotype vs -log10 of its p-value for the 2W phenotype:"
   ]
  },
  {
   "cell_type": "code",
   "execution_count": 35,
   "id": "a94d5150-5d23-4bb8-9a9f-284067fc15e6",
   "metadata": {},
   "outputs": [
    {
     "data": {
      "text/plain": [
       "Text(0, 0.5, '-log10 of the p-value for 4W')"
      ]
     },
     "execution_count": 35,
     "metadata": {},
     "output_type": "execute_result"
    },
    {
     "data": {
      "image/png": "[encoded data removed]",
      "text/plain": [
       "<Figure size 432x288 with 1 Axes>"
      ]
     },
     "metadata": {
      "needs_background": "light"
     },
     "output_type": "display_data"
    }
   ],
   "source": [
    "plt.scatter(-np.log10(pvalues_2W), -np.log10(adjusted_pvalues_4W), s=10)\n",
    "plt.xlabel(\"-log10 of the p-value for 2W\")\n",
    "plt.ylabel(\"-log10 of the p-value for 4W\")"
   ]
  },
  {
   "cell_type": "markdown",
   "id": "a62a21f2-162f-425e-a1d9-a59b4109a3b7",
   "metadata": {},
   "source": [
    "### Comparing the Manhattan plots"
   ]
  },
  {
   "cell_type": "code",
   "execution_count": 36,
   "id": "e01cd7b6-db3d-4a1a-8cb1-1643e65efea1",
   "metadata": {},
   "outputs": [
    {
     "data": {
      "text/plain": [
       "Text(0.5, 1.0, 'Manhattan plot for 2W and 4W')"
      ]
     },
     "execution_count": 36,
     "metadata": {},
     "output_type": "execute_result"
    },
    {
     "data": {
      "image/png": "[encoded data removed]",
      "text/plain": [
       "<Figure size 720x288 with 1 Axes>"
      ]
     },
     "metadata": {
      "needs_background": "light"
     },
     "output_type": "display_data"
    }
   ],
   "source": [
    "plt.figure(figsize = (10, 4))\n",
    "\n",
    "plt.scatter(range(num_snps), -np.log10(pvalues_2W), s=10, \n",
    "            alpha=0.7, label=\"2W\")\n",
    "plt.scatter(range(num_snps), -np.log10(adjusted_pvalues_4W), s=10, \n",
    "            alpha=0.7, label=\"4W\")\n",
    "\n",
    "    \n",
    "# significance threshold according to Bonferroni correction\n",
    "significance_thr = 0.05 / num_snps\n",
    "t = -np.log10(significance_thr)\n",
    "plt.plot([0, num_snps], [t, t], color='black')\n",
    "\n",
    "# plot labels\n",
    "plt.xlabel(\"SNP index\")\n",
    "plt.ylabel(\"-log10 p-value\")\n",
    "plt.xlim([0, num_snps])\n",
    "plt.legend(loc=(1.01, 0.7))\n",
    "plt.title(\"Manhattan plot for 2W and 4W\")"
   ]
  },
  {
   "cell_type": "markdown",
   "id": "302533eb-8fa1-495b-ba34-0dd21baadc83",
   "metadata": {},
   "source": [
    "### Comparing the phenotypes"
   ]
  },
  {
   "cell_type": "markdown",
   "id": "e590bd8d-825d-4a6f-a06a-6a2bd83cdba2",
   "metadata": {},
   "source": [
    "Let us start by identifying the samples for which both phenotypes are available:"
   ]
  },
  {
   "cell_type": "code",
   "execution_count": 37,
   "id": "e7a9bb6b-0f75-4e5a-9dee-caff3e611655",
   "metadata": {},
   "outputs": [
    {
     "name": "stdout",
     "output_type": "stream",
     "text": [
      "117 samples have both phenotypes.\n"
     ]
    }
   ],
   "source": [
    "iid_both_phenotypes = pd.Series(list(set(phenotype_df[\"IID\"]).intersection(set(phenotype_4W_df[\"IID\"]))))\n",
    "print(f\"{len(iid_both_phenotypes)} samples have both phenotypes.\")"
   ]
  },
  {
   "cell_type": "code",
   "execution_count": 38,
   "id": "24fe10ca-69e2-45bc-a055-ae76099573b6",
   "metadata": {},
   "outputs": [],
   "source": [
    "# index the phenotypes DataFrames by \"IID\" to facilitate selection by IID\n",
    "phenotype_2W_df = phenotype_df.set_index('IID')\n",
    "phenotype_4W_df = phenotype_4W_df.set_index('IID')\n",
    "\n",
    "# restrict phenotypes to samples available for both\n",
    "y_2W_both = phenotype_2W_df.loc[iid_both_phenotypes][\"2W\"]\n",
    "y_4W_both = phenotype_4W_df.loc[iid_both_phenotypes][\"4W\"]"
   ]
  },
  {
   "cell_type": "code",
   "execution_count": 39,
   "id": "157cddc9-a3b8-4b08-b1c6-8cddabd3b662",
   "metadata": {},
   "outputs": [
    {
     "data": {
      "text/plain": [
       "Text(0, 0.5, '4W')"
      ]
     },
     "execution_count": 39,
     "metadata": {},
     "output_type": "execute_result"
    },
    {
     "data": {
      "image/png": "[encoded data removed]",
      "text/plain": [
       "<Figure size 288x288 with 1 Axes>"
      ]
     },
     "metadata": {
      "needs_background": "light"
     },
     "output_type": "display_data"
    }
   ],
   "source": [
    "fig = plt.figure(figsize=(4, 4))\n",
    "\n",
    "plt.scatter(y_2W_both, y_4W_both, s=20)\n",
    "\n",
    "plt.xlim(0, 130)\n",
    "plt.ylim(0, 130)\n",
    "plt.xlabel(\"2W\")\n",
    "plt.ylabel(\"4W\")"
   ]
  },
  {
   "cell_type": "markdown",
   "id": "c96e939f-fa02-43bc-a209-21b49b32b078",
   "metadata": {},
   "source": [
    "__Q: Based on the three previous plots, do you think it reasonable to make the assumption that the SNPs associated with both phenotypes are located in (almost) the same regions of the genome?__"
   ]
  },
  {
   "cell_type": "markdown",
   "id": "ace18d5d-06e4-4e00-a395-bc3b7320f62c",
   "metadata": {
    "tags": []
   },
   "source": [
    "**Answer:**"
   ]
  },
  {
   "cell_type": "markdown",
   "id": "cd05f65a-d5ca-4f26-a7bd-2ce90b986f47",
   "metadata": {},
   "source": [
    "## Multitask Lasso"
   ]
  },
  {
   "cell_type": "markdown",
   "id": "0b5216bf-ddaa-49e3-a653-6355e4efcd26",
   "metadata": {},
   "source": [
    "We will now use the multitask lasso to fit a lasso model to the 2W and the 4W phenotypes _simultaneously_. See [sklearn.linear_model.MultiTaskLasso](http://scikit-learn.org/stable/modules/generated/sklearn.linear_model.MultiTaskLasso.html#sklearn.linear_model.MultiTaskLasso) + [User Guide](http://scikit-learn.org/stable/auto_examples/linear_model/plot_multi_task_lasso_support.html)"
   ]
  },
  {
   "cell_type": "markdown",
   "id": "5c3b37c7-2b5d-43d4-9c1c-24ba4061acb1",
   "metadata": {},
   "source": [
    "### Restrict the design matrices to samples that have both phenotypes"
   ]
  },
  {
   "cell_type": "markdown",
   "id": "feff554a-8589-4bdc-abcf-43e36e2da188",
   "metadata": {},
   "source": [
    "We will consider a setting in which both phenotypes are available for all SNPs, because this is how the multitask lasso is implemented in scikit-learn."
   ]
  },
  {
   "cell_type": "code",
   "execution_count": 40,
   "id": "9ce30108-a351-4162-8df0-14ad365621a0",
   "metadata": {},
   "outputs": [],
   "source": [
    "X_both = np.array(genotype_df.loc[iid_both_phenotypes])"
   ]
  },
  {
   "cell_type": "markdown",
   "id": "f17ed606-18b1-4fdd-bffd-891fde89903c",
   "metadata": {},
   "source": [
    "### Correct for population stratification"
   ]
  },
  {
   "cell_type": "code",
   "execution_count": 64,
   "id": "f295a17f-dbb6-4da2-af75-b34f9ea366ca",
   "metadata": {},
   "outputs": [],
   "source": [
    "# Compute the first 4 principal components\n",
    "pca = decomposition.PCA(n_components=4)\n",
    "pca.fit(X_both)\n",
    "principal_components = X_both.dot(pca.components_.T) "
   ]
  },
  {
   "cell_type": "code",
   "execution_count": 65,
   "id": "8214cee0-af7a-4cc2-bc26-883a850e9ad1",
   "metadata": {},
   "outputs": [],
   "source": [
    "# Correction\n",
    "model = linear_model.LinearRegression()\n",
    "\n",
    "# For 2W\n",
    "model.fit(principal_components, y_2W_both)\n",
    "y_pred = model.predict(principal_components)\n",
    "y_2W_corrected = y_2W_both - y_pred\n",
    "\n",
    "# For 4W\n",
    "model.fit(principal_components, y_4W_both)\n",
    "y_pred = model.predict(principal_components)\n",
    "y_4W_corrected = y_4W_both - y_pred"
   ]
  },
  {
   "cell_type": "markdown",
   "id": "6e9747b1-75b4-4d1b-bf1a-305eea03c6bb",
   "metadata": {},
   "source": [
    "### Create a multilabel response array"
   ]
  },
  {
   "cell_type": "code",
   "execution_count": 66,
   "id": "8fd1d3a7-c3a2-434e-ac90-40adc9a40811",
   "metadata": {},
   "outputs": [],
   "source": [
    "y_both = np.vstack((y_2W_corrected, y_4W_corrected)).T"
   ]
  },
  {
   "cell_type": "code",
   "execution_count": 67,
   "id": "7affb8a0-41ea-467c-b29c-7629bdc68518",
   "metadata": {},
   "outputs": [
    {
     "data": {
      "text/plain": [
       "(117, 2)"
      ]
     },
     "execution_count": 67,
     "metadata": {},
     "output_type": "execute_result"
    }
   ],
   "source": [
    "y_both.shape"
   ]
  },
  {
   "cell_type": "markdown",
   "id": "8fc42549-e0e8-4099-9daf-c32ebb1efbeb",
   "metadata": {},
   "source": [
    "__Q: How does this numpy array differ from the one we used for the single-task lasso?__"
   ]
  },
  {
   "cell_type": "markdown",
   "id": "e4429f42-f31a-4b3b-84ef-c53b554be10d",
   "metadata": {},
   "source": [
    "__Anwer:__"
   ]
  },
  {
   "cell_type": "markdown",
   "id": "ac66e8de-85e5-4328-bd17-c073dbb119f4",
   "metadata": {},
   "source": [
    "### Split the data in train/test"
   ]
  },
  {
   "cell_type": "code",
   "execution_count": 68,
   "id": "ea13694b-f29d-4d10-bc57-714a23071142",
   "metadata": {},
   "outputs": [
    {
     "name": "stdout",
     "output_type": "stream",
     "text": [
      "Training set shape: (93, 9419)\n",
      "Test set shape: (24, 9419)\n"
     ]
    }
   ],
   "source": [
    "X_both_tr, X_both_te, y_both_tr, y_both_te = \\\n",
    "    model_selection.train_test_split(X_both, y_both, test_size=0.2, random_state=42)\n",
    "print(f\"Training set shape: {X_both_tr.shape}\\nTest set shape: {X_both_te.shape}\")"
   ]
  },
  {
   "cell_type": "markdown",
   "id": "6685b16e-3c7c-4d5e-9b4e-3074409778ad",
   "metadata": {},
   "source": [
    "### Scale the phenotypes"
   ]
  },
  {
   "cell_type": "code",
   "execution_count": 69,
   "id": "f2334392-0cc5-4908-b114-cb146581a5ac",
   "metadata": {},
   "outputs": [],
   "source": [
    "scaler = preprocessing.StandardScaler()\n",
    "scaler.fit(y_both_tr)\n",
    "y_both_tr_scaled = scaler.transform(y_both_tr)"
   ]
  },
  {
   "cell_type": "code",
   "execution_count": 70,
   "id": "3dd7ffe6-8b0e-46ea-bc91-3702a612bf5d",
   "metadata": {},
   "outputs": [],
   "source": [
    "y_both_te_scaled = scaler.transform(y_both_te)"
   ]
  },
  {
   "cell_type": "markdown",
   "id": "2ea83b85-3eac-4b7d-9425-5f6cf2b0d812",
   "metadata": {},
   "source": [
    "### Fitting a multitask Lasso"
   ]
  },
  {
   "cell_type": "code",
   "execution_count": 71,
   "id": "5cf29fc8-ff5b-4a6b-81ff-d8372aa944ff",
   "metadata": {},
   "outputs": [
    {
     "name": "stdout",
     "output_type": "stream",
     "text": [
      "The maximum value of alpha for a Lasso on 2W is 0.443.\n"
     ]
    }
   ],
   "source": [
    "alpha_max, alpha_min = linear_model._coordinate_descent._alpha_grid(X_both_tr, y_both_tr_scaled[:, 0], n_alphas=2, l1_ratio=0.5)\n",
    "print(f\"The maximum value of alpha for a Lasso on 2W is {alpha_max:.3f}.\")"
   ]
  },
  {
   "cell_type": "code",
   "execution_count": 72,
   "id": "4d482555-0ff8-41af-8a50-f65f0e9a1687",
   "metadata": {},
   "outputs": [
    {
     "name": "stdout",
     "output_type": "stream",
     "text": [
      "The maximum value of alpha for a Lasso on 4W is 0.434.\n"
     ]
    }
   ],
   "source": [
    "alpha_max, alpha_min = linear_model._coordinate_descent._alpha_grid(X_both_tr, y_both_tr_scaled[:, 1], n_alphas=2, l1_ratio=0.5)\n",
    "print(f\"The maximum value of alpha for a Lasso on 4W is {alpha_max:.3f}.\")"
   ]
  },
  {
   "cell_type": "code",
   "execution_count": 73,
   "id": "66b7a80a-ebab-4a64-95f9-6f2373d9cf1b",
   "metadata": {},
   "outputs": [],
   "source": [
    "mtlasso = linear_model.MultiTaskLasso(fit_intercept=True, max_iter=1000)"
   ]
  },
  {
   "cell_type": "code",
   "execution_count": 91,
   "id": "01e3cb72-b04d-4d76-8115-e21516c025e6",
   "metadata": {},
   "outputs": [
    {
     "name": "stdout",
     "output_type": "stream",
     "text": [
      "Fitting 5 folds for each of 10 candidates, totalling 50 fits\n",
      "[CV 1/5] END ..........alpha=0.2214933328835333;, score=0.001 total time=   0.0s\n",
      "[CV 2/5] END .........alpha=0.2214933328835333;, score=-0.011 total time=   0.0s\n",
      "[CV 3/5] END .........alpha=0.2214933328835333;, score=-0.203 total time=   0.1s\n",
      "[CV 4/5] END ..........alpha=0.2214933328835333;, score=0.053 total time=   0.0s\n",
      "[CV 5/5] END .........alpha=0.2214933328835333;, score=-0.131 total time=   0.0s\n",
      "[CV 1/5] END .........alpha=0.1327817646143285;, score=-0.042 total time=   0.1s\n",
      "[CV 2/5] END ..........alpha=0.1327817646143285;, score=0.175 total time=   0.1s\n",
      "[CV 3/5] END .........alpha=0.1327817646143285;, score=-0.209 total time=   0.1s\n",
      "[CV 4/5] END ..........alpha=0.1327817646143285;, score=0.101 total time=   0.1s\n",
      "[CV 5/5] END ..........alpha=0.1327817646143285;, score=0.126 total time=   0.2s\n",
      "[CV 1/5] END ........alpha=0.07960057661584678;, score=-0.120 total time=   0.2s\n",
      "[CV 2/5] END .........alpha=0.07960057661584678;, score=0.245 total time=   0.2s\n",
      "[CV 3/5] END ........alpha=0.07960057661584678;, score=-0.167 total time=   0.1s\n",
      "[CV 4/5] END .........alpha=0.07960057661584678;, score=0.053 total time=   0.1s\n",
      "[CV 5/5] END .........alpha=0.07960057661584678;, score=0.250 total time=   0.3s\n",
      "[CV 1/5] END ........alpha=0.04771929199750635;, score=-0.202 total time=   0.6s\n",
      "[CV 2/5] END .........alpha=0.04771929199750635;, score=0.314 total time=   0.1s\n",
      "[CV 3/5] END ........alpha=0.04771929199750635;, score=-0.202 total time=   0.1s\n",
      "[CV 4/5] END .........alpha=0.04771929199750635;, score=0.021 total time=   0.1s\n",
      "[CV 5/5] END .........alpha=0.04771929199750635;, score=0.311 total time=   0.2s\n",
      "[CV 1/5] END .......alpha=0.028606963988875744;, score=-0.274 total time=   0.5s\n",
      "[CV 2/5] END ........alpha=0.028606963988875744;, score=0.352 total time=   0.2s\n",
      "[CV 3/5] END .......alpha=0.028606963988875744;, score=-0.220 total time=   0.2s\n",
      "[CV 4/5] END .......alpha=0.028606963988875744;, score=-0.093 total time=   0.3s\n",
      "[CV 5/5] END ........alpha=0.028606963988875744;, score=0.359 total time=   0.2s\n",
      "[CV 1/5] END .......alpha=0.017149424360772113;, score=-0.255 total time=   1.1s\n",
      "[CV 2/5] END ........alpha=0.017149424360772113;, score=0.384 total time=   0.3s\n",
      "[CV 3/5] END .......alpha=0.017149424360772113;, score=-0.220 total time=   0.3s\n",
      "[CV 4/5] END .......alpha=0.017149424360772113;, score=-0.171 total time=   0.3s\n",
      "[CV 5/5] END ........alpha=0.017149424360772113;, score=0.404 total time=   0.5s\n",
      "[CV 1/5] END .......alpha=0.010280809806318854;, score=-0.275 total time=   1.0s\n",
      "[CV 2/5] END ........alpha=0.010280809806318854;, score=0.411 total time=   0.4s\n",
      "[CV 3/5] END .......alpha=0.010280809806318854;, score=-0.213 total time=   0.4s\n",
      "[CV 4/5] END .......alpha=0.010280809806318854;, score=-0.204 total time=   0.6s\n",
      "[CV 5/5] END ........alpha=0.010280809806318854;, score=0.432 total time=   0.6s\n",
      "[CV 1/5] END .......alpha=0.006163183559412679;, score=-0.327 total time=   1.0s\n",
      "[CV 2/5] END ........alpha=0.006163183559412679;, score=0.436 total time=   0.6s\n",
      "[CV 3/5] END .......alpha=0.006163183559412679;, score=-0.237 total time=   0.5s\n",
      "[CV 4/5] END .......alpha=0.006163183559412679;, score=-0.138 total time=   1.0s\n",
      "[CV 5/5] END ........alpha=0.006163183559412679;, score=0.432 total time=   0.8s\n",
      "[CV 1/5] END .......alpha=0.003694731475692532;, score=-0.349 total time=   1.0s\n",
      "[CV 2/5] END ........alpha=0.003694731475692532;, score=0.432 total time=   0.8s\n",
      "[CV 3/5] END .......alpha=0.003694731475692532;, score=-0.265 total time=   0.7s\n",
      "[CV 4/5] END .......alpha=0.003694731475692532;, score=-0.101 total time=   1.0s\n",
      "[CV 5/5] END ........alpha=0.003694731475692532;, score=0.429 total time=   1.1s\n",
      "[CV 1/5] END ......alpha=0.0022149333288353315;, score=-0.370 total time=   1.3s\n",
      "[CV 2/5] END .......alpha=0.0022149333288353315;, score=0.417 total time=   1.2s\n",
      "[CV 3/5] END ......alpha=0.0022149333288353315;, score=-0.286 total time=   1.1s\n",
      "[CV 4/5] END ......alpha=0.0022149333288353315;, score=-0.116 total time=   1.2s\n",
      "[CV 5/5] END .......alpha=0.0022149333288353315;, score=0.439 total time=   1.2s\n"
     ]
    },
    {
     "data": {
      "text/plain": [
       "GridSearchCV(cv=5, estimator=MultiTaskLasso(),\n",
       "             param_grid={'alpha': array([0.22149333, 0.13278176, 0.07960058, 0.04771929, 0.02860696,\n",
       "       0.01714942, 0.01028081, 0.00616318, 0.00369473, 0.00221493])},\n",
       "             verbose=3)"
      ]
     },
     "execution_count": 91,
     "metadata": {},
     "output_type": "execute_result"
    }
   ],
   "source": [
    "# Grid of values for the two regularization parameters\n",
    "alphas = linear_model._coordinate_descent._alpha_grid(X_both_tr, y_both_tr_scaled[:, 0], n_alphas=10, eps=1e-2)\n",
    "\n",
    "# Set up the grid search cross validation\n",
    "model_mt = model_selection.GridSearchCV(mtlasso, param_grid={'alpha': alphas}, \n",
    "                                        cv=5, verbose=3)\n",
    "\n",
    "# Use the grid search cross validation on the training data\n",
    "model_mt.fit(X_both_tr, y_both_tr_scaled)"
   ]
  },
  {
   "cell_type": "code",
   "execution_count": 92,
   "id": "04e1c61e-fc09-48a3-b73e-4f1ad61034e7",
   "metadata": {},
   "outputs": [
    {
     "name": "stdout",
     "output_type": "stream",
     "text": [
      "The best value of alpha is 0.0796\n"
     ]
    }
   ],
   "source": [
    "print(f\"The best value of alpha is {model_mt.best_params_['alpha']:.4f}\")"
   ]
  },
  {
   "cell_type": "code",
   "execution_count": 93,
   "id": "39c2d395-ed1a-4478-8a56-3e141f3096ed",
   "metadata": {},
   "outputs": [
    {
     "data": {
      "text/plain": [
       "<matplotlib.legend.Legend at 0x7f0a96e17c10>"
      ]
     },
     "execution_count": 93,
     "metadata": {},
     "output_type": "execute_result"
    },
    {
     "data": {
      "image/png": "[encoded data removed]",
      "text/plain": [
       "<Figure size 720x288 with 1 Axes>"
      ]
     },
     "metadata": {
      "needs_background": "light"
     },
     "output_type": "display_data"
    }
   ],
   "source": [
    "plt.figure(figsize = (10, 4))\n",
    "# plot for 2W\n",
    "plt.scatter(range(num_snps), model_mt.best_estimator_.coef_[0, :], s=10) \n",
    "nonzero_weight_indices_2W = np.where(model_mt.best_estimator_.coef_[0, :])[0]\n",
    "plt.scatter(nonzero_weight_indices_2W, model_mt.best_estimator_.coef_[0, nonzero_weight_indices_2W], \n",
    "            marker=\"*\", s=20, label=\"2W\") \n",
    "# plot for 4W\n",
    "nonzero_weight_indices_4W = np.where(model_mt.best_estimator_.coef_[1, :])[0]\n",
    "plt.scatter(nonzero_weight_indices_4W, model_mt.best_estimator_.coef_[1, nonzero_weight_indices_4W], \n",
    "            marker=\"d\", s=20, label=\"4W\") \n",
    "\n",
    "plt.xlabel(\"SNP index\")\n",
    "plt.ylabel(\"regression weight\")\n",
    "plt.xlim([0, num_snps])\n",
    "plt.title(\"Regression coefficients of a multitask lasso\")\n",
    "plt.legend()"
   ]
  },
  {
   "cell_type": "markdown",
   "id": "ea1fe1c9-c0c0-4525-b19c-2a11d24fb8f4",
   "metadata": {},
   "source": [
    "__Q: Compare these regression coefficients to that of a lasso. Can you see why we can hope this solution to be more stable?__"
   ]
  },
  {
   "cell_type": "markdown",
   "id": "76024c6e-b5d8-45e1-b02e-2dc44fd7c3cc",
   "metadata": {},
   "source": [
    "__Answer:__"
   ]
  },
  {
   "cell_type": "code",
   "execution_count": 94,
   "id": "8f208203-f46b-4aed-8e3b-0297b4afb858",
   "metadata": {},
   "outputs": [
    {
     "name": "stdout",
     "output_type": "stream",
     "text": [
      "47 SNPs were selected for both phenotypes\n"
     ]
    }
   ],
   "source": [
    "print(f\"{len(set(nonzero_weight_indices_2W).intersection(set(nonzero_weight_indices_4W)))} SNPs were selected for both phenotypes\")"
   ]
  },
  {
   "cell_type": "code",
   "execution_count": 95,
   "id": "10dce780-3690-4b7d-8bad-c8cd1b7c80b9",
   "metadata": {},
   "outputs": [
    {
     "name": "stdout",
     "output_type": "stream",
     "text": [
      "47 of the 47 selected SNP(s) for 2W point to 50 candidate genes.\n"
     ]
    }
   ],
   "source": [
    "selected_candidate_genes_2W = []\n",
    "num_snps_pointing_to_candidates = 0\n",
    "for snp_name in genotype_df.columns[nonzero_weight_indices_2W]:\n",
    "    matching_genes = genes_by_snp[snp_name]\n",
    "    candidate_matching_genes = set(matching_genes).intersection(set(candidate_genes))\n",
    "    if len(candidate_matching_genes):\n",
    "        num_snps_pointing_to_candidates += 1\n",
    "        selected_candidate_genes_2W.extend(candidate_matching_genes)\n",
    "print(f\"{num_snps_pointing_to_candidates} of the {len(nonzero_weight_indices_2W)} selected SNP(s) for 2W point to {len(selected_candidate_genes_2W)} candidate genes.\")"
   ]
  },
  {
   "cell_type": "code",
   "execution_count": 96,
   "id": "0fc957fc-077f-45de-b7bb-5831c3e7f5db",
   "metadata": {},
   "outputs": [
    {
     "name": "stdout",
     "output_type": "stream",
     "text": [
      "47 of the 47 selected SNP(s) for 4W point to 50 candidate genes.\n"
     ]
    }
   ],
   "source": [
    "selected_candidate_genes_4W = []\n",
    "num_snps_pointing_to_candidates = 0\n",
    "for snp_name in genotype_df.columns[nonzero_weight_indices_4W]:\n",
    "    matching_genes = genes_by_snp[snp_name]\n",
    "    candidate_matching_genes = set(matching_genes).intersection(set(candidate_genes))\n",
    "    if len(candidate_matching_genes):\n",
    "        num_snps_pointing_to_candidates += 1\n",
    "        selected_candidate_genes_4W.extend(candidate_matching_genes)\n",
    "print(f\"{num_snps_pointing_to_candidates} of the {len(nonzero_weight_indices_4W)} selected SNP(s) for 4W point to {len(selected_candidate_genes_4W)} candidate genes.\")"
   ]
  },
  {
   "cell_type": "markdown",
   "id": "2c59b084-865e-4720-a84c-c05b25a024d9",
   "metadata": {
    "tags": []
   },
   "source": [
    "### Quality of model fit\n",
    "\n",
    "As before, we can check how well our model fits the data it was trained on."
   ]
  },
  {
   "cell_type": "markdown",
   "id": "59e4c6c3-428a-4b4e-a994-4d1b73f19a35",
   "metadata": {},
   "source": [
    "__Q: Compute the percentage of variance explained by the multitask lasso on the training set. Plot the predictions vs the true phentoypes.__"
   ]
  },
  {
   "cell_type": "markdown",
   "id": "5d5fc540-d189-4434-9fc3-3cf12ade7329",
   "metadata": {},
   "source": [
    "__Q: How well does the model fit the training data? Compare to the single-task lasso.__"
   ]
  },
  {
   "cell_type": "markdown",
   "id": "bb39425d-40c8-4f09-bd42-c5e92198c4ac",
   "metadata": {
    "tags": []
   },
   "source": [
    "**Answer:**"
   ]
  },
  {
   "cell_type": "markdown",
   "id": "c7e87d12-305d-42e4-b499-c4ed863779ca",
   "metadata": {},
   "source": [
    "### Model predictive power "
   ]
  },
  {
   "cell_type": "markdown",
   "id": "8f99cbbb-8c88-43a7-b3c7-e7082ed23d2f",
   "metadata": {},
   "source": [
    "__Q: Compute the percentage of variance explained by the multitask lasso on the test set. Plot the predictions vs the true phentoypes.__"
   ]
  },
  {
   "cell_type": "markdown",
   "id": "5c16b8c3-212c-4ca4-aaa3-37274b60a0fb",
   "metadata": {},
   "source": [
    "__Q: How well does the model predict on the test data? Compare to previous models__"
   ]
  },
  {
   "cell_type": "markdown",
   "id": "e6005cd6-e93a-48ac-8b18-8b06169aa6f6",
   "metadata": {
    "tags": []
   },
   "source": [
    "**Answer:**"
   ]
  },
  {
   "cell_type": "markdown",
   "id": "170ac965-ff06-4b97-9361-4ec7d6db3c71",
   "metadata": {},
   "source": [
    "## Stability of Multitask Lasso\n",
    "\n",
    "Let us wrap what we did in the Multitask Lasso section into a method which takes a data set as input and selects the features significantly associated with the output."
   ]
  },
  {
   "cell_type": "code",
   "execution_count": 103,
   "id": "73081ab9-3ec9-471e-ba35-69071e5f2ffb",
   "metadata": {},
   "outputs": [],
   "source": [
    "def mtlasso_selection_procedure(X_train, y_train):\n",
    "    \"\"\"\n",
    "    Fits a multitask lasso to the data. Returns the features with non-zero coefficients.\n",
    "    \n",
    "    Input parameters\n",
    "    ----------------\n",
    "    X_train: (n_samples, n_features) np.array\n",
    "       training data\n",
    "    y_train: (n_samples, n_tasks) np.array\n",
    "       training labels\n",
    "    \n",
    "    Output\n",
    "    ------\n",
    "    selection: (n_features, ) np.array\n",
    "        for j=1..n_features:\n",
    "            selection[j] = 0 if j is not selected for task 0\n",
    "            selection[j] = 1 otherwise.       \n",
    "    \"\"\"\n",
    "    # create a multitask lasso object\n",
    "    mtlasso = linear_model.MultiTaskLasso(fit_intercept=True, max_iter=1000)\n",
    "    \n",
    "    # Grid of values for the regularization hyperparameters\n",
    "    alphas = linear_model._coordinate_descent._alpha_grid(X_train, y_train[:, 0], n_alphas=10, eps=1e-2)\n",
    "\n",
    "\n",
    "    # Set up the grid search cross validation\n",
    "    model_mtl1 = model_selection.GridSearchCV(mtlasso, param_grid={'alpha': alphas}, \n",
    "                                              cv=5)\n",
    "\n",
    "    # Use the grid search cross validation on the training data\n",
    "    model_mtl1.fit(X_train, y_train)\n",
    "    \n",
    "    # Consider the non-zero coefficients as selected\n",
    "    return(np.where(model_mtl1.best_estimator_.coef_[0, :], 1, 0))"
   ]
  },
  {
   "cell_type": "code",
   "execution_count": 104,
   "id": "475abe0e-1ba3-4311-8fc4-070d13bec8e2",
   "metadata": {},
   "outputs": [],
   "source": [
    "# use 90% of the data size as subsample size\n",
    "subsize = int(round(0.9*len(y_both_tr)))\n",
    "\n",
    "# compute stability\n",
    "mtlasso_stab = stability(X_both_tr, y_both_tr_scaled, mtlasso_selection_procedure, 10, subsize)"
   ]
  },
  {
   "cell_type": "code",
   "execution_count": 105,
   "id": "79dd2fb0-269f-4eab-b13d-1d5cecfabccd",
   "metadata": {},
   "outputs": [
    {
     "name": "stdout",
     "output_type": "stream",
     "text": [
      "The stability of the Multitask Lasso selection for phenotype 2W is: 0.482\n"
     ]
    }
   ],
   "source": [
    "print(f\"The stability of the Multitask Lasso selection for phenotype 2W is: {mtlasso_stab:.3f}\")"
   ]
  },
  {
   "cell_type": "markdown",
   "id": "e3c8ff8d-ed0d-43ed-879d-58915e68d393",
   "metadata": {},
   "source": [
    "__Q: Compare this stability to those previously obtained with the t-test and various lasso variants__"
   ]
  },
  {
   "cell_type": "markdown",
   "id": "c2b372a6-6408-4d95-89ec-8d2aa97f2387",
   "metadata": {},
   "source": [
    "__Anwer:__"
   ]
  },
  {
   "cell_type": "markdown",
   "id": "40b6c501-5a0b-4d7f-9cc0-3c8b88ecb70f",
   "metadata": {},
   "source": [
    "__Q: How could you modify the above code to obtain the stability of the Multitask Lasso selection procedure for the 4W phenotype?__"
   ]
  },
  {
   "cell_type": "markdown",
   "id": "83254a25-e84d-4358-adf5-29a4b26ff17a",
   "metadata": {},
   "source": [
    "__Anwer:__"
   ]
  },
  {
   "cell_type": "markdown",
   "id": "c6a22732-2962-4ae2-9546-95da7a2d99b7",
   "metadata": {
    "tags": []
   },
   "source": [
    "## Stability of Multitask Lasso with fixed regularization coefficient\n",
    "\n",
    "We can also fix the values of the regularization coefficient to see whether this improves stability."
   ]
  },
  {
   "cell_type": "markdown",
   "id": "888f861b-033e-4754-a3b2-9616bbca6117",
   "metadata": {},
   "source": [
    "__Q: Write a function `fixed_hyperparam_mtlasso_selection_procedure` that has the following signature:__"
   ]
  },
  {
   "cell_type": "code",
   "execution_count": 113,
   "id": "552205f2-2cd4-45d9-8989-b5c31846848f",
   "metadata": {},
   "outputs": [],
   "source": [
    "def fixed_hyperparam_mtlasso_selection_procedure(X_train, y_train):\n",
    "    \"\"\"\n",
    "    Fits a multitask lasso on the data. Returns the features with non-zero coefficients.\n",
    "\n",
    "    Rather than cross-validating the value of alpha, cheat\n",
    "    and use the previously determined optimal value.\n",
    "    \n",
    "    Input parameters\n",
    "    ----------------\n",
    "    X_train: (n_samples, n_features) np.array\n",
    "       training data\n",
    "    y_train: (n_samples, n_tasks) np.array\n",
    "       training labels\n",
    "    \n",
    "    Output\n",
    "    ------\n",
    "    selection: (n_features, ) np.array\n",
    "        for j=1..n_features:\n",
    "            selection[j] = 0 if j is not selected for task 0\n",
    "            selection[j] = 1 otherwise.       \n",
    "    \"\"\""
   ]
  },
  {
   "cell_type": "markdown",
   "id": "6f5dc910-7db0-456a-adce-3c66d56d39e9",
   "metadata": {},
   "source": [
    "__Q: Now use this function to compute the stability of the multitask lasso selection with fixed regularization hyperparameter, and compare it to the previously obtained stabilities.__"
   ]
  },
  {
   "cell_type": "code",
   "execution_count": null,
   "id": "3e9d1bfc-b83f-4a4b-b161-fe90a82b7bb8",
   "metadata": {},
   "outputs": [],
   "source": []
  },
  {
   "cell_type": "markdown",
   "id": "9ed304ce-55bf-4c0c-8238-72e06e808bb4",
   "metadata": {
    "tags": []
   },
   "source": [
    "## Further practice: use a multitask Elastic Net\n",
    "See the [user guide](https://scikit-learn.org/stable/modules/linear_model.html#multi-task-elastic-net) and [API](https://scikit-learn.org/stable/modules/generated/sklearn.linear_model.MultiTaskElasticNet.html#sklearn.linear_model.MultiTaskElasticNet) for the Multitask Elastic Net."
   ]
  },
  {
   "cell_type": "markdown",
   "id": "742c47d8-0828-440c-8905-c017640035e1",
   "metadata": {},
   "source": [
    "__Q: Run the same study as with the Multitask Lasso, but with the Multitask Elastic Net instead__"
   ]
  },
  {
   "cell_type": "code",
   "execution_count": null,
   "id": "6b1f5bf0-c448-4201-aa24-7a022ee14f1f",
   "metadata": {},
   "outputs": [],
   "source": []
  }
 ],
 "metadata": {
  "kernelspec": {
   "display_name": "Python 3 (ipykernel)",
   "language": "python",
   "name": "python3"
  },
  "language_info": {
   "codemirror_mode": {
    "name": "ipython",
    "version": 3
   },
   "file_extension": ".py",
   "mimetype": "text/x-python",
   "name": "python",
   "nbconvert_exporter": "python",
   "pygments_lexer": "ipython3",
   "version": "3.8.12"
  }
 },
 "nbformat": 4,
 "nbformat_minor": 5
}
