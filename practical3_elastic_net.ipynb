{
 "cells": [
  {
   "cell_type": "markdown",
   "metadata": {},
   "source": [
    "# Machine learning for gelnetic data — Part 3: Elastic Net"
   ]
  },
  {
   "cell_type": "markdown",
   "metadata": {},
   "source": [
    "## Reload librairies and data\n",
    "\n",
    "Let us first reload the librairies and data used in previous parts. You can run this entire section (until the \"Elastic Net\" section) \"blindly\"."
   ]
  },
  {
   "cell_type": "code",
   "execution_count": 1,
   "metadata": {},
   "outputs": [],
   "source": [
    "# make sure graphics are displayed inline (rather than opened in new windows)\n",
    "%matplotlib inline \n",
    "\n",
    "# imports\n",
    "import matplotlib.pyplot as plt\n",
    "import numpy as np"
   ]
  },
  {
   "cell_type": "code",
   "execution_count": 2,
   "metadata": {},
   "outputs": [],
   "source": [
    "import pandas as pd"
   ]
  },
  {
   "cell_type": "code",
   "execution_count": 3,
   "metadata": {},
   "outputs": [],
   "source": [
    "plt.rc('font', **{'size': 14}) # font size for text on plots"
   ]
  },
  {
   "cell_type": "code",
   "execution_count": 4,
   "metadata": {},
   "outputs": [],
   "source": [
    "from sklearn import decomposition, linear_model, metrics, model_selection, preprocessing"
   ]
  },
  {
   "cell_type": "code",
   "execution_count": 5,
   "metadata": {},
   "outputs": [],
   "source": [
    "import scipy.stats as st"
   ]
  },
  {
   "cell_type": "code",
   "execution_count": 6,
   "metadata": {},
   "outputs": [],
   "source": [
    "import warnings\n",
    "from sklearn.exceptions import ConvergenceWarning\n",
    "warnings.filterwarnings(\"ignore\", category=ConvergenceWarning, module=\"sklearn\")"
   ]
  },
  {
   "cell_type": "markdown",
   "metadata": {},
   "source": [
    "### Load data"
   ]
  },
  {
   "cell_type": "code",
   "execution_count": 7,
   "metadata": {},
   "outputs": [],
   "source": [
    "# Load the genotype data\n",
    "genotype_df = pd.read_csv(\"data/athaliana_small.genotype.txt\")\n",
    "genotype_df = genotype_df.set_index(\"Sample\")"
   ]
  },
  {
   "cell_type": "code",
   "execution_count": 8,
   "metadata": {},
   "outputs": [],
   "source": [
    "# Load the 2W phenotype\n",
    "phenotype_df = pd.read_csv('data/athaliana_small.2W.pheno', delim_whitespace=True)"
   ]
  },
  {
   "cell_type": "code",
   "execution_count": 9,
   "metadata": {},
   "outputs": [],
   "source": [
    "# Create the corresponding response vector\n",
    "y_2W = np.array(phenotype_df[\"2W\"])"
   ]
  },
  {
   "cell_type": "code",
   "execution_count": 10,
   "metadata": {},
   "outputs": [],
   "source": [
    "# Create the corresponding data matrix\n",
    "X_2W = np.array(genotype_df.loc[phenotype_df[\"IID\"]])"
   ]
  },
  {
   "cell_type": "code",
   "execution_count": 11,
   "metadata": {},
   "outputs": [],
   "source": [
    "num_snps = X_2W.shape[1]"
   ]
  },
  {
   "cell_type": "code",
   "execution_count": 12,
   "metadata": {},
   "outputs": [],
   "source": [
    "# Load the list of candidate genes\n",
    "with open('data/candidate_genes.txt') as f:\n",
    "    candidate_genes = f.readline().split()\n",
    "    f.close()"
   ]
  },
  {
   "cell_type": "code",
   "execution_count": 13,
   "metadata": {},
   "outputs": [],
   "source": [
    "# Load the SNP to gene mapping\n",
    "genes_by_snp = {} # key: SNP, value = [genes in/near which this SNP is]\n",
    "with open('data/snps_by_gene.txt') as f:\n",
    "    for line in f:\n",
    "        ls = line.split()\n",
    "        gene_id = ls[0]\n",
    "        for snp_id in ls[1:]:\n",
    "            if not snp_id in genes_by_snp:\n",
    "                genes_by_snp[snp_id] = []\n",
    "            genes_by_snp[snp_id].append(gene_id) "
   ]
  },
  {
   "cell_type": "markdown",
   "metadata": {},
   "source": [
    "### Correct the phenotype for population structure"
   ]
  },
  {
   "cell_type": "code",
   "execution_count": 14,
   "metadata": {},
   "outputs": [],
   "source": [
    "pca = decomposition.PCA(n_components=5)\n",
    "pca.fit(X_2W)\n",
    "principal_components = X_2W.dot(pca.components_.T) \n",
    "\n",
    "# Fit a linear model between the phenotype and the principal components\n",
    "model = linear_model.LinearRegression()\n",
    "model.fit(principal_components, y_2W)\n",
    "\n",
    "# Compute the model's residuals\n",
    "y_pred = model.predict(principal_components)\n",
    "y_2W_corrected = y_2W - y_pred"
   ]
  },
  {
   "cell_type": "markdown",
   "metadata": {},
   "source": [
    "### Split the data in train/test"
   ]
  },
  {
   "cell_type": "code",
   "execution_count": 15,
   "metadata": {},
   "outputs": [
    {
     "name": "stdout",
     "output_type": "stream",
     "text": [
      "Training set shape: (121, 9419)\n",
      "Test set shape: (31, 9419)\n"
     ]
    }
   ],
   "source": [
    "X_2W_tr, X_2W_te, y_2W_tr, y_2W_te = \\\n",
    "    model_selection.train_test_split(X_2W, y_2W_corrected, test_size=0.2, random_state=42)\n",
    "print(f\"Training set shape: {X_2W_tr.shape}\\nTest set shape: {X_2W_te.shape}\")"
   ]
  },
  {
   "cell_type": "markdown",
   "metadata": {},
   "source": [
    "### Scale the phenotype"
   ]
  },
  {
   "cell_type": "code",
   "execution_count": 16,
   "metadata": {},
   "outputs": [],
   "source": [
    "scaler = preprocessing.StandardScaler()\n",
    "scaler.fit(y_2W_tr.reshape(-1, 1))\n",
    "y_2W_tr_scaled = scaler.transform(y_2W_tr.reshape(-1, 1)).reshape(-1, )"
   ]
  },
  {
   "cell_type": "code",
   "execution_count": 17,
   "metadata": {},
   "outputs": [],
   "source": [
    "y_2W_te_scaled = scaler.transform(y_2W_te.reshape(-1, 1)).reshape(-1, )"
   ]
  },
  {
   "cell_type": "markdown",
   "metadata": {},
   "source": [
    "### Functions to measure stability"
   ]
  },
  {
   "cell_type": "code",
   "execution_count": 18,
   "metadata": {},
   "outputs": [],
   "source": [
    "def pearson_corr(vector1, vector2):\n",
    "    \"\"\"\n",
    "    Returns Pearson's correlation between two vectors of 0 and 1. \n",
    "    \"\"\"\n",
    "    # if the first or the second vector is constant\n",
    "    if (vector1 == vector1[0]).all() and (vector2 == vector2[0]).all():\n",
    "            # return 1 if both are the same and 0 otherwise\n",
    "            return 1. if (vector1[0] == vector2[0]) else 0.\n",
    "    return st.pearsonr(vector1, vector2)[0]"
   ]
  },
  {
   "cell_type": "markdown",
   "metadata": {},
   "source": [
    "Now we can define a function that measures the stability of a selection procedure."
   ]
  },
  {
   "cell_type": "code",
   "execution_count": 19,
   "metadata": {},
   "outputs": [],
   "source": [
    "def stability(X_train, y_train, selection_procedure, num_subsamples, subsample_size):\n",
    "    \"\"\"\n",
    "    Sample the training data (X_train, y_train) num_subsamples times.\n",
    "    Apply the selection procedure on each subsample.\n",
    "    Return a mesure of stability of the procedure\n",
    "    \n",
    "    Input parameters\n",
    "    ----------------\n",
    "    X_train: (n_samples, n_features) np.array\n",
    "       training data\n",
    "    y_train: (n_samples, ) np.array\n",
    "       training labels\n",
    "    selection_procedure: function\n",
    "       input parameters: (training_data, training_labels)\n",
    "       outputs: (n_features, ) np.array of 0 and 1 \n",
    "           1 for selected features\n",
    "           0 for non-selected features\n",
    "    num_subsamples: int\n",
    "        number of subsamples to use\n",
    "    subsample_size: int\n",
    "        number of samples in the subsample   \n",
    "        \n",
    "    Output\n",
    "    ------\n",
    "    pearson_corr: float\n",
    "        Pearson's measure of stability of the selection procedure\n",
    "    \"\"\"\n",
    "    n_samples, n_features = X_train.shape\n",
    "    sample_indices = np.arange(n_samples) \n",
    "    \n",
    "    # check there is the same number of samples in X and y\n",
    "    assert len(y_train) == n_samples\n",
    "    \n",
    "    # check the subsample size is less than the sample size\n",
    "    assert subsample_size < n_samples\n",
    "    \n",
    "    # run the feature selection procedure on the subsamples\n",
    "    selected_features_list = []\n",
    "    for idx in range(num_subsamples):\n",
    "        # shuffle the indices\n",
    "        np.random.shuffle(sample_indices)\n",
    "        # create the subsample indices\n",
    "        ss_indices = sample_indices[:subsample_size]\n",
    "        # run the feature selection procedure\n",
    "        # and append the results to selected_features_list\n",
    "        selected_features_list.append(selection_procedure(X_train[ss_indices, :], y_train[ss_indices]))\n",
    "    \n",
    "    # compute the average pairwise Pearson's correlation between the list of selected features\n",
    "    all_correlations = [pearson_corr(selected_features, selected_features_2) for (idx, selected_features) in enumerate(selected_features_list) \\\n",
    "                        for selected_features_2 in selected_features_list[idx+1:]]\n",
    "    \n",
    "    return np.nanmean(all_correlations)"
   ]
  },
  {
   "cell_type": "markdown",
   "metadata": {
    "tags": []
   },
   "source": [
    "## Elastic Net\n",
    "\n",
    "One solution to make the lasso more stable is to use a combination of the l1 and l2 regularizations.\n",
    "\n",
    "We are now minimizing the loss + a linear combination of an l1-norm and an l2-norm over the regression weights. This imposes sparsity, but encourages correlated features to be selected together, where the lasso would tend to pick only one (at random) of a group of correlated features.\n",
    "\n",
    "The elastic net is implemented in scikit-learn's [linear_model.ElasticNet](http://scikit-learn.org/stable/modules/generated/sklearn.linear_model.ElasticNet.html#sklearn.linear_model.ElasticNet)."
   ]
  },
  {
   "cell_type": "markdown",
   "metadata": {
    "tags": []
   },
   "source": [
    "### Regularization path\n",
    "\n",
    "We will start by comparing the regularization paths for the Lasso and for the Elastic Net, for a fixed value of the `l1_ratio` between the amount of l1 regulariztion and the amount of l2 regularization. \n",
    "\n",
    "The Elastic Net implementation in scikit-learn uses `alpha * l1_ratio` as a regularization coefficient for the l1-norm term (sparsity penalization) and  `alpha * (1-l1_ratio)` as a regularization coefficient for the l2-norm term (smoothing coefficients)."
   ]
  },
  {
   "cell_type": "markdown",
   "metadata": {},
   "source": [
    "Let us first recompute the regularization path for the Lasso as in Part 2:"
   ]
  },
  {
   "cell_type": "code",
   "execution_count": 20,
   "metadata": {},
   "outputs": [],
   "source": [
    "alphas_lasso, coefs_lasso, _ = linear_model.lasso_path(X_2W_tr, y_2W_tr_scaled)"
   ]
  },
  {
   "cell_type": "markdown",
   "metadata": {},
   "source": [
    "And now we do the same thing for an Elastic Net with `l1_ratio` set to 0.5:"
   ]
  },
  {
   "cell_type": "code",
   "execution_count": 22,
   "metadata": {},
   "outputs": [],
   "source": [
    "alphas_elnet, coefs_elnet, _ = linear_model.enet_path(X_2W_tr, y_2W_tr_scaled, l1_ratio=0.5)"
   ]
  },
  {
   "cell_type": "markdown",
   "metadata": {},
   "source": [
    "Let us now compare the regularization paths for the SNP at index 100:"
   ]
  },
  {
   "cell_type": "code",
   "execution_count": 23,
   "metadata": {},
   "outputs": [
    {
     "data": {
      "text/plain": [
       "<matplotlib.legend.Legend at 0x7f088338f9d0>"
      ]
     },
     "execution_count": 23,
     "metadata": {},
     "output_type": "execute_result"
    },
    {
     "data": {
      "image/png": "[encoded data removed]",
      "text/plain": [
       "<Figure size 432x288 with 1 Axes>"
      ]
     },
     "metadata": {
      "needs_background": "light"
     },
     "output_type": "display_data"
    }
   ],
   "source": [
    "ax = plt.gca()\n",
    "\n",
    "color = next(ax._get_lines.prop_cycler)['color'] # use the same color for Lasso and Elastic Net\n",
    "plt.plot(alphas_lasso, coefs_lasso[100, :], label=\"Lasso\", color=color)\n",
    "plt.plot(alphas_elnet, coefs_elnet[100, :], \"--\", label=\"Elastic Net\", color=color)\n",
    "\n",
    "plt.xscale(\"log\")\n",
    "plt.xlabel(\"regularization parameter (log scale)\")\n",
    "plt.ylabel(\"regression coefficient of SNP\")\n",
    "plt.title(f\"Regularization path for SNP {genotype_df.columns[100]}\")\n",
    "plt.legend()"
   ]
  },
  {
   "cell_type": "markdown",
   "metadata": {},
   "source": [
    "__Q: What is the effect of adding l2 regularization on this SNP's coefficient?__"
   ]
  },
  {
   "cell_type": "markdown",
   "metadata": {},
   "source": [
    "__Answer:__"
   ]
  },
  {
   "cell_type": "markdown",
   "metadata": {},
   "source": [
    "Let us now compare Lasso and Elastic Net for all SNPs with a rather large coefficient along the way:"
   ]
  },
  {
   "cell_type": "code",
   "execution_count": 24,
   "metadata": {},
   "outputs": [],
   "source": [
    "non_zero_coef_ = np.where(np.max(np.abs(coefs_lasso), axis=1) > 0.18)[0]"
   ]
  },
  {
   "cell_type": "code",
   "execution_count": 25,
   "metadata": {},
   "outputs": [
    {
     "data": {
      "text/plain": [
       "Text(0.5, 1.0, 'Regularization paths for the Lasso and Elastic Net')"
      ]
     },
     "execution_count": 25,
     "metadata": {},
     "output_type": "execute_result"
    },
    {
     "data": {
      "image/png": "[encoded data removed]",
      "text/plain": [
       "<Figure size 432x288 with 1 Axes>"
      ]
     },
     "metadata": {
      "needs_background": "light"
     },
     "output_type": "display_data"
    }
   ],
   "source": [
    "ax = plt.gca()\n",
    "for feature_idx in non_zero_coef_:\n",
    "    color = next(ax._get_lines.prop_cycler)['color'] # use the same color for Lasso and Elastic Net\n",
    "    plt.plot(alphas_lasso, coefs_lasso[feature_idx, :], color=color)\n",
    "    plt.plot(alphas_elnet, coefs_elnet[feature_idx, :], \"--\", color=color)\n",
    "plt.plot(alphas_lasso, [0 for x in alphas_lasso], 'gray') # y=0 axis\n",
    "plt.xscale(\"log\")\n",
    "plt.xlabel(\"regularization parameter (log scale)\")\n",
    "plt.ylabel(\"regression coefficient\")\n",
    "plt.title(\"Regularization paths for the Lasso and Elastic Net\")"
   ]
  },
  {
   "cell_type": "markdown",
   "metadata": {},
   "source": [
    "__Q: Do you confirm the effect of adding l2 regularization on the model coefficients?__"
   ]
  },
  {
   "cell_type": "markdown",
   "metadata": {},
   "source": [
    "__Answer:__"
   ]
  },
  {
   "cell_type": "markdown",
   "metadata": {},
   "source": [
    "### Fitting an elastic-net"
   ]
  },
  {
   "cell_type": "code",
   "execution_count": 26,
   "metadata": {},
   "outputs": [
    {
     "name": "stdout",
     "output_type": "stream",
     "text": [
      "The maximum value of alpha (for a l1_ratio of 0.5) is 0.363.\n"
     ]
    }
   ],
   "source": [
    "alpha_max, alpha_min = linear_model._coordinate_descent._alpha_grid(X_2W_tr, y_2W_tr_scaled, n_alphas=2, l1_ratio=0.5)\n",
    "print(f\"The maximum value of alpha (for a l1_ratio of 0.5) is {alpha_max:.3f}.\")"
   ]
  },
  {
   "cell_type": "code",
   "execution_count": 27,
   "metadata": {},
   "outputs": [],
   "source": [
    "elnet = linear_model.ElasticNet(fit_intercept=True, max_iter=1000)"
   ]
  },
  {
   "cell_type": "code",
   "execution_count": 28,
   "metadata": {},
   "outputs": [
    {
     "name": "stdout",
     "output_type": "stream",
     "text": [
      "Fitting 3 folds for each of 50 candidates, totalling 150 fits\n"
     ]
    },
    {
     "data": {
      "text/plain": [
       "GridSearchCV(cv=3, estimator=ElasticNet(),\n",
       "             param_grid={'alpha': array([1.81748112e-01, 8.43600008e-02, 3.91564438e-02, 1.81748112e-02,\n",
       "       8.43600008e-03, 3.91564438e-03, 1.81748112e-03, 8.43600008e-04,\n",
       "       3.91564438e-04, 1.81748112e-04]),\n",
       "                         'l1_ratio': array([0.5, 0.6, 0.7, 0.8, 0.9])},\n",
       "             verbose=1)"
      ]
     },
     "execution_count": 28,
     "metadata": {},
     "output_type": "execute_result"
    }
   ],
   "source": [
    "# Grid of values for the two regularization parameters\n",
    "alphas = linear_model._coordinate_descent._alpha_grid(X_2W_tr, y_2W_tr_scaled, n_alphas=10)\n",
    "ratios = np.linspace(0.5, 0.9, num=5)\n",
    "\n",
    "# Set up the grid search cross validation\n",
    "model_l1l2 = model_selection.GridSearchCV(elnet, param_grid={'alpha': alphas, 'l1_ratio': ratios}, \n",
    "                                          cv=3, verbose=1)\n",
    "\n",
    "# Use the grid search cross validation on the training data\n",
    "model_l1l2.fit(X_2W_tr, y_2W_tr_scaled)"
   ]
  },
  {
   "cell_type": "code",
   "execution_count": 29,
   "metadata": {},
   "outputs": [
    {
     "name": "stdout",
     "output_type": "stream",
     "text": [
      "The best value of alpha is 0.182 and the best value of l1_ratios is 0.7\n"
     ]
    }
   ],
   "source": [
    "print(f\"The best value of alpha is {model_l1l2.best_params_['alpha']:.3f} \"\n",
    "     f\"and the best value of l1_ratios is {model_l1l2.best_params_['l1_ratio']:.1f}\")"
   ]
  },
  {
   "cell_type": "markdown",
   "metadata": {},
   "source": [
    "### Selected SNPs"
   ]
  },
  {
   "cell_type": "code",
   "execution_count": 30,
   "metadata": {},
   "outputs": [
    {
     "data": {
      "text/plain": [
       "Text(0.5, 1.0, 'Regression coefficients of an elastic net')"
      ]
     },
     "execution_count": 30,
     "metadata": {},
     "output_type": "execute_result"
    },
    {
     "data": {
      "image/png": "[encoded data removed]",
      "text/plain": [
       "<Figure size 720x288 with 1 Axes>"
      ]
     },
     "metadata": {
      "needs_background": "light"
     },
     "output_type": "display_data"
    }
   ],
   "source": [
    "nonzero_weight_indices = np.where(model_l1l2.best_estimator_.coef_)[0]\n",
    "\n",
    "plt.figure(figsize = (10, 4))\n",
    "# plot for all SNPs\n",
    "plt.scatter(range(num_snps), model_l1l2.best_estimator_.coef_, s=10) \n",
    "# plot for SNPs with nonzero coefficients\n",
    "plt.scatter(nonzero_weight_indices, model_l1l2.best_estimator_.coef_[nonzero_weight_indices], s=20) \n",
    "\n",
    "plt.xlabel(\"SNP index\")\n",
    "plt.ylabel(\"regression weight\")\n",
    "plt.xlim([0, num_snps])\n",
    "plt.title(\"Regression coefficients of an elastic net\")"
   ]
  },
  {
   "cell_type": "markdown",
   "metadata": {},
   "source": [
    "__Q: Compare these regression coefficients to that of a lasso. Can you see why we can hope this solution to be more stable?__"
   ]
  },
  {
   "cell_type": "markdown",
   "metadata": {},
   "source": [
    "__Answer:__"
   ]
  },
  {
   "cell_type": "code",
   "execution_count": 31,
   "metadata": {},
   "outputs": [
    {
     "name": "stdout",
     "output_type": "stream",
     "text": [
      "14 of the 14 selected SNP(s) point to 14 candidate genes.\n"
     ]
    }
   ],
   "source": [
    "selected_candidate_genes = []\n",
    "num_snps_pointing_to_candidates = 0\n",
    "for snp_name in genotype_df.columns[nonzero_weight_indices]:\n",
    "    matching_genes = genes_by_snp[snp_name]\n",
    "    candidate_matching_genes = set(matching_genes).intersection(set(candidate_genes))\n",
    "    if len(candidate_matching_genes):\n",
    "        num_snps_pointing_to_candidates += 1\n",
    "        selected_candidate_genes.extend(candidate_matching_genes)\n",
    "print(f\"{num_snps_pointing_to_candidates} of the {len(nonzero_weight_indices)} selected SNP(s) point to {len(selected_candidate_genes)} candidate genes.\")"
   ]
  },
  {
   "cell_type": "code",
   "execution_count": 32,
   "metadata": {},
   "outputs": [
    {
     "name": "stdout",
     "output_type": "stream",
     "text": [
      "['AT1G79730', 'AT1G79730', 'AT1G79730', 'AT3G11540', 'AT3G12810', 'AT3G19980', 'AT3G62090', 'AT3G62090', 'AT5G04240', 'AT5G10140', 'AT5G10140', 'AT5G10140', 'AT5G39660', 'AT5G60100']\n"
     ]
    }
   ],
   "source": [
    "print(selected_candidate_genes)"
   ]
  },
  {
   "cell_type": "markdown",
   "metadata": {
    "tags": []
   },
   "source": [
    "### Quality of model fit\n",
    "\n",
    "As before, we can check how well our model fits the data it was trained on."
   ]
  },
  {
   "cell_type": "code",
   "execution_count": 33,
   "metadata": {},
   "outputs": [
    {
     "name": "stdout",
     "output_type": "stream",
     "text": [
      "The percentage of variance explained by an elastic net using all SNPs is 20%\n"
     ]
    }
   ],
   "source": [
    "y_2W_l1l2_pred = model_l1l2.best_estimator_.predict(X_2W_tr)\n",
    "pve = metrics.explained_variance_score(y_2W_tr_scaled, y_2W_l1l2_pred) * 100\n",
    "print(f\"The percentage of variance explained by an elastic net using all SNPs is {pve:.0f}%\")"
   ]
  },
  {
   "cell_type": "markdown",
   "metadata": {},
   "source": [
    "We can also plot the predictions vs the true phenotype for all samples from the train set:"
   ]
  },
  {
   "cell_type": "code",
   "execution_count": 34,
   "metadata": {},
   "outputs": [
    {
     "data": {
      "text/plain": [
       "Text(0.5, 1.0, 'Goodness of fit of the elastic net')"
      ]
     },
     "execution_count": 34,
     "metadata": {},
     "output_type": "execute_result"
    },
    {
     "data": {
      "image/png": "[encoded data removed]",
      "text/plain": [
       "<Figure size 288x288 with 1 Axes>"
      ]
     },
     "metadata": {
      "needs_background": "light"
     },
     "output_type": "display_data"
    }
   ],
   "source": [
    "plt.figure(figsize = (4, 4))\n",
    "plt.scatter(y_2W_tr_scaled, y_2W_l1l2_pred)\n",
    "\n",
    "# plot a line y=x\n",
    "x_min = np.min(y_2W_tr_scaled)\n",
    "x_max = np.max(y_2W_tr_scaled)\n",
    "plt.plot([x_min, x_max], [x_min, x_max], c='gray')\n",
    "\n",
    "plt.xlabel(\"true phenotype\")\n",
    "plt.ylabel(\"prediction\")\n",
    "plt.xlim([x_min-0.2, x_max+0.2])\n",
    "plt.ylim([x_min-0.2, x_max+0.2])\n",
    "\n",
    "plt.title(\"Goodness of fit of the elastic net\")"
   ]
  },
  {
   "cell_type": "markdown",
   "metadata": {},
   "source": [
    "__Q: How well does the model fit the training data? Compare to the linear regression and to the lasso. Is this surprising?__"
   ]
  },
  {
   "cell_type": "markdown",
   "metadata": {
    "tags": []
   },
   "source": [
    "**Answer:**"
   ]
  },
  {
   "cell_type": "markdown",
   "metadata": {
    "tags": []
   },
   "source": [
    "### Model predictive power \n",
    "\n",
    "Again, we can use the test set to evaluate the predictive power of the model, on the test set."
   ]
  },
  {
   "cell_type": "code",
   "execution_count": null,
   "metadata": {},
   "outputs": [],
   "source": [
    "y_2W_l1l2_pred = model_l1l2.best_estimator_.predict(X_2W_te)\n",
    "\n",
    "print(\"Percentage of variance explained by an elastic net (using %d SNPs): %.2f\" % \\\n",
    "     (np.nonzero(model_l1l2.best_estimator_.coef_)[0].shape[0], \n",
    "      metrics.explained_variance_score(y_2W_te_scaled, y_2W_l1l2_pred)))"
   ]
  },
  {
   "cell_type": "markdown",
   "metadata": {},
   "source": [
    "And let us plot the predictions vs the true phenotype for all samples from the test set:"
   ]
  },
  {
   "cell_type": "code",
   "execution_count": 82,
   "metadata": {},
   "outputs": [
    {
     "data": {
      "text/plain": [
       "<matplotlib.lines._AxLine at 0x7fd0f7820190>"
      ]
     },
     "execution_count": 82,
     "metadata": {},
     "output_type": "execute_result"
    },
    {
     "data": {
      "image/png": "[encoded data removed]",
      "text/plain": [
       "<Figure size 288x288 with 1 Axes>"
      ]
     },
     "metadata": {
      "needs_background": "light"
     },
     "output_type": "display_data"
    }
   ],
   "source": [
    "plt.figure(figsize = (4, 4))\n",
    "plt.scatter(y_2W_te_scaled, y_2W_l1l2_pred)\n",
    "\n",
    "plt.xlabel(\"true phenotype\")\n",
    "plt.ylabel(\"prediction\")\n",
    "plt.xlim([np.min(y_2W_te) - 0.05, np.max(y_2W_te) + 0.05])\n",
    "plt.ylim([np.min(y_2W_te) - 0.05, np.max(y_2W_te) + 0.05])\n",
    "plt.axline(xy1 = [0, 0], slope = 1, c = \"black\")"
   ]
  },
  {
   "cell_type": "markdown",
   "metadata": {},
   "source": [
    "__Q: How well does the model predict on the test data? Compare to previous models__"
   ]
  },
  {
   "cell_type": "markdown",
   "metadata": {
    "tags": []
   },
   "source": [
    "**Answer:**"
   ]
  },
  {
   "cell_type": "markdown",
   "metadata": {},
   "source": [
    "## Stability of Elastic Net\n",
    "\n",
    "Let us wrap what we did in the Lasso section into a method which takes a data set as input and selects the features significantly associated with the output."
   ]
  },
  {
   "cell_type": "code",
   "execution_count": 83,
   "metadata": {},
   "outputs": [],
   "source": [
    "def elnet_selection_procedure(X_train, y_train):\n",
    "    \"\"\"\n",
    "    Fits an elastic net on the data. Returns the features with non-zero coefficients.\n",
    "    \n",
    "    Input parameters\n",
    "    ----------------\n",
    "    X_train: (n_samples, n_features) np.array\n",
    "       training data\n",
    "    y_train: (n_samples, ) np.array\n",
    "       training labels\n",
    "    \n",
    "    Output\n",
    "    ------\n",
    "    selection: (n_features, ) np.array\n",
    "        for j=1..n_features:\n",
    "            selection[j] = 0 if j is not selected\n",
    "            selection[j] = 1 otherwise.       \n",
    "    \"\"\"\n",
    "    # create an elatic net object\n",
    "    elnet = linear_model.ElasticNet(fit_intercept=True, max_iter=1000)\n",
    "    \n",
    "    # Grid of values for the regularization hyperparameters\n",
    "    alphas = linear_model._coordinate_descent._alpha_grid(X_train, y_train, l1_ratio=0.5, n_alphas=10)\n",
    "    ratios = np.linspace(0.5, 0.9, num=5)\n",
    "\n",
    "    # Set up the grid search cross validation\n",
    "    model_l1l2 = model_selection.GridSearchCV(elnet, param_grid={'alpha': alphas, 'l1_ratio': ratios}, \n",
    "                                              cv=3)\n",
    "\n",
    "    # Use the grid search cross validation on the training data\n",
    "    model_l1l2.fit(X_train, y_train)\n",
    "    \n",
    "    print(f\"Selected SNPs: {*genotype_df.columns[np.where(model_l1l2.best_estimator_.coef_)[0]],}\")    \n",
    "    \n",
    "    # Consider the non-zero coefficients as selected\n",
    "    return(np.where(model_l1l2.best_estimator_.coef_, 1, 0))"
   ]
  },
  {
   "cell_type": "code",
   "execution_count": 84,
   "metadata": {},
   "outputs": [
    {
     "name": "stdout",
     "output_type": "stream",
     "text": [
      "Selected SNPs: ('Chr1_9615772_T', 'Chr1_18325367_A', 'Chr1_22485675_T', 'Chr1_23248789_C', 'Chr1_28960616_T', 'Chr1_29026259_C', 'Chr1_29026627_A', 'Chr1_29041439_C', 'Chr1_29041794_T', 'Chr1_29043091_G', 'Chr1_29044150_C', 'Chr1_29045537_A', 'Chr1_29045883_A', 'Chr1_29900726_A', 'Chr1_30020590_T', 'Chr1_30020796_A', 'Chr1_30021468_T', 'Chr1_30022260_T', 'Chr1_30347069_A', 'Chr2_8438294_A', 'Chr2_8446992_T', 'Chr2_8449271_A', 'Chr2_8449743_C', 'Chr2_8450869_C', 'Chr2_8453619_T', 'Chr2_8454873_C', 'Chr2_8459480_T', 'Chr2_8459532_T', 'Chr2_8459729_T', 'Chr2_8459812_T', 'Chr2_8460494_C', 'Chr2_8460703_G', 'Chr2_8460847_C', 'Chr2_8478404_G', 'Chr2_11041934_A', 'Chr2_18425301_A', 'Chr2_19019256_T', 'Chr3_476716_A', 'Chr3_505329_A', 'Chr3_507969_G', 'Chr3_3652430_A', 'Chr3_4073356_C', 'Chr3_4073911_C', 'Chr3_6983030_C', 'Chr3_22984636_T', 'Chr3_22988447_A', 'Chr3_23008395_C', 'Chr4_280070_A', 'Chr4_287861_G', 'Chr4_454422_C', 'Chr4_454542_A', 'Chr4_475593_A', 'Chr4_1241727_T', 'Chr4_1241765_G', 'Chr5_987682_T', 'Chr5_1168046_T', 'Chr5_3171095_A', 'Chr5_3172628_T', 'Chr5_5207068_T', 'Chr5_7811393_G', 'Chr5_9040598_C', 'Chr5_14995268_A', 'Chr5_14996667_G', 'Chr5_15015500_A', 'Chr5_15863849_T', 'Chr5_19921543_C', 'Chr5_19953902_A', 'Chr5_23231973_G', 'Chr5_23265265_T', 'Chr5_23265293_T', 'Chr5_26776950_A')\n",
      "Selected SNPs: ('Chr1_1196290_A', 'Chr1_3089429_C', 'Chr1_3152014_C', 'Chr1_4294469_T', 'Chr1_4308649_A', 'Chr1_4309713_G', 'Chr1_5156423_T', 'Chr1_5158875_C', 'Chr1_5356387_G', 'Chr1_6350963_G', 'Chr1_8586632_G', 'Chr1_8586749_A', 'Chr1_8993125_G', 'Chr1_9615772_T', 'Chr1_11407097_A', 'Chr1_16466187_A', 'Chr1_16472713_T', 'Chr1_16474533_A', 'Chr1_17843006_A', 'Chr1_17843128_T', 'Chr1_18325367_A', 'Chr1_18326797_C', 'Chr1_21397033_T', 'Chr1_21408641_C', 'Chr1_21413000_A', 'Chr1_22482857_T', 'Chr1_22485675_T', 'Chr1_22485802_G', 'Chr1_23251168_C', 'Chr1_23260122_C', 'Chr1_23267179_A', 'Chr1_23375108_C', 'Chr1_24320333_A', 'Chr1_24322419_G', 'Chr1_24346335_C', 'Chr1_24729610_G', 'Chr1_25963420_C', 'Chr1_25973043_G', 'Chr1_26432862_T', 'Chr1_26433298_C', 'Chr1_29900726_A', 'Chr1_29911157_A', 'Chr1_30020590_T', 'Chr1_30020796_A', 'Chr1_30333876_A', 'Chr1_30343591_T', 'Chr2_1138189_C', 'Chr2_1145356_C', 'Chr2_1146229_G', 'Chr2_8127891_A', 'Chr2_8177342_C', 'Chr2_8195914_C', 'Chr2_8438294_A', 'Chr2_8446992_T', 'Chr2_8448098_C', 'Chr2_8448903_G', 'Chr2_8449271_A', 'Chr2_8450682_C', 'Chr2_8450869_C', 'Chr2_8451766_A', 'Chr2_8478404_G', 'Chr2_9581605_C', 'Chr2_11041900_A', 'Chr2_11041934_A', 'Chr2_11044367_G', 'Chr2_12078698_G', 'Chr2_16370409_C', 'Chr2_16382163_G', 'Chr2_17832577_G', 'Chr2_17874547_A', 'Chr2_17893798_G', 'Chr2_18045473_T', 'Chr2_18428465_G', 'Chr2_18819960_T', 'Chr2_18819977_C', 'Chr2_18821130_C', 'Chr2_18821170_T', 'Chr2_19003518_A', 'Chr2_19013031_T', 'Chr2_19019256_T', 'Chr2_19020671_T', 'Chr3_175652_C', 'Chr3_459895_T', 'Chr3_462985_T', 'Chr3_476716_A', 'Chr3_505329_A', 'Chr3_507969_G', 'Chr3_508316_A', 'Chr3_709201_T', 'Chr3_1256038_T', 'Chr3_1257380_C', 'Chr3_1261187_A', 'Chr3_1423930_G', 'Chr3_1426429_A', 'Chr3_1427788_A', 'Chr3_3625191_C', 'Chr3_3652430_A', 'Chr3_4045875_G', 'Chr3_4073356_C', 'Chr3_4073911_C', 'Chr3_4074600_T', 'Chr3_4079372_G', 'Chr3_6535547_T', 'Chr3_6547164_C', 'Chr3_6952528_T', 'Chr3_6983030_C', 'Chr3_7262208_A', 'Chr3_7264663_C', 'Chr3_9390523_C', 'Chr3_9392287_T', 'Chr3_9393971_A', 'Chr3_9403749_A', 'Chr3_17496673_A', 'Chr3_17512067_T', 'Chr3_17951762_A', 'Chr3_20236730_T', 'Chr3_20252392_G', 'Chr3_20264501_C', 'Chr3_20264924_T', 'Chr3_20388253_A', 'Chr3_20389694_C', 'Chr3_20390008_G', 'Chr3_21220796_C', 'Chr3_21224440_A', 'Chr3_21245739_C', 'Chr3_22984636_T', 'Chr3_22998693_G', 'Chr3_23008395_C', 'Chr4_197103_C', 'Chr4_198176_C', 'Chr4_202037_A', 'Chr4_249480_C', 'Chr4_280070_A', 'Chr4_287786_T', 'Chr4_287861_G', 'Chr4_454422_C', 'Chr4_454542_A', 'Chr4_474554_T', 'Chr4_475593_A', 'Chr4_873559_T', 'Chr4_877075_T', 'Chr4_1071480_G', 'Chr4_1111882_G', 'Chr4_1121947_T', 'Chr4_1260796_A', 'Chr4_1260826_A', 'Chr4_5729981_A', 'Chr4_5731164_T', 'Chr4_5742294_C', 'Chr4_8148648_T', 'Chr4_8148790_G', 'Chr4_9476549_C', 'Chr4_9479619_A', 'Chr4_9488749_G', 'Chr4_10033699_A', 'Chr4_11003559_G', 'Chr4_12986185_A', 'Chr4_15136979_T', 'Chr4_15139288_T', 'Chr4_15895966_T', 'Chr4_15917072_C', 'Chr4_16988138_G', 'Chr4_17386485_A', 'Chr4_17419128_G', 'Chr5_985158_C', 'Chr5_987682_T', 'Chr5_1168046_T', 'Chr5_1192508_G', 'Chr5_1715557_C', 'Chr5_1716172_A', 'Chr5_1726029_C', 'Chr5_3171095_A', 'Chr5_3172628_T', 'Chr5_3184569_T', 'Chr5_3195168_G', 'Chr5_3195613_T', 'Chr5_5207068_T', 'Chr5_5217845_G', 'Chr5_5218649_A', 'Chr5_5361263_A', 'Chr5_5844147_G', 'Chr5_5847536_G', 'Chr5_5849362_C', 'Chr5_7811393_G', 'Chr5_8371399_C', 'Chr5_8531583_G', 'Chr5_8533331_G', 'Chr5_8560552_A', 'Chr5_9017297_T', 'Chr5_9028498_A', 'Chr5_9040598_C', 'Chr5_9045545_A', 'Chr5_9051311_T', 'Chr5_9055143_A', 'Chr5_9586762_C', 'Chr5_9586817_A', 'Chr5_9600475_T', 'Chr5_14006648_G', 'Chr5_14995268_A', 'Chr5_14995290_G', 'Chr5_14996667_G', 'Chr5_14997378_A', 'Chr5_14999177_C', 'Chr5_15004707_A', 'Chr5_15004723_A', 'Chr5_15863849_T', 'Chr5_15885726_T', 'Chr5_15896318_C', 'Chr5_15896370_C', 'Chr5_15896752_T', 'Chr5_24190884_T', 'Chr5_24216069_G', 'Chr5_24216252_T', 'Chr5_25082163_G', 'Chr5_25088877_T', 'Chr5_25976943_T', 'Chr5_26789458_A', 'Chr5_26789553_C')\n",
      "Selected SNPs: ('Chr1_3090757_G', 'Chr1_3091675_A', 'Chr1_3093250_G', 'Chr1_3121697_C', 'Chr1_4308649_A', 'Chr1_4529000_A', 'Chr1_5156207_A', 'Chr1_5158875_C', 'Chr1_8992078_C', 'Chr1_9095543_G', 'Chr1_9099075_A', 'Chr1_9289504_A', 'Chr1_16466187_A', 'Chr1_17843006_A', 'Chr1_18325367_A', 'Chr1_18326797_C', 'Chr1_21412861_G', 'Chr1_22485675_T', 'Chr1_23256450_C', 'Chr1_24322419_G', 'Chr1_24323595_T', 'Chr1_24323646_C', 'Chr1_24768932_G', 'Chr1_25963420_C', 'Chr1_25973043_G', 'Chr1_29740551_C', 'Chr1_29822861_A', 'Chr1_29824699_A', 'Chr1_29834120_G', 'Chr1_29870900_A', 'Chr1_30020796_A', 'Chr1_30021468_T', 'Chr1_30022260_T', 'Chr1_30314591_G', 'Chr1_30333876_A', 'Chr1_30343591_T', 'Chr2_1136204_T', 'Chr2_8195914_C', 'Chr2_8210822_T', 'Chr2_8438294_A', 'Chr2_9027894_G', 'Chr2_9028080_A', 'Chr2_9037988_G', 'Chr2_9581605_C', 'Chr2_9944089_T', 'Chr2_11041934_A', 'Chr2_14325627_A', 'Chr2_16370409_C', 'Chr2_17832577_G', 'Chr2_18045473_T', 'Chr2_19263594_T', 'Chr3_164137_A', 'Chr3_167940_G', 'Chr3_175652_C', 'Chr3_194168_A', 'Chr3_487332_T', 'Chr3_487420_T', 'Chr3_496044_G', 'Chr3_496601_A', 'Chr3_505329_A', 'Chr3_507969_G', 'Chr3_709201_T', 'Chr3_1256038_T', 'Chr3_1257380_C', 'Chr3_1261187_A', 'Chr3_1427788_A', 'Chr3_3652430_A', 'Chr3_4047086_T', 'Chr3_4073356_C', 'Chr3_4073911_C', 'Chr3_4074600_T', 'Chr3_6547164_C', 'Chr3_6983030_C', 'Chr3_7270632_G', 'Chr3_7271721_A', 'Chr3_17512067_T', 'Chr3_17949877_G', 'Chr3_17950065_C', 'Chr3_17950654_T', 'Chr3_20236730_T', 'Chr3_20239841_G', 'Chr3_21220796_C', 'Chr3_21224440_A', 'Chr3_21240944_C', 'Chr3_21245739_C', 'Chr3_21250707_A', 'Chr3_21252475_A', 'Chr3_22984636_T', 'Chr4_197103_C', 'Chr4_198176_C', 'Chr4_261357_T', 'Chr4_454542_A', 'Chr4_471887_A', 'Chr4_475593_A', 'Chr4_873559_T', 'Chr4_1071480_G', 'Chr4_8148648_T', 'Chr4_8148790_G', 'Chr4_9482414_A', 'Chr4_10993904_T', 'Chr4_11003559_G', 'Chr4_11015148_A', 'Chr4_11016446_T', 'Chr4_11016531_C', 'Chr4_11017463_C', 'Chr4_15136979_T', 'Chr4_15898419_C', 'Chr4_15904186_A', 'Chr4_15917072_C', 'Chr4_17013644_C', 'Chr4_17403749_A', 'Chr4_17420836_T', 'Chr5_987682_T', 'Chr5_1009228_G', 'Chr5_1168046_T', 'Chr5_1708379_C', 'Chr5_3163523_T', 'Chr5_3172628_T', 'Chr5_3188327_T', 'Chr5_3195168_G', 'Chr5_3195613_T', 'Chr5_4336896_A', 'Chr5_4337124_G', 'Chr5_4341094_C', 'Chr5_5205949_C', 'Chr5_5207068_T', 'Chr5_5217845_G', 'Chr5_5341544_G', 'Chr5_5361263_A', 'Chr5_7811393_G', 'Chr5_9017297_T', 'Chr5_9051311_T', 'Chr5_14990635_A', 'Chr5_14995268_A', 'Chr5_14995290_G', 'Chr5_14996667_G', 'Chr5_14997378_A', 'Chr5_15001150_G', 'Chr5_15863849_T', 'Chr5_17185382_C', 'Chr5_19067992_C', 'Chr5_19953902_A', 'Chr5_24190884_T', 'Chr5_24216252_T', 'Chr5_24593697_G', 'Chr5_24666777_G', 'Chr5_24670342_A', 'Chr5_25976943_T', 'Chr5_26787989_A', 'Chr5_26788217_G', 'Chr5_26789458_A')\n",
      "Selected SNPs: ('Chr1_1196290_A', 'Chr1_3089400_G', 'Chr1_3089429_C', 'Chr1_3152014_C', 'Chr1_4294469_T', 'Chr1_4529000_A', 'Chr1_5156423_T', 'Chr1_5158875_C', 'Chr1_6346132_C', 'Chr1_6346187_C', 'Chr1_6350963_G', 'Chr1_8585162_T', 'Chr1_8586632_G', 'Chr1_8586749_A', 'Chr1_9095543_G', 'Chr1_9615772_T', 'Chr1_16466187_A', 'Chr1_16472713_T', 'Chr1_18325367_A', 'Chr1_19824964_G', 'Chr1_22485675_T', 'Chr1_24318184_T', 'Chr1_24322419_G', 'Chr1_26432862_T', 'Chr1_26433298_C', 'Chr1_29900726_A', 'Chr1_30020796_A', 'Chr1_30021468_T', 'Chr1_30022260_T', 'Chr1_30325401_T', 'Chr2_1136204_T', 'Chr2_8127891_A', 'Chr2_8177342_C', 'Chr2_8195914_C', 'Chr2_8438294_A', 'Chr2_8449271_A', 'Chr2_8450869_C', 'Chr2_8453619_T', 'Chr2_8454797_G', 'Chr2_8454873_C', 'Chr2_8459480_T', 'Chr2_8459532_T', 'Chr2_8459729_T', 'Chr2_8459812_T', 'Chr2_8460494_C', 'Chr2_8460703_G', 'Chr2_8460847_C', 'Chr2_8478404_G', 'Chr2_9037988_G', 'Chr2_9581605_C', 'Chr2_11041934_A', 'Chr2_17891050_T', 'Chr2_18425301_A', 'Chr2_19019256_T', 'Chr2_19020671_T', 'Chr3_705460_T', 'Chr3_709201_T', 'Chr3_1409107_G', 'Chr3_1426429_A', 'Chr3_1427788_A', 'Chr3_3625191_C', 'Chr3_3652430_A', 'Chr3_4045875_G', 'Chr3_4047086_T', 'Chr3_4482098_C', 'Chr3_6952528_T', 'Chr3_6953889_A', 'Chr3_6983030_C', 'Chr3_7262208_A', 'Chr3_7264663_C', 'Chr3_7270632_G', 'Chr3_7271721_A', 'Chr3_17512067_T', 'Chr3_17935944_G', 'Chr3_20236730_T', 'Chr3_20239841_G', 'Chr3_21220796_C', 'Chr3_21224440_A', 'Chr3_21245739_C', 'Chr3_21487457_G', 'Chr3_22984636_T', 'Chr3_22998693_G', 'Chr3_23003259_A', 'Chr3_23003512_G', 'Chr3_23008395_C', 'Chr4_197103_C', 'Chr4_198176_C', 'Chr4_202037_A', 'Chr4_202156_G', 'Chr4_210370_A', 'Chr4_454422_C', 'Chr4_454542_A', 'Chr4_475593_A', 'Chr4_873559_T', 'Chr4_877075_T', 'Chr4_1260796_A', 'Chr4_1260826_A', 'Chr4_1261211_A', 'Chr4_8148790_G', 'Chr4_8649881_C', 'Chr4_9463898_A', 'Chr4_9468678_A', 'Chr4_9473908_A', 'Chr4_9473989_A', 'Chr4_9482414_A', 'Chr4_11003559_G', 'Chr4_12667635_T', 'Chr4_17386485_A', 'Chr5_987682_T', 'Chr5_1168046_T', 'Chr5_3170090_C', 'Chr5_3171095_A', 'Chr5_3172628_T', 'Chr5_3184569_T', 'Chr5_3188327_T', 'Chr5_3196993_G', 'Chr5_4036520_C', 'Chr5_4337124_G', 'Chr5_5206321_C', 'Chr5_5206467_T', 'Chr5_5207068_T', 'Chr5_5843302_C', 'Chr5_5844147_G', 'Chr5_5847536_G', 'Chr5_7811393_G', 'Chr5_8340271_G', 'Chr5_8342215_A', 'Chr5_8342238_G', 'Chr5_8356759_A', 'Chr5_8553660_C', 'Chr5_9017297_T', 'Chr5_9025862_G', 'Chr5_9040477_G', 'Chr5_9045545_A', 'Chr5_9055143_A', 'Chr5_13999306_T', 'Chr5_14028758_C', 'Chr5_14990635_A', 'Chr5_14995268_A', 'Chr5_14996667_G', 'Chr5_14997378_A', 'Chr5_15015500_A', 'Chr5_15017021_G', 'Chr5_15863849_T', 'Chr5_17188834_C', 'Chr5_19063025_C', 'Chr5_19067992_C', 'Chr5_19952226_T', 'Chr5_19953902_A', 'Chr5_24216069_G', 'Chr5_24216252_T', 'Chr5_24218099_T', 'Chr5_24667070_A', 'Chr5_24669649_A', 'Chr5_25976943_T', 'Chr5_26779124_T', 'Chr5_26789458_A')\n",
      "Selected SNPs: ('Chr1_5156423_T', 'Chr1_5356387_G', 'Chr1_30020590_T', 'Chr1_30020796_A', 'Chr1_30021468_T', 'Chr1_30022260_T', 'Chr2_1136204_T', 'Chr2_8195914_C', 'Chr2_8446992_T', 'Chr2_8478404_G', 'Chr2_18425301_A', 'Chr3_459895_T', 'Chr3_1424390_A', 'Chr3_3652430_A', 'Chr3_3656161_A', 'Chr3_4073356_C', 'Chr3_6983030_C', 'Chr3_17512067_T', 'Chr3_20236730_T', 'Chr3_22984636_T', 'Chr3_22998693_G', 'Chr4_210370_A', 'Chr4_475593_A', 'Chr4_873559_T', 'Chr4_1241727_T', 'Chr4_1241765_G', 'Chr4_1260796_A', 'Chr5_987682_T', 'Chr5_1168046_T', 'Chr5_3171095_A', 'Chr5_3172628_T', 'Chr5_3188327_T', 'Chr5_5207068_T', 'Chr5_7811393_G', 'Chr5_14995268_A', 'Chr5_15863849_T', 'Chr5_17188834_C', 'Chr5_19067992_C', 'Chr5_19953902_A', 'Chr5_24190884_T', 'Chr5_24216069_G', 'Chr5_24593697_G', 'Chr5_25976943_T')\n",
      "Selected SNPs: ('Chr1_1203417_G', 'Chr1_3113115_G', 'Chr1_8586749_A', 'Chr1_9289504_A', 'Chr1_9615772_T', 'Chr1_16466187_A', 'Chr1_16474533_A', 'Chr1_17843006_A', 'Chr1_18325367_A', 'Chr1_18326797_C', 'Chr1_21412861_G', 'Chr1_21431275_T', 'Chr1_21433374_C', 'Chr1_22485675_T', 'Chr1_23256450_C', 'Chr1_23258779_G', 'Chr1_23272173_G', 'Chr1_23374770_C', 'Chr1_23375108_C', 'Chr1_24353052_T', 'Chr1_25963420_C', 'Chr1_25973043_G', 'Chr1_25975890_C', 'Chr1_25998099_A', 'Chr1_29026259_C', 'Chr1_29832964_T', 'Chr1_30020796_A', 'Chr1_30021468_T', 'Chr1_30022260_T', 'Chr1_30333876_A', 'Chr2_250862_G', 'Chr2_254965_T', 'Chr2_8195914_C', 'Chr2_8449743_C', 'Chr2_8451766_A', 'Chr2_8478404_G', 'Chr2_9042619_C', 'Chr2_9581605_C', 'Chr2_11041934_A', 'Chr2_17891693_T', 'Chr2_17893798_G', 'Chr2_18425301_A', 'Chr2_18806801_A', 'Chr2_19019256_T', 'Chr2_19020671_T', 'Chr3_164137_A', 'Chr3_167940_G', 'Chr3_175652_C', 'Chr3_189023_C', 'Chr3_193534_A', 'Chr3_1256038_T', 'Chr3_1257380_C', 'Chr3_1397335_G', 'Chr3_1426429_A', 'Chr3_1427788_A', 'Chr3_2439779_T', 'Chr3_3652430_A', 'Chr3_4045875_G', 'Chr3_4064752_G', 'Chr3_4073356_C', 'Chr3_4079372_G', 'Chr3_6535547_T', 'Chr3_6983030_C', 'Chr3_9380963_G', 'Chr3_9388857_A', 'Chr3_17496673_A', 'Chr3_17501486_C', 'Chr3_17512067_T', 'Chr3_17949721_A', 'Chr3_17950654_T', 'Chr3_17951762_A', 'Chr3_20264501_C', 'Chr3_20268098_A', 'Chr3_20390008_G', 'Chr3_21215144_C', 'Chr3_21240944_C', 'Chr3_22984636_T', 'Chr3_23008395_C', 'Chr4_197103_C', 'Chr4_198176_C', 'Chr4_280070_A', 'Chr4_287786_T', 'Chr4_454542_A', 'Chr4_873559_T', 'Chr4_877075_T', 'Chr4_1111882_G', 'Chr4_1141613_G', 'Chr4_5705252_A', 'Chr4_5729981_A', 'Chr4_5742294_C', 'Chr4_8633263_C', 'Chr4_9176242_C', 'Chr4_9473476_A', 'Chr4_9473989_A', 'Chr4_9476549_C', 'Chr4_11003559_G', 'Chr4_15917072_C', 'Chr4_15920841_T', 'Chr4_15921094_G', 'Chr4_16988138_G', 'Chr4_17010405_G', 'Chr4_17010466_G', 'Chr4_17386485_A', 'Chr4_17419128_G', 'Chr4_18560349_A', 'Chr5_987682_T', 'Chr5_1009228_G', 'Chr5_1168046_T', 'Chr5_1715557_C', 'Chr5_1716975_G', 'Chr5_3171095_A', 'Chr5_3172628_T', 'Chr5_3184569_T', 'Chr5_3188327_T', 'Chr5_5207068_T', 'Chr5_5844131_T', 'Chr5_7811393_G', 'Chr5_8356759_A', 'Chr5_9017297_T', 'Chr5_9025862_G', 'Chr5_13999306_T', 'Chr5_14006648_G', 'Chr5_14010940_C', 'Chr5_14995268_A', 'Chr5_14996667_G', 'Chr5_15001150_G', 'Chr5_15012608_C', 'Chr5_15863849_T', 'Chr5_15869166_T', 'Chr5_15885726_T', 'Chr5_15886090_G', 'Chr5_17185382_C', 'Chr5_17188834_C', 'Chr5_19087942_T', 'Chr5_24190884_T', 'Chr5_24216252_T', 'Chr5_24687614_A', 'Chr5_24847348_A', 'Chr5_25976943_T', 'Chr5_26776733_A', 'Chr5_26776950_A')\n",
      "Selected SNPs: ('Chr1_5158875_C', 'Chr1_8993125_G', 'Chr1_9289504_A', 'Chr1_9615772_T', 'Chr1_17843006_A', 'Chr1_18325367_A', 'Chr1_22485675_T', 'Chr1_23256450_C', 'Chr1_23258779_G', 'Chr1_24322419_G', 'Chr1_29026259_C', 'Chr1_30020590_T', 'Chr1_30021468_T', 'Chr1_30022260_T', 'Chr2_8188814_A', 'Chr2_8195914_C', 'Chr2_8438294_A', 'Chr2_8446992_T', 'Chr2_8449271_A', 'Chr2_8449743_C', 'Chr2_8450869_C', 'Chr2_8453619_T', 'Chr2_8454873_C', 'Chr2_8459480_T', 'Chr2_8459532_T', 'Chr2_8459729_T', 'Chr2_8459812_T', 'Chr2_8460703_G', 'Chr2_8460847_C', 'Chr2_8478404_G', 'Chr2_10576322_T', 'Chr2_11041934_A', 'Chr2_18425301_A', 'Chr2_19019256_T', 'Chr3_165596_T', 'Chr3_167940_G', 'Chr3_175652_C', 'Chr3_459895_T', 'Chr3_476716_A', 'Chr3_1256038_T', 'Chr3_3652430_A', 'Chr3_4045875_G', 'Chr3_4073356_C', 'Chr3_4073911_C', 'Chr3_4079372_G', 'Chr3_6983030_C', 'Chr3_7264663_C', 'Chr3_17512067_T', 'Chr3_17951762_A', 'Chr3_20241781_A', 'Chr3_20252392_G', 'Chr3_20264501_C', 'Chr3_20264924_T', 'Chr3_20390008_G', 'Chr3_21240944_C', 'Chr3_22984636_T', 'Chr3_23008395_C', 'Chr4_197103_C', 'Chr4_280070_A', 'Chr4_287786_T', 'Chr4_287861_G', 'Chr4_454542_A', 'Chr4_475593_A', 'Chr4_873559_T', 'Chr4_877075_T', 'Chr4_1071480_G', 'Chr4_1111882_G', 'Chr4_1260796_A', 'Chr4_5742294_C', 'Chr4_8649881_C', 'Chr4_11003559_G', 'Chr4_14602920_C', 'Chr4_17010405_G', 'Chr4_17010466_G', 'Chr4_17013644_C', 'Chr4_17015322_G', 'Chr5_985158_C', 'Chr5_987682_T', 'Chr5_1168046_T', 'Chr5_3171095_A', 'Chr5_3172628_T', 'Chr5_3184569_T', 'Chr5_3188327_T', 'Chr5_5207068_T', 'Chr5_5217845_G', 'Chr5_7811393_G', 'Chr5_9040598_C', 'Chr5_9601597_G', 'Chr5_14995268_A', 'Chr5_14996667_G', 'Chr5_15863849_T', 'Chr5_15883608_G', 'Chr5_17188834_C', 'Chr5_24190884_T', 'Chr5_24216252_T', 'Chr5_25073442_G', 'Chr5_26776733_A', 'Chr5_26776950_A', 'Chr5_26789458_A')\n",
      "Selected SNPs: ('Chr1_9615772_T', 'Chr1_18325367_A', 'Chr1_23267179_A', 'Chr1_30020590_T', 'Chr1_30020796_A', 'Chr1_30021468_T', 'Chr1_30022260_T', 'Chr2_8478404_G', 'Chr3_505329_A', 'Chr3_507951_A', 'Chr3_507969_G', 'Chr3_3652430_A', 'Chr3_4047086_T', 'Chr3_4073356_C', 'Chr3_4073911_C', 'Chr3_6983030_C', 'Chr3_20236730_T', 'Chr3_22984636_T', 'Chr3_23008395_C', 'Chr4_287861_G', 'Chr4_475593_A', 'Chr5_985158_C', 'Chr5_987682_T', 'Chr5_1168046_T', 'Chr5_3172628_T', 'Chr5_5207068_T', 'Chr5_14995268_A', 'Chr5_14996667_G', 'Chr5_15863849_T', 'Chr5_24190884_T')\n",
      "Selected SNPs: ('Chr1_30020796_A', 'Chr1_30021468_T', 'Chr3_505329_A', 'Chr3_507969_G', 'Chr3_1256038_T', 'Chr3_3652430_A', 'Chr3_4073356_C', 'Chr3_6983030_C', 'Chr3_21220796_C', 'Chr3_21224440_A', 'Chr3_22984636_T', 'Chr3_23008395_C', 'Chr4_475593_A', 'Chr5_1168046_T', 'Chr5_3171095_A', 'Chr5_3172628_T', 'Chr5_3184569_T', 'Chr5_3188327_T', 'Chr5_7811393_G', 'Chr5_14995268_A', 'Chr5_15863849_T', 'Chr5_24190884_T')\n",
      "Selected SNPs: ('Chr1_1196290_A', 'Chr1_4308649_A', 'Chr1_4529000_A', 'Chr1_5357269_C', 'Chr1_6346187_C', 'Chr1_6350963_G', 'Chr1_8081299_C', 'Chr1_8586632_G', 'Chr1_8589663_G', 'Chr1_8966667_G', 'Chr1_8993125_G', 'Chr1_9289504_A', 'Chr1_9615772_T', 'Chr1_11410886_A', 'Chr1_17834431_G', 'Chr1_17834584_C', 'Chr1_17843006_A', 'Chr1_17843881_T', 'Chr1_18325367_A', 'Chr1_18326797_C', 'Chr1_19791816_C', 'Chr1_21398694_G', 'Chr1_21410324_C', 'Chr1_22482857_T', 'Chr1_22485675_T', 'Chr1_23256450_C', 'Chr1_23258779_G', 'Chr1_24320333_A', 'Chr1_24322419_G', 'Chr1_24353052_T', 'Chr1_25978075_C', 'Chr1_29834120_G', 'Chr1_30020796_A', 'Chr1_30021468_T', 'Chr1_30022260_T', 'Chr1_30325401_T', 'Chr1_30333876_A', 'Chr2_254965_T', 'Chr2_8195914_C', 'Chr2_8446992_T', 'Chr2_8448114_C', 'Chr2_8454797_G', 'Chr2_8478404_G', 'Chr2_9037988_G', 'Chr2_10583050_C', 'Chr2_11041934_A', 'Chr2_18045473_T', 'Chr2_19019256_T', 'Chr2_19263594_T', 'Chr3_165596_T', 'Chr3_167940_G', 'Chr3_175652_C', 'Chr3_178064_C', 'Chr3_476716_A', 'Chr3_709201_T', 'Chr3_2429870_T', 'Chr3_2439779_T', 'Chr3_3616476_T', 'Chr3_3625191_C', 'Chr3_3652430_A', 'Chr3_4045875_G', 'Chr3_4047086_T', 'Chr3_4064752_G', 'Chr3_4073356_C', 'Chr3_4073911_C', 'Chr3_4079372_G', 'Chr3_6535547_T', 'Chr3_6547164_C', 'Chr3_6953889_A', 'Chr3_6983030_C', 'Chr3_7264663_C', 'Chr3_7270632_G', 'Chr3_7271721_A', 'Chr3_9413692_G', 'Chr3_17496673_A', 'Chr3_17512067_T', 'Chr3_17950654_T', 'Chr3_17951762_A', 'Chr3_20241781_A', 'Chr3_20248565_C', 'Chr3_20252392_G', 'Chr3_20264501_C', 'Chr3_20264924_T', 'Chr3_20268098_A', 'Chr3_20390008_G', 'Chr3_21220796_C', 'Chr3_21224440_A', 'Chr3_21240944_C', 'Chr3_22984636_T', 'Chr3_23003259_A', 'Chr3_23003512_G', 'Chr3_23008395_C', 'Chr4_197103_C', 'Chr4_198176_C', 'Chr4_280070_A', 'Chr4_287786_T', 'Chr4_287861_G', 'Chr4_454422_C', 'Chr4_454542_A', 'Chr4_471887_A', 'Chr4_475593_A', 'Chr4_873559_T', 'Chr4_877075_T', 'Chr4_1069242_T', 'Chr4_1070636_C', 'Chr4_1071480_G', 'Chr4_1072464_A', 'Chr4_1111882_G', 'Chr4_1260796_A', 'Chr4_5741106_C', 'Chr4_5742294_C', 'Chr4_8649881_C', 'Chr4_9201644_A', 'Chr4_9468678_A', 'Chr4_9473476_A', 'Chr4_9482414_A', 'Chr4_10028807_C', 'Chr4_11003559_G', 'Chr4_11011073_G', 'Chr4_14602920_C', 'Chr4_15917072_C', 'Chr4_15920841_T', 'Chr4_15921094_G', 'Chr4_16988138_G', 'Chr4_17010405_G', 'Chr4_17010466_G', 'Chr4_17013644_C', 'Chr4_17015322_G', 'Chr5_985158_C', 'Chr5_987682_T', 'Chr5_1168046_T', 'Chr5_1192508_G', 'Chr5_1715557_C', 'Chr5_3157857_C', 'Chr5_3171095_A', 'Chr5_3172628_T', 'Chr5_3184569_T', 'Chr5_3188327_T', 'Chr5_3195168_G', 'Chr5_3195613_T', 'Chr5_5207068_T', 'Chr5_5217845_G', 'Chr5_5220466_G', 'Chr5_5826408_T', 'Chr5_5833749_G', 'Chr5_5844131_T', 'Chr5_5844147_G', 'Chr5_8342566_T', 'Chr5_8356759_A', 'Chr5_9017297_T', 'Chr5_9586762_C', 'Chr5_9586817_A', 'Chr5_13999292_T', 'Chr5_14995268_A', 'Chr5_14996667_G', 'Chr5_14997378_A', 'Chr5_15001150_G', 'Chr5_15012608_C', 'Chr5_15891056_T', 'Chr5_17185382_C', 'Chr5_17187731_A', 'Chr5_17188834_C', 'Chr5_19067992_C', 'Chr5_19068096_G', 'Chr5_19087942_T', 'Chr5_24190884_T', 'Chr5_24216069_G', 'Chr5_24216252_T', 'Chr5_24670342_A', 'Chr5_25090152_A', 'Chr5_25976943_T', 'Chr5_26787989_A', 'Chr5_26789458_A')\n"
     ]
    }
   ],
   "source": [
    "# use 90% of the data size as subsample size\n",
    "subsize = int(round(0.9*len(y_2W_tr)))\n",
    "\n",
    "# compute stability\n",
    "elnet_stab = stability(X_2W_tr, y_2W_tr_scaled, elnet_selection_procedure, 10, subsize)"
   ]
  },
  {
   "cell_type": "code",
   "execution_count": 85,
   "metadata": {},
   "outputs": [
    {
     "name": "stdout",
     "output_type": "stream",
     "text": [
      "The stability of the ElasticNet selection is: 0.373\n"
     ]
    }
   ],
   "source": [
    "print(f\"The stability of the ElasticNet selection is: {elnet_stab:.3f}\")"
   ]
  },
  {
   "cell_type": "markdown",
   "metadata": {},
   "source": [
    "__Q: Compare this stability to that of the lasso and the t-test. Does it match your expectations?__"
   ]
  },
  {
   "cell_type": "markdown",
   "metadata": {
    "tags": []
   },
   "source": [
    "**Answer:**"
   ]
  },
  {
   "cell_type": "markdown",
   "metadata": {},
   "source": [
    "## Stability of Elastic Net with fixed regularization coefficients\n",
    "\n",
    "As with the Lasso, we can fix the values of the regularization coefficients to see whether this improves stability."
   ]
  },
  {
   "cell_type": "code",
   "execution_count": 86,
   "metadata": {},
   "outputs": [],
   "source": [
    "def fixed_hyperparam_elnet_selection_procedure(X_train, y_train):\n",
    "    \"\"\"\n",
    "    Fits an elastic net on the data. Returns the features with non-zero coefficients.\n",
    "\n",
    "    Rather than cross-validating the values of alpha and l1_ratio, cheat \n",
    "    and use the previously determined optimal values.\n",
    "    \n",
    "    Input parameters\n",
    "    ----------------\n",
    "    X_train: (n_samples, n_features) np.array\n",
    "       training data\n",
    "    y_train: (n_samples, ) np.array\n",
    "       training labels\n",
    "    \n",
    "    Output\n",
    "    ------\n",
    "    selection: (n_features, ) np.array\n",
    "        for j=1..n_features:\n",
    "            selection[j] = 0 if j is not selected\n",
    "            selection[j] = 1 otherwise.       \n",
    "    \"\"\"\n",
    "    # create an elastic net object\n",
    "    model_l1l2 = linear_model.ElasticNet(fit_intercept=True, alpha=0.1, l1_ratio=0.6, max_iter=1000)\n",
    "\n",
    "    # Use the grid search cross validation on the training data\n",
    "    model_l1l2.fit(X_train, y_train)\n",
    "    \n",
    "    print(f\"Selected SNPs: {*genotype_df.columns[np.where(model_l1l2.coef_)[0]],}\")    \n",
    "\n",
    "    # Consider the non-zero coefficients as selected\n",
    "    return(np.where(model_l1l2.coef_, 1, 0))"
   ]
  },
  {
   "cell_type": "code",
   "execution_count": 87,
   "metadata": {},
   "outputs": [
    {
     "name": "stdout",
     "output_type": "stream",
     "text": [
      "Selected SNPs: ('Chr1_4275011_T', 'Chr1_4529000_A', 'Chr1_5156423_T', 'Chr1_8993125_G', 'Chr1_9615772_T', 'Chr1_16466187_A', 'Chr1_17843006_A', 'Chr1_18325367_A', 'Chr1_21395824_C', 'Chr1_23267179_A', 'Chr1_24322419_G', 'Chr1_25973043_G', 'Chr1_28960616_T', 'Chr1_28964253_G', 'Chr1_29900726_A', 'Chr1_30020796_A', 'Chr1_30021468_T', 'Chr1_30022260_T', 'Chr2_8195914_C', 'Chr2_8446992_T', 'Chr2_8449743_C', 'Chr2_8478404_G', 'Chr2_9581605_C', 'Chr2_18045473_T', 'Chr2_19019256_T', 'Chr3_476716_A', 'Chr3_505329_A', 'Chr3_507969_G', 'Chr3_1256038_T', 'Chr3_1257380_C', 'Chr3_1423930_G', 'Chr3_3625191_C', 'Chr3_3652430_A', 'Chr3_4047086_T', 'Chr3_4073356_C', 'Chr3_4073911_C', 'Chr3_4079372_G', 'Chr3_6983030_C', 'Chr3_17951762_A', 'Chr3_20236730_T', 'Chr3_20390008_G', 'Chr3_21224440_A', 'Chr3_21245739_C', 'Chr3_22984636_T', 'Chr3_22998693_G', 'Chr3_23003259_A', 'Chr3_23003512_G', 'Chr3_23008395_C', 'Chr4_197103_C', 'Chr4_198176_C', 'Chr4_475593_A', 'Chr4_877075_T', 'Chr4_1261211_A', 'Chr4_8649881_C', 'Chr4_18560349_A', 'Chr5_1168046_T', 'Chr5_3171095_A', 'Chr5_3172628_T', 'Chr5_3177111_A', 'Chr5_3184569_T', 'Chr5_3185806_C', 'Chr5_3188327_T', 'Chr5_5207068_T', 'Chr5_5815201_T', 'Chr5_5833749_G', 'Chr5_7811393_G', 'Chr5_14995268_A', 'Chr5_14996667_G', 'Chr5_15001150_G', 'Chr5_15004707_A', 'Chr5_15004723_A', 'Chr5_15863849_T', 'Chr5_19953902_A', 'Chr5_24190884_T', 'Chr5_24216069_G', 'Chr5_24216252_T', 'Chr5_26787989_A', 'Chr5_26789458_A')\n",
      "Selected SNPs: ('Chr1_5156207_A', 'Chr1_16473141_A', 'Chr1_16483989_C', 'Chr1_18326797_C', 'Chr1_23256450_C', 'Chr1_30020796_A', 'Chr1_30021468_T', 'Chr1_30022260_T', 'Chr2_8177342_C', 'Chr2_8195914_C', 'Chr2_9037988_G', 'Chr2_9581605_C', 'Chr2_17832577_G', 'Chr2_18045473_T', 'Chr2_18425301_A', 'Chr3_1256038_T', 'Chr3_3624394_T', 'Chr3_3625191_C', 'Chr3_3652430_A', 'Chr3_6529082_A', 'Chr3_6953889_A', 'Chr3_6983030_C', 'Chr3_17512067_T', 'Chr3_17926251_C', 'Chr3_17926713_A', 'Chr3_20235057_T', 'Chr3_20236730_T', 'Chr3_20391404_C', 'Chr3_22984636_T', 'Chr4_454542_A', 'Chr4_460246_T', 'Chr4_475593_A', 'Chr4_877075_T', 'Chr4_1260796_A', 'Chr4_8148790_G', 'Chr5_987682_T', 'Chr5_1168046_T', 'Chr5_3188327_T', 'Chr5_5207068_T', 'Chr5_5218799_A', 'Chr5_7811393_G', 'Chr5_8356759_A', 'Chr5_8357722_C', 'Chr5_8358542_C', 'Chr5_9017297_T', 'Chr5_9040598_C', 'Chr5_14995268_A', 'Chr5_15863849_T', 'Chr5_19953902_A', 'Chr5_24216069_G', 'Chr5_24218099_T', 'Chr5_24593697_G', 'Chr5_24666777_G', 'Chr5_24670342_A', 'Chr5_25082163_G', 'Chr5_26787989_A', 'Chr5_26789458_A')\n",
      "Selected SNPs: ('Chr1_9289504_A', 'Chr1_16466187_A', 'Chr1_18325367_A', 'Chr1_23248789_C', 'Chr1_23267179_A', 'Chr1_24322419_G', 'Chr1_25973043_G', 'Chr1_29026259_C', 'Chr1_29026627_A', 'Chr1_29041439_C', 'Chr1_29041794_T', 'Chr1_29043091_G', 'Chr1_29044150_C', 'Chr1_29045537_A', 'Chr1_29045883_A', 'Chr1_29900726_A', 'Chr1_30020590_T', 'Chr1_30020796_A', 'Chr1_30021468_T', 'Chr1_30022260_T', 'Chr1_30345159_T', 'Chr2_8195914_C', 'Chr2_8438294_A', 'Chr2_8446992_T', 'Chr2_11041934_A', 'Chr2_17891050_T', 'Chr2_18425301_A', 'Chr2_19019256_T', 'Chr3_476716_A', 'Chr3_505329_A', 'Chr3_507951_A', 'Chr3_507969_G', 'Chr3_709201_T', 'Chr3_1256038_T', 'Chr3_1257380_C', 'Chr3_3652430_A', 'Chr3_4047086_T', 'Chr3_6535547_T', 'Chr3_6983030_C', 'Chr3_17512067_T', 'Chr3_17951762_A', 'Chr3_20236730_T', 'Chr3_21220796_C', 'Chr3_21224440_A', 'Chr3_21245739_C', 'Chr3_22984636_T', 'Chr3_22998693_G', 'Chr3_23003259_A', 'Chr3_23003512_G', 'Chr3_23008395_C', 'Chr4_197103_C', 'Chr4_198176_C', 'Chr4_475593_A', 'Chr4_877075_T', 'Chr4_5742294_C', 'Chr4_8649881_C', 'Chr4_11003559_G', 'Chr4_17386485_A', 'Chr5_987682_T', 'Chr5_1168046_T', 'Chr5_3171095_A', 'Chr5_3172628_T', 'Chr5_3177111_A', 'Chr5_3185806_C', 'Chr5_3195168_G', 'Chr5_3195613_T', 'Chr5_5207068_T', 'Chr5_5217845_G', 'Chr5_5833749_G', 'Chr5_7811393_G', 'Chr5_9040598_C', 'Chr5_14995268_A', 'Chr5_15863849_T', 'Chr5_19952226_T', 'Chr5_19953902_A', 'Chr5_24190884_T', 'Chr5_24216252_T', 'Chr5_26776950_A', 'Chr5_26789458_A')\n",
      "Selected SNPs: ('Chr1_5156423_T', 'Chr1_17843006_A', 'Chr1_18325367_A', 'Chr1_21412861_G', 'Chr1_22485675_T', 'Chr1_30020590_T', 'Chr1_30020796_A', 'Chr1_30021468_T', 'Chr1_30022260_T', 'Chr1_30345159_T', 'Chr2_8438294_A', 'Chr2_8446992_T', 'Chr2_8448114_C', 'Chr2_8478404_G', 'Chr2_11041934_A', 'Chr2_17891050_T', 'Chr3_167940_G', 'Chr3_476716_A', 'Chr3_2439779_T', 'Chr3_3652430_A', 'Chr3_4045875_G', 'Chr3_4064752_G', 'Chr3_4073356_C', 'Chr3_6535547_T', 'Chr3_6983030_C', 'Chr3_17512067_T', 'Chr3_17951762_A', 'Chr3_20236730_T', 'Chr3_20264501_C', 'Chr3_20390008_G', 'Chr3_21240944_C', 'Chr3_22984636_T', 'Chr3_23003512_G', 'Chr3_23008395_C', 'Chr4_197103_C', 'Chr4_280070_A', 'Chr4_287861_G', 'Chr4_454542_A', 'Chr4_475593_A', 'Chr4_877075_T', 'Chr4_1111882_G', 'Chr4_5742294_C', 'Chr4_8649881_C', 'Chr4_14602920_C', 'Chr4_17010405_G', 'Chr4_17010466_G', 'Chr4_17386485_A', 'Chr5_1168046_T', 'Chr5_3171095_A', 'Chr5_3172628_T', 'Chr5_3184569_T', 'Chr5_3188327_T', 'Chr5_3195168_G', 'Chr5_3195613_T', 'Chr5_5207068_T', 'Chr5_7811393_G', 'Chr5_9040598_C', 'Chr5_14995268_A', 'Chr5_14996667_G', 'Chr5_15863849_T', 'Chr5_17185382_C', 'Chr5_19953902_A', 'Chr5_24190884_T', 'Chr5_24216252_T', 'Chr5_26776950_A')\n",
      "Selected SNPs: ('Chr1_3091675_A', 'Chr1_5158875_C', 'Chr1_5356387_G', 'Chr1_9615772_T', 'Chr1_16466187_A', 'Chr1_17843006_A', 'Chr1_23267179_A', 'Chr1_25973043_G', 'Chr1_30020590_T', 'Chr1_30020796_A', 'Chr1_30021468_T', 'Chr1_30022260_T', 'Chr2_8177342_C', 'Chr2_8195914_C', 'Chr2_8438294_A', 'Chr2_8443805_T', 'Chr2_8478404_G', 'Chr2_11041934_A', 'Chr2_18425301_A', 'Chr3_505329_A', 'Chr3_507969_G', 'Chr3_709201_T', 'Chr3_1256038_T', 'Chr3_1257380_C', 'Chr3_3652430_A', 'Chr3_4047086_T', 'Chr3_4070592_T', 'Chr3_4073911_C', 'Chr3_6983030_C', 'Chr3_17512067_T', 'Chr3_20235057_T', 'Chr3_20236730_T', 'Chr3_20389000_C', 'Chr3_20389175_C', 'Chr3_20389862_A', 'Chr3_20390008_G', 'Chr3_20391704_C', 'Chr3_20392167_G', 'Chr3_20392276_G', 'Chr3_21224440_A', 'Chr3_21245739_C', 'Chr3_22984636_T', 'Chr3_23008395_C', 'Chr4_197103_C', 'Chr4_198176_C', 'Chr4_454542_A', 'Chr4_460246_T', 'Chr4_475593_A', 'Chr4_1071480_G', 'Chr4_1260796_A', 'Chr4_8649881_C', 'Chr4_15895966_T', 'Chr4_17010405_G', 'Chr4_17010466_G', 'Chr5_987682_T', 'Chr5_1168046_T', 'Chr5_3171095_A', 'Chr5_3172628_T', 'Chr5_3173618_G', 'Chr5_3184569_T', 'Chr5_3188327_T', 'Chr5_5207068_T', 'Chr5_5843302_C', 'Chr5_7811393_G', 'Chr5_14990635_A', 'Chr5_14995268_A', 'Chr5_14996667_G', 'Chr5_15863849_T', 'Chr5_24216069_G', 'Chr5_26776733_A', 'Chr5_26776950_A', 'Chr5_26787989_A')\n",
      "Selected SNPs: ('Chr1_8993125_G', 'Chr1_9615772_T', 'Chr1_16466187_A', 'Chr1_17843006_A', 'Chr1_18325367_A', 'Chr1_29026259_C', 'Chr1_29900726_A', 'Chr1_30020590_T', 'Chr1_30020796_A', 'Chr1_30021468_T', 'Chr1_30022260_T', 'Chr1_30343591_T', 'Chr2_8195914_C', 'Chr2_8438294_A', 'Chr2_8446992_T', 'Chr2_9581605_C', 'Chr2_11041934_A', 'Chr2_18045473_T', 'Chr2_19019256_T', 'Chr3_476716_A', 'Chr3_505329_A', 'Chr3_507969_G', 'Chr3_1256038_T', 'Chr3_1257380_C', 'Chr3_3652430_A', 'Chr3_4073356_C', 'Chr3_4073911_C', 'Chr3_6983030_C', 'Chr3_17496673_A', 'Chr3_17512067_T', 'Chr3_20390008_G', 'Chr3_21220796_C', 'Chr3_21224440_A', 'Chr3_21245739_C', 'Chr3_22984636_T', 'Chr3_22998693_G', 'Chr3_23003512_G', 'Chr3_23008395_C', 'Chr4_197103_C', 'Chr4_198176_C', 'Chr4_454542_A', 'Chr4_475593_A', 'Chr4_877075_T', 'Chr4_1241727_T', 'Chr4_1241765_G', 'Chr4_1260796_A', 'Chr4_16988138_G', 'Chr4_17386485_A', 'Chr5_1168046_T', 'Chr5_3171095_A', 'Chr5_3172628_T', 'Chr5_3184569_T', 'Chr5_3188327_T', 'Chr5_5205949_C', 'Chr5_5207068_T', 'Chr5_5217845_G', 'Chr5_7811393_G', 'Chr5_14995268_A', 'Chr5_15863849_T', 'Chr5_24190884_T', 'Chr5_24216069_G', 'Chr5_24216252_T', 'Chr5_26788217_G', 'Chr5_26789458_A')\n",
      "Selected SNPs: ('Chr1_5156423_T', 'Chr1_9615772_T', 'Chr1_16466187_A', 'Chr1_17839049_T', 'Chr1_17843006_A', 'Chr1_23267179_A', 'Chr1_24320333_A', 'Chr1_24322419_G', 'Chr1_25973043_G', 'Chr1_30020590_T', 'Chr1_30020796_A', 'Chr1_30021468_T', 'Chr1_30022260_T', 'Chr2_8195914_C', 'Chr2_8438294_A', 'Chr2_8478404_G', 'Chr2_18045473_T', 'Chr2_18425301_A', 'Chr2_19019256_T', 'Chr3_505329_A', 'Chr3_507969_G', 'Chr3_1256038_T', 'Chr3_1257380_C', 'Chr3_3652430_A', 'Chr3_4047086_T', 'Chr3_4049713_A', 'Chr3_4073356_C', 'Chr3_4073911_C', 'Chr3_4079372_G', 'Chr3_6983030_C', 'Chr3_17512067_T', 'Chr3_20236730_T', 'Chr3_20389000_C', 'Chr3_20389175_C', 'Chr3_20389694_C', 'Chr3_20389862_A', 'Chr3_20391181_A', 'Chr3_20391704_C', 'Chr3_20392167_G', 'Chr3_20392276_G', 'Chr3_21220796_C', 'Chr3_21224440_A', 'Chr3_21240944_C', 'Chr3_21245739_C', 'Chr3_22984636_T', 'Chr3_22998693_G', 'Chr3_23008395_C', 'Chr4_197103_C', 'Chr4_475593_A', 'Chr4_1071480_G', 'Chr4_1241727_T', 'Chr4_1241765_G', 'Chr4_1261211_A', 'Chr4_8649881_C', 'Chr5_987682_T', 'Chr5_1168046_T', 'Chr5_3171095_A', 'Chr5_3172628_T', 'Chr5_3184569_T', 'Chr5_3188327_T', 'Chr5_3195168_G', 'Chr5_3195613_T', 'Chr5_5207068_T', 'Chr5_7811393_G', 'Chr5_9040598_C', 'Chr5_14993993_T', 'Chr5_14995268_A', 'Chr5_14996667_G', 'Chr5_15863849_T', 'Chr5_19953902_A', 'Chr5_24190884_T', 'Chr5_24216069_G', 'Chr5_24216252_T', 'Chr5_25090152_A', 'Chr5_26776733_A', 'Chr5_26776950_A')\n",
      "Selected SNPs: ('Chr1_1196290_A', 'Chr1_4529000_A', 'Chr1_5156423_T', 'Chr1_5356387_G', 'Chr1_24322419_G', 'Chr1_24729610_G', 'Chr1_29834120_G', 'Chr1_29900726_A', 'Chr1_30020796_A', 'Chr1_30021468_T', 'Chr1_30022260_T', 'Chr1_30345159_T', 'Chr2_1136204_T', 'Chr2_8446992_T', 'Chr2_8449743_C', 'Chr2_8460494_C', 'Chr2_8478404_G', 'Chr2_9037988_G', 'Chr2_9581605_C', 'Chr2_19019256_T', 'Chr3_459895_T', 'Chr3_476716_A', 'Chr3_1256038_T', 'Chr3_1426429_A', 'Chr3_1427788_A', 'Chr3_3625191_C', 'Chr3_3652430_A', 'Chr3_3656161_A', 'Chr3_4047086_T', 'Chr3_4073356_C', 'Chr3_6953889_A', 'Chr3_6983030_C', 'Chr3_7259928_C', 'Chr3_7264663_C', 'Chr3_17512067_T', 'Chr3_20236730_T', 'Chr3_20390008_G', 'Chr3_22984636_T', 'Chr3_23003259_A', 'Chr3_23003512_G', 'Chr3_23008395_C', 'Chr4_202037_A', 'Chr4_202156_G', 'Chr4_210370_A', 'Chr4_475593_A', 'Chr4_877075_T', 'Chr4_1260796_A', 'Chr4_1260826_A', 'Chr4_1261211_A', 'Chr4_5705252_A', 'Chr4_8148790_G', 'Chr4_8649881_C', 'Chr4_9473908_A', 'Chr4_17386485_A', 'Chr5_987682_T', 'Chr5_1168046_T', 'Chr5_3188327_T', 'Chr5_3196993_G', 'Chr5_5207068_T', 'Chr5_5843302_C', 'Chr5_7811393_G', 'Chr5_9040598_C', 'Chr5_13991178_G', 'Chr5_14995268_A', 'Chr5_15863849_T', 'Chr5_17185382_C', 'Chr5_17188834_C', 'Chr5_19953902_A', 'Chr5_24216069_G', 'Chr5_24593697_G', 'Chr5_26776733_A', 'Chr5_26789458_A')\n",
      "Selected SNPs: ('Chr1_5356387_G', 'Chr1_22485675_T', 'Chr1_23267179_A', 'Chr1_23279748_T', 'Chr1_29834120_G', 'Chr1_30020796_A', 'Chr1_30021468_T', 'Chr1_30022260_T', 'Chr2_1136204_T', 'Chr2_1146229_G', 'Chr2_8446992_T', 'Chr2_8478404_G', 'Chr2_9581605_C', 'Chr2_11041934_A', 'Chr2_17832577_G', 'Chr2_19020671_T', 'Chr3_459895_T', 'Chr3_1256038_T', 'Chr3_1257380_C', 'Chr3_3625191_C', 'Chr3_3652430_A', 'Chr3_3656161_A', 'Chr3_4047086_T', 'Chr3_4073356_C', 'Chr3_6952528_T', 'Chr3_6953889_A', 'Chr3_6983030_C', 'Chr3_7260893_G', 'Chr3_17512067_T', 'Chr3_17951762_A', 'Chr3_22984636_T', 'Chr3_23003259_A', 'Chr3_23003512_G', 'Chr4_197103_C', 'Chr4_198176_C', 'Chr4_454542_A', 'Chr4_475593_A', 'Chr4_877075_T', 'Chr4_1260796_A', 'Chr4_1261211_A', 'Chr4_5705252_A', 'Chr4_8649881_C', 'Chr4_9228412_T', 'Chr4_9473908_A', 'Chr4_15895966_T', 'Chr4_17386485_A', 'Chr5_987682_T', 'Chr5_1168046_T', 'Chr5_3171095_A', 'Chr5_3172628_T', 'Chr5_3188327_T', 'Chr5_5207068_T', 'Chr5_7811393_G', 'Chr5_14995268_A', 'Chr5_15863849_T', 'Chr5_17188834_C', 'Chr5_19950562_A', 'Chr5_19951930_T', 'Chr5_19952086_A', 'Chr5_19952158_T', 'Chr5_19952226_T', 'Chr5_19953902_A', 'Chr5_24190884_T', 'Chr5_24216069_G', 'Chr5_24593697_G', 'Chr5_26776733_A', 'Chr5_26776950_A')\n",
      "Selected SNPs: ('Chr1_5156207_A', 'Chr1_5158875_C', 'Chr1_16466187_A', 'Chr1_18325367_A', 'Chr1_18326797_C', 'Chr1_19795022_A', 'Chr1_21412861_G', 'Chr1_26937005_T', 'Chr1_30020796_A', 'Chr1_30343591_T', 'Chr1_30345159_T', 'Chr2_8195914_C', 'Chr2_9581605_C', 'Chr2_11041934_A', 'Chr2_18044764_A', 'Chr2_18045473_T', 'Chr3_165596_T', 'Chr3_167940_G', 'Chr3_175652_C', 'Chr3_178064_C', 'Chr3_186187_G', 'Chr3_505329_A', 'Chr3_507969_G', 'Chr3_1257380_C', 'Chr3_1261187_A', 'Chr3_3625191_C', 'Chr3_3652430_A', 'Chr3_4047086_T', 'Chr3_4073911_C', 'Chr3_6529082_A', 'Chr3_6983030_C', 'Chr3_17512067_T', 'Chr3_17949721_A', 'Chr3_17949877_G', 'Chr3_20236730_T', 'Chr3_20391404_C', 'Chr3_21220796_C', 'Chr3_21224440_A', 'Chr3_21240944_C', 'Chr3_21245739_C', 'Chr3_22984636_T', 'Chr3_22998693_G', 'Chr3_23008395_C', 'Chr4_197103_C', 'Chr4_198176_C', 'Chr4_261357_T', 'Chr4_475593_A', 'Chr4_877075_T', 'Chr4_1071480_G', 'Chr4_8148648_T', 'Chr4_8148790_G', 'Chr4_9482414_A', 'Chr4_15917072_C', 'Chr5_987682_T', 'Chr5_1168046_T', 'Chr5_3171095_A', 'Chr5_3172628_T', 'Chr5_3184569_T', 'Chr5_5207068_T', 'Chr5_5218799_A', 'Chr5_7811393_G', 'Chr5_8356759_A', 'Chr5_9017297_T', 'Chr5_14995268_A', 'Chr5_15001150_G', 'Chr5_15863849_T', 'Chr5_15885726_T', 'Chr5_19953902_A', 'Chr5_24190884_T', 'Chr5_24216252_T', 'Chr5_24218099_T', 'Chr5_24593697_G', 'Chr5_26789458_A')\n"
     ]
    }
   ],
   "source": [
    "# use 90% of the data size as subsample size\n",
    "subsize = int(round(0.9*len(y_2W_tr)))\n",
    "\n",
    "# compute stability\n",
    "elnet_stab = stability(X_2W_tr, y_2W_tr_scaled, fixed_hyperparam_elnet_selection_procedure, 10, subsize)"
   ]
  },
  {
   "cell_type": "code",
   "execution_count": 88,
   "metadata": {},
   "outputs": [
    {
     "name": "stdout",
     "output_type": "stream",
     "text": [
      "The stability of the Elastic Net selection with fixed regularization hyperparemeters is: 0.473\n"
     ]
    }
   ],
   "source": [
    "print(f\"The stability of the Elastic Net selection with fixed regularization hyperparemeters is: {elnet_stab:.3f}\")"
   ]
  },
  {
   "cell_type": "markdown",
   "metadata": {},
   "source": [
    "__Q: Compare this stability to that of the elastic net with cross-validation of the hyperparameters. Does it match your expectations?__"
   ]
  },
  {
   "cell_type": "markdown",
   "metadata": {
    "tags": []
   },
   "source": [
    "**Answer:**"
   ]
  }
 ],
 "metadata": {
  "kernelspec": {
   "display_name": "Python 3 (ipykernel)",
   "language": "python",
   "name": "python3"
  },
  "language_info": {
   "codemirror_mode": {
    "name": "ipython",
    "version": 3
   },
   "file_extension": ".py",
   "mimetype": "text/x-python",
   "name": "python",
   "nbconvert_exporter": "python",
   "pygments_lexer": "ipython3",
   "version": "3.8.12"
  }
 },
 "nbformat": 4,
 "nbformat_minor": 4
}
