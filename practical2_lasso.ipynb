{
 "cells": [
  {
   "cell_type": "markdown",
   "id": "93c5a0ac-7405-4ef4-b2fc-3d0ecbb12a4b",
   "metadata": {},
   "source": [
    "# Machine learning for genetic data — Part 2: Lasso "
   ]
  },
  {
   "cell_type": "markdown",
   "id": "feba3323-76b8-48f6-aebf-4e08da8cf7c4",
   "metadata": {},
   "source": [
    "## Reload librairies and data\n",
    "\n",
    "Let us first reload the librairies and data used in Part 1. You can run this entire section (until the \"Lasso\" section) \"blindly\"."
   ]
  },
  {
   "cell_type": "code",
   "execution_count": 1,
   "id": "7a59dfc4-6789-4c56-9bb9-c7666f83a988",
   "metadata": {},
   "outputs": [],
   "source": [
    "# make sure graphics are displayed inline (rather than opened in new windows)\n",
    "%matplotlib inline \n",
    "\n",
    "# imports\n",
    "import matplotlib.pyplot as plt\n",
    "import numpy as np"
   ]
  },
  {
   "cell_type": "code",
   "execution_count": 2,
   "id": "6c4b6cdf-2828-4319-9d73-a668b97737f8",
   "metadata": {},
   "outputs": [],
   "source": [
    "import pandas as pd"
   ]
  },
  {
   "cell_type": "code",
   "execution_count": 3,
   "id": "d48fac6b-a94d-4f4c-ad3b-d97b7650a719",
   "metadata": {},
   "outputs": [],
   "source": [
    "import statsmodels.api as sm"
   ]
  },
  {
   "cell_type": "code",
   "execution_count": 4,
   "id": "0c48e314-367b-4acc-a55e-d5ad5b10886c",
   "metadata": {},
   "outputs": [],
   "source": [
    "from sklearn import decomposition, linear_model, metrics, model_selection"
   ]
  },
  {
   "cell_type": "code",
   "execution_count": 5,
   "id": "f61acbe0-edb5-4eb9-8e38-61f88d10ad41",
   "metadata": {},
   "outputs": [],
   "source": [
    "plt.rc('font', **{'size': 14}) # font size for text on plots"
   ]
  },
  {
   "cell_type": "markdown",
   "id": "a31fd93b-503a-4715-93e9-1df596a153e8",
   "metadata": {},
   "source": [
    "### Load data"
   ]
  },
  {
   "cell_type": "code",
   "execution_count": 6,
   "id": "16013e69-a138-4c73-bb84-ebc815c4e329",
   "metadata": {},
   "outputs": [],
   "source": [
    "# Load the genotype data\n",
    "genotype_df = pd.read_csv(\"data/athaliana_small.genotype.txt\")\n",
    "genotype_df = genotype_df.set_index(\"Sample\")"
   ]
  },
  {
   "cell_type": "code",
   "execution_count": 7,
   "id": "18b76b5f-3aec-44e4-addb-81f757a7b7e2",
   "metadata": {},
   "outputs": [],
   "source": [
    "# Load the 2W phenotype\n",
    "phenotype_df = pd.read_csv('data/athaliana_small.2W.pheno', delim_whitespace=True)"
   ]
  },
  {
   "cell_type": "code",
   "execution_count": 8,
   "id": "f8a0e137-891f-416f-8630-45998991f31d",
   "metadata": {},
   "outputs": [],
   "source": [
    "# Create the corresponding response vector\n",
    "y_2W = np.array(phenotype_df[\"2W\"])"
   ]
  },
  {
   "cell_type": "code",
   "execution_count": 9,
   "id": "8e8c55a0-c04d-4d95-9f2f-3eb16a1b6a6c",
   "metadata": {},
   "outputs": [],
   "source": [
    "# Create the corresponding data matrix\n",
    "X_2W = np.array(genotype_df.loc[phenotype_df[\"IID\"]])"
   ]
  },
  {
   "cell_type": "code",
   "execution_count": 10,
   "id": "a921502f-37c9-4e8e-a4cd-5bef24da5d06",
   "metadata": {},
   "outputs": [],
   "source": [
    "num_snps = X_2W.shape[1]"
   ]
  },
  {
   "cell_type": "code",
   "execution_count": 11,
   "id": "de686a4a-d492-4f52-aa85-4f09b1870849",
   "metadata": {},
   "outputs": [],
   "source": [
    "# Load the list of candidate genes\n",
    "with open('data/candidate_genes.txt') as f:\n",
    "    candidate_genes = f.readline().split()\n",
    "    f.close()"
   ]
  },
  {
   "cell_type": "code",
   "execution_count": 12,
   "id": "ce19b875-7d9b-41ec-81c7-947cadbfeed8",
   "metadata": {},
   "outputs": [],
   "source": [
    "# Load the SNP to gene mapping\n",
    "genes_by_snp = {} # key: SNP, value = [genes in/near which this SNP is]\n",
    "with open('data/snps_by_gene.txt') as f:\n",
    "    for line in f:\n",
    "        ls = line.split()\n",
    "        gene_id = ls[0]\n",
    "        for snp_id in ls[1:]:\n",
    "            if not snp_id in genes_by_snp:\n",
    "                genes_by_snp[snp_id] = []\n",
    "            genes_by_snp[snp_id].append(gene_id) "
   ]
  },
  {
   "cell_type": "markdown",
   "id": "24de8100-fb65-4f9c-b4f7-6d91e1abeb9b",
   "metadata": {},
   "source": [
    "### Correct the phenotype for population structure"
   ]
  },
  {
   "cell_type": "code",
   "execution_count": 13,
   "id": "5f90cdfe-8e17-42f6-a444-5985a4df755f",
   "metadata": {},
   "outputs": [],
   "source": [
    "pca = decomposition.PCA(n_components=5)\n",
    "pca.fit(X_2W)\n",
    "principal_components = X_2W.dot(pca.components_.T) \n",
    "\n",
    "# Fit a linear model between the phenotype and the principal components\n",
    "model = linear_model.LinearRegression()\n",
    "model.fit(principal_components, y_2W)\n",
    "\n",
    "# Compute the model's residuals\n",
    "y_pred = model.predict(principal_components)\n",
    "y_2W_corrected = y_2W - y_pred"
   ]
  },
  {
   "cell_type": "markdown",
   "id": "abf8aba3-47e8-4065-884c-a517fb9bcc40",
   "metadata": {},
   "source": [
    "### Split the data in train/test"
   ]
  },
  {
   "cell_type": "code",
   "execution_count": 14,
   "id": "38957dd1-3e3f-48b1-838a-8f508330908b",
   "metadata": {},
   "outputs": [
    {
     "name": "stdout",
     "output_type": "stream",
     "text": [
      "Training set shape: (121, 9419)\n",
      "Test set shape: (31, 9419)\n"
     ]
    }
   ],
   "source": [
    "X_2W_tr, X_2W_te, y_2W_tr, y_2W_te = \\\n",
    "    model_selection.train_test_split(X_2W, y_2W_corrected, test_size=0.2, random_state=42)\n",
    "print(f\"Training set shape: {X_2W_tr.shape}\\nTest set shape: {X_2W_te.shape}\")"
   ]
  },
  {
   "cell_type": "markdown",
   "id": "6d36abb1-101d-4ebc-94f5-5bcfec62e8ad",
   "metadata": {
    "tags": []
   },
   "source": [
    "## Lasso\n",
    "\n",
    "We will now learn another linear model on the data, using all SNPs, but instead of using a simple ordinary least squares approach, we will use a Lasso. The l1 regularisation term will help us learn a sparse model."
   ]
  },
  {
   "cell_type": "markdown",
   "id": "9edd37b2-e1f1-4b14-adf2-af243deff8c9",
   "metadata": {},
   "source": [
    "### Scaling the phenotype"
   ]
  },
  {
   "cell_type": "markdown",
   "id": "c4abdbf1-edf1-4e71-bc9c-c3b937463a52",
   "metadata": {},
   "source": [
    "Although it does not matter for the ordinary least squares, _regularized_ linear regression work better if the inputs are all on the same scale (which is the case here) and if the outputs are centered on 0 with a standard deviation of 1.\n",
    "\n",
    "We therefore transform the outputs accordingly.\n",
    "\n",
    "Note that we compute the mean and standard deviation _on the train set_ because we are pretending at this stage not to know the test set."
   ]
  },
  {
   "cell_type": "code",
   "execution_count": 15,
   "id": "2be91d86-9bfa-47c0-87b2-5b1037b1b849",
   "metadata": {},
   "outputs": [],
   "source": [
    "from sklearn import preprocessing"
   ]
  },
  {
   "cell_type": "code",
   "execution_count": 16,
   "id": "97702bef-1f0b-4498-b29a-8db11ace7f77",
   "metadata": {},
   "outputs": [],
   "source": [
    "scaler = preprocessing.StandardScaler()\n",
    "scaler.fit(y_2W_tr.reshape(-1, 1))\n",
    "y_2W_tr_scaled = scaler.transform(y_2W_tr.reshape(-1, 1)).reshape(-1, )"
   ]
  },
  {
   "cell_type": "code",
   "execution_count": 17,
   "id": "ff9f6734-0409-47f9-89b2-dff024baffeb",
   "metadata": {},
   "outputs": [
    {
     "data": {
      "text/plain": [
       "Text(0, 0.5, 'Number of samples')"
      ]
     },
     "execution_count": 17,
     "metadata": {},
     "output_type": "execute_result"
    },
    {
     "data": {
      "image/png": "[encoded data removed]",
      "text/plain": [
       "<Figure size 432x288 with 1 Axes>"
      ]
     },
     "metadata": {
      "needs_background": "light"
     },
     "output_type": "display_data"
    }
   ],
   "source": [
    "h = plt.hist(y_2W_tr_scaled, bins=20)\n",
    "plt.xlabel(\"2W phenotype value after scaling\")\n",
    "plt.ylabel(\"Number of samples\")"
   ]
  },
  {
   "cell_type": "markdown",
   "id": "8d58b7ab-867a-4537-bb13-4a54fd46c566",
   "metadata": {},
   "source": [
    "__Q: What was the effect of StandardScaler()?__"
   ]
  },
  {
   "cell_type": "markdown",
   "id": "b7f9243e-8762-4550-b4d4-8ee2799ba4f5",
   "metadata": {
    "tags": []
   },
   "source": [
    "**Answer:**"
   ]
  },
  {
   "cell_type": "markdown",
   "id": "3b0da3b9-30a0-47ef-85f1-de716341a2dc",
   "metadata": {},
   "source": [
    "### Regularization path\n",
    "\n",
    "To better understand what the lasso does and what is the role of the regularization parameter `alpha`, we will first use the `lasso_path` method to compute the _regularization path_ of the Lasso: we obtain the regression coefficient of each feature/SNP in a model learned with a lasso _for a range of values of `alpha`_."
   ]
  },
  {
   "cell_type": "code",
   "execution_count": 18,
   "id": "81a708c5-614d-41a8-a7a4-9e6f1bb840a2",
   "metadata": {},
   "outputs": [],
   "source": [
    "alphas_lasso, coefs_lasso, _ = linear_model.lasso_path(X_2W_tr, y_2W_tr_scaled)"
   ]
  },
  {
   "cell_type": "markdown",
   "id": "fa29ffa8-be58-499e-a746-48f63e122504",
   "metadata": {},
   "source": [
    "We can now plot, for each SNP, how its coefficient in the linear model learned by the lasso evolves with `alpha`. Let us start with the SNP at index 100:"
   ]
  },
  {
   "cell_type": "code",
   "execution_count": 19,
   "id": "f88928f2-87c8-4703-9cf5-1fce6c88864d",
   "metadata": {},
   "outputs": [
    {
     "data": {
      "text/plain": [
       "Text(0.5, 1.0, 'Regularization path for SNP Chr1_3089429_C')"
      ]
     },
     "execution_count": 19,
     "metadata": {},
     "output_type": "execute_result"
    },
    {
     "data": {
      "image/png": "[encoded data removed]",
      "text/plain": [
       "<Figure size 432x288 with 1 Axes>"
      ]
     },
     "metadata": {
      "needs_background": "light"
     },
     "output_type": "display_data"
    }
   ],
   "source": [
    "plt.plot(alphas_lasso, coefs_lasso[100, :])\n",
    "plt.xscale(\"log\")\n",
    "plt.xlabel(\"regularization parameter (log scale)\")\n",
    "plt.ylabel(\"regression coefficient of SNP\")\n",
    "plt.title(f\"Regularization path for SNP {genotype_df.columns[100]}\")"
   ]
  },
  {
   "cell_type": "markdown",
   "id": "2e8a5ccf-e966-48e4-b958-107b51444996",
   "metadata": {},
   "source": [
    "__Q: What is the effect of the regularization parameter on the SNP's coefficient?__"
   ]
  },
  {
   "cell_type": "markdown",
   "id": "4b1d6f16-9a28-46b3-8663-d4f66303c153",
   "metadata": {},
   "source": [
    "__Answer:__"
   ]
  },
  {
   "cell_type": "markdown",
   "id": "efcea11e-37d4-496b-8015-18424270f6b0",
   "metadata": {},
   "source": [
    "We can now repeat the same plot for all SNPs for which the regression coefficient takes non-zero values along the regularization path (otherwise, we'll just have a flat line on the y=0 axis)."
   ]
  },
  {
   "cell_type": "code",
   "execution_count": 20,
   "id": "098e5b66-bea7-4d76-b88d-a215c04fa8e5",
   "metadata": {},
   "outputs": [],
   "source": [
    "non_zero_coef_ = np.where(np.max(np.abs(coefs_lasso), axis=1))[0]"
   ]
  },
  {
   "cell_type": "code",
   "execution_count": 21,
   "id": "ae72cd7f-f5bc-46b5-bf00-2481562375b1",
   "metadata": {},
   "outputs": [
    {
     "data": {
      "text/plain": [
       "Text(0.5, 1.0, 'Regularization paths for the Lasso')"
      ]
     },
     "execution_count": 21,
     "metadata": {},
     "output_type": "execute_result"
    },
    {
     "data": {
      "image/png": "[encoded data removed]",
      "text/plain": [
       "<Figure size 432x288 with 1 Axes>"
      ]
     },
     "metadata": {
      "needs_background": "light"
     },
     "output_type": "display_data"
    }
   ],
   "source": [
    "for feature_idx in non_zero_coef_:\n",
    "    plt.plot(alphas_lasso, coefs_lasso[feature_idx, :])\n",
    "plt.xscale(\"log\")\n",
    "plt.xlabel(\"regularization parameter (log scale)\")\n",
    "plt.ylabel(\"regression coefficient\")\n",
    "plt.title(\"Regularization paths for the Lasso\")"
   ]
  },
  {
   "cell_type": "markdown",
   "id": "674de332-82ea-4b36-899e-16c0bbe6c203",
   "metadata": {},
   "source": [
    "We can now repeat the same plot for all SNPs for which the regression coefficient takes relatively large values along the regularization path:"
   ]
  },
  {
   "cell_type": "code",
   "execution_count": 22,
   "id": "62677405-2e09-45bd-8183-e99616666735",
   "metadata": {},
   "outputs": [],
   "source": [
    "non_zero_coef_ = np.where(np.max(np.abs(coefs_lasso), axis=1) > 0.15)[0]"
   ]
  },
  {
   "cell_type": "code",
   "execution_count": 23,
   "id": "d509ff47-1331-4029-bf8a-186cff481db9",
   "metadata": {},
   "outputs": [
    {
     "data": {
      "text/plain": [
       "Text(0.5, 1.0, 'Regularization paths for the Lasso')"
      ]
     },
     "execution_count": 23,
     "metadata": {},
     "output_type": "execute_result"
    },
    {
     "data": {
      "image/png": "[encoded data removed]",
      "text/plain": [
       "<Figure size 432x288 with 1 Axes>"
      ]
     },
     "metadata": {
      "needs_background": "light"
     },
     "output_type": "display_data"
    }
   ],
   "source": [
    "for feature_idx in non_zero_coef_:\n",
    "    plt.plot(alphas_lasso, coefs_lasso[feature_idx, :])\n",
    "plt.plot(alphas_lasso, [0 for x in alphas_lasso], 'gray') # y=0 axis\n",
    "plt.xscale(\"log\")\n",
    "plt.xlabel(\"regularization parameter (log scale)\")\n",
    "plt.ylabel(\"regression coefficient\")\n",
    "plt.title(\"Regularization paths for the Lasso\")"
   ]
  },
  {
   "cell_type": "markdown",
   "id": "22614905-89ed-49d3-977d-5f9d141c3fea",
   "metadata": {},
   "source": [
    "__Q: Is the effect of the regularization parameter the same on all SNPs?__"
   ]
  },
  {
   "cell_type": "markdown",
   "id": "659a3092-0a33-40d1-95f9-541a2c4dd755",
   "metadata": {},
   "source": [
    "__Answer:__"
   ]
  },
  {
   "cell_type": "markdown",
   "id": "65c7468c-d466-4b93-aa08-1b2e1d5ba5b4",
   "metadata": {},
   "source": [
    "### Grid of values for the regularization coefficient"
   ]
  },
  {
   "cell_type": "markdown",
   "id": "ca147b90-ba7b-43ad-af70-19c575bbf0bc",
   "metadata": {},
   "source": [
    "The method [`linear_model._coordinate_descent._alpha_grid`](https://github.com/scikit-learn/scikit-learn/blob/37ac6788c9504ee409b75e5e24ff7d86c90c2ffb/sklearn/linear_model/_coordinate_descent.py#L86), used to compute the grid of values of `alpha` along which to compute the regularization path, computes the maximum value of `alpha` (that is to say, the one that gives a solution where all regression coefficients are equal to 0). Even without computing regularization paths, we can use it to decide on the grid of values of `alpha` to use."
   ]
  },
  {
   "cell_type": "code",
   "execution_count": 24,
   "id": "57935651-2dc1-425d-9662-2420ecdf440e",
   "metadata": {},
   "outputs": [
    {
     "name": "stdout",
     "output_type": "stream",
     "text": [
      "The maximum value of alpha is 0.182.\n"
     ]
    }
   ],
   "source": [
    "alpha_max, alpha_min = linear_model._coordinate_descent._alpha_grid(X_2W_tr, y_2W_tr_scaled, n_alphas=2)\n",
    "print(f\"The maximum value of alpha is {alpha_max:.3f}.\")"
   ]
  },
  {
   "cell_type": "markdown",
   "id": "82c9cf53-dafb-4e6f-9e30-ea7e9f7bc04b",
   "metadata": {},
   "source": [
    "__Comment:__ `alpha_min` is set to `alpha_max` * `eps`, where `eps` is a parameter of `_alpha_grid` with default value 1e-3."
   ]
  },
  {
   "cell_type": "markdown",
   "id": "8a410acc-9d21-4f4a-9851-69017abf6b16",
   "metadata": {
    "tags": []
   },
   "source": [
    "__Q: How can you use `linear_model._coordinate_descent._alpha_grid` to obtain a grid of 10 values of `alpha`?__"
   ]
  },
  {
   "cell_type": "markdown",
   "id": "2066b031-ca35-4cfe-b628-94419a2bdaa5",
   "metadata": {
    "tags": []
   },
   "source": [
    "**Answer:**"
   ]
  },
  {
   "cell_type": "markdown",
   "id": "a70946d2-dd85-470f-8317-5bcf47fb7e3c",
   "metadata": {},
   "source": [
    "### Fitting a lasso\n",
    "\n",
    "We use the [Lasso](https://scikit-learn.org/stable/modules/generated/sklearn.linear_model.Lasso.html) class of the `linear_model` module of scikit-learn:"
   ]
  },
  {
   "cell_type": "code",
   "execution_count": 25,
   "id": "f2466466-850d-423b-aa27-421fc691ce4c",
   "metadata": {},
   "outputs": [],
   "source": [
    "lasso = linear_model.Lasso(fit_intercept=True, max_iter=1000)"
   ]
  },
  {
   "cell_type": "markdown",
   "id": "358aa03d-55e1-4f8a-a50e-ed3af59c3728",
   "metadata": {},
   "source": [
    "We can now use grid search and cross-validation to select the value of `alpha`:"
   ]
  },
  {
   "cell_type": "code",
   "execution_count": 26,
   "id": "d3dc7918-b90a-4ede-8cdb-31876ac258ac",
   "metadata": {},
   "outputs": [
    {
     "name": "stdout",
     "output_type": "stream",
     "text": [
      "Fitting 3 folds for each of 10 candidates, totalling 30 fits\n",
      "[CV 1/3] END ........alpha=0.18183702541183483;, score=-0.055 total time=   0.0s\n",
      "[CV 2/3] END ........alpha=0.18183702541183483;, score=-0.066 total time=   0.0s\n",
      "[CV 3/3] END .........alpha=0.18183702541183483;, score=0.038 total time=   0.0s\n",
      "[CV 1/3] END .........alpha=0.0844012706688935;, score=-0.053 total time=   0.1s\n",
      "[CV 2/3] END ..........alpha=0.0844012706688935;, score=0.029 total time=   0.0s\n",
      "[CV 3/3] END ..........alpha=0.0844012706688935;, score=0.032 total time=   0.1s\n",
      "[CV 1/3] END ........alpha=0.03917559954794657;, score=-0.274 total time=   0.2s\n",
      "[CV 2/3] END .........alpha=0.03917559954794657;, score=0.073 total time=   0.1s\n",
      "[CV 3/3] END .........alpha=0.03917559954794657;, score=0.028 total time=   0.1s\n",
      "[CV 1/3] END .......alpha=0.018183702541183473;, score=-0.457 total time=   0.3s\n",
      "[CV 2/3] END ........alpha=0.018183702541183473;, score=0.022 total time=   0.2s\n",
      "[CV 3/3] END ........alpha=0.018183702541183473;, score=0.022 total time=   0.1s\n",
      "[CV 1/3] END ........alpha=0.00844012706688935;, score=-0.501 total time=   0.5s\n",
      "[CV 2/3] END ........alpha=0.00844012706688935;, score=-0.008 total time=   0.2s\n",
      "[CV 3/3] END .........alpha=0.00844012706688935;, score=0.025 total time=   0.2s\n",
      "[CV 1/3] END .......alpha=0.003917559954794661;, score=-0.522 total time=   0.5s\n",
      "[CV 2/3] END .......alpha=0.003917559954794661;, score=-0.006 total time=   0.4s\n",
      "[CV 3/3] END ........alpha=0.003917559954794661;, score=0.030 total time=   0.3s\n"
     ]
    },
    {
     "name": "stderr",
     "output_type": "stream",
     "text": [
      "/home/cazencott/local/miniconda3/envs/mlgen/lib/python3.8/site-packages/sklearn/linear_model/_coordinate_descent.py:647: ConvergenceWarning: Objective did not converge. You might want to increase the number of iterations, check the scale of the features or consider increasing regularisation. Duality gap: 1.018e-02, tolerance: 9.061e-03\n",
      "  model = cd_fast.enet_coordinate_descent(\n"
     ]
    },
    {
     "name": "stdout",
     "output_type": "stream",
     "text": [
      "[CV 1/3] END ......alpha=0.0018183702541183474;, score=-0.576 total time=   0.5s\n",
      "[CV 2/3] END ......alpha=0.0018183702541183474;, score=-0.004 total time=   0.5s\n",
      "[CV 3/3] END .......alpha=0.0018183702541183474;, score=0.043 total time=   0.5s\n"
     ]
    },
    {
     "name": "stderr",
     "output_type": "stream",
     "text": [
      "/home/cazencott/local/miniconda3/envs/mlgen/lib/python3.8/site-packages/sklearn/linear_model/_coordinate_descent.py:647: ConvergenceWarning: Objective did not converge. You might want to increase the number of iterations, check the scale of the features or consider increasing regularisation. Duality gap: 1.751e-02, tolerance: 9.061e-03\n",
      "  model = cd_fast.enet_coordinate_descent(\n"
     ]
    },
    {
     "name": "stdout",
     "output_type": "stream",
     "text": [
      "[CV 1/3] END ......alpha=0.0008440127066889349;, score=-0.526 total time=   0.5s\n"
     ]
    },
    {
     "name": "stderr",
     "output_type": "stream",
     "text": [
      "/home/cazencott/local/miniconda3/envs/mlgen/lib/python3.8/site-packages/sklearn/linear_model/_coordinate_descent.py:647: ConvergenceWarning: Objective did not converge. You might want to increase the number of iterations, check the scale of the features or consider increasing regularisation. Duality gap: 1.499e-02, tolerance: 5.805e-03\n",
      "  model = cd_fast.enet_coordinate_descent(\n"
     ]
    },
    {
     "name": "stdout",
     "output_type": "stream",
     "text": [
      "[CV 2/3] END ......alpha=0.0008440127066889349;, score=-0.012 total time=   0.5s\n"
     ]
    },
    {
     "name": "stderr",
     "output_type": "stream",
     "text": [
      "/home/cazencott/local/miniconda3/envs/mlgen/lib/python3.8/site-packages/sklearn/linear_model/_coordinate_descent.py:647: ConvergenceWarning: Objective did not converge. You might want to increase the number of iterations, check the scale of the features or consider increasing regularisation. Duality gap: 1.328e-02, tolerance: 9.197e-03\n",
      "  model = cd_fast.enet_coordinate_descent(\n"
     ]
    },
    {
     "name": "stdout",
     "output_type": "stream",
     "text": [
      "[CV 3/3] END .......alpha=0.0008440127066889349;, score=0.085 total time=   0.5s\n"
     ]
    },
    {
     "name": "stderr",
     "output_type": "stream",
     "text": [
      "/home/cazencott/local/miniconda3/envs/mlgen/lib/python3.8/site-packages/sklearn/linear_model/_coordinate_descent.py:647: ConvergenceWarning: Objective did not converge. You might want to increase the number of iterations, check the scale of the features or consider increasing regularisation. Duality gap: 2.498e-02, tolerance: 9.061e-03\n",
      "  model = cd_fast.enet_coordinate_descent(\n"
     ]
    },
    {
     "name": "stdout",
     "output_type": "stream",
     "text": [
      "[CV 1/3] END ......alpha=0.0003917559954794661;, score=-0.642 total time=   0.5s\n"
     ]
    },
    {
     "name": "stderr",
     "output_type": "stream",
     "text": [
      "/home/cazencott/local/miniconda3/envs/mlgen/lib/python3.8/site-packages/sklearn/linear_model/_coordinate_descent.py:647: ConvergenceWarning: Objective did not converge. You might want to increase the number of iterations, check the scale of the features or consider increasing regularisation. Duality gap: 1.812e-02, tolerance: 5.805e-03\n",
      "  model = cd_fast.enet_coordinate_descent(\n"
     ]
    },
    {
     "name": "stdout",
     "output_type": "stream",
     "text": [
      "[CV 2/3] END .......alpha=0.0003917559954794661;, score=0.013 total time=   0.5s\n"
     ]
    },
    {
     "name": "stderr",
     "output_type": "stream",
     "text": [
      "/home/cazencott/local/miniconda3/envs/mlgen/lib/python3.8/site-packages/sklearn/linear_model/_coordinate_descent.py:647: ConvergenceWarning: Objective did not converge. You might want to increase the number of iterations, check the scale of the features or consider increasing regularisation. Duality gap: 3.770e-02, tolerance: 9.197e-03\n",
      "  model = cd_fast.enet_coordinate_descent(\n"
     ]
    },
    {
     "name": "stdout",
     "output_type": "stream",
     "text": [
      "[CV 3/3] END .......alpha=0.0003917559954794661;, score=0.060 total time=   0.5s\n"
     ]
    },
    {
     "name": "stderr",
     "output_type": "stream",
     "text": [
      "/home/cazencott/local/miniconda3/envs/mlgen/lib/python3.8/site-packages/sklearn/linear_model/_coordinate_descent.py:647: ConvergenceWarning: Objective did not converge. You might want to increase the number of iterations, check the scale of the features or consider increasing regularisation. Duality gap: 3.329e-02, tolerance: 9.061e-03\n",
      "  model = cd_fast.enet_coordinate_descent(\n"
     ]
    },
    {
     "name": "stdout",
     "output_type": "stream",
     "text": [
      "[CV 1/3] END .....alpha=0.00018183702541183473;, score=-0.707 total time=   0.5s\n"
     ]
    },
    {
     "name": "stderr",
     "output_type": "stream",
     "text": [
      "/home/cazencott/local/miniconda3/envs/mlgen/lib/python3.8/site-packages/sklearn/linear_model/_coordinate_descent.py:647: ConvergenceWarning: Objective did not converge. You might want to increase the number of iterations, check the scale of the features or consider increasing regularisation. Duality gap: 2.333e-02, tolerance: 5.805e-03\n",
      "  model = cd_fast.enet_coordinate_descent(\n"
     ]
    },
    {
     "name": "stdout",
     "output_type": "stream",
     "text": [
      "[CV 2/3] END ......alpha=0.00018183702541183473;, score=0.034 total time=   0.5s\n",
      "[CV 3/3] END ......alpha=0.00018183702541183473;, score=0.011 total time=   0.5s\n"
     ]
    },
    {
     "name": "stderr",
     "output_type": "stream",
     "text": [
      "/home/cazencott/local/miniconda3/envs/mlgen/lib/python3.8/site-packages/sklearn/linear_model/_coordinate_descent.py:647: ConvergenceWarning: Objective did not converge. You might want to increase the number of iterations, check the scale of the features or consider increasing regularisation. Duality gap: 3.679e-02, tolerance: 9.197e-03\n",
      "  model = cd_fast.enet_coordinate_descent(\n"
     ]
    },
    {
     "data": {
      "text/plain": [
       "GridSearchCV(cv=3, estimator=Lasso(),\n",
       "             param_grid={'alpha': array([1.81837025e-01, 8.44012707e-02, 3.91755995e-02, 1.81837025e-02,\n",
       "       8.44012707e-03, 3.91755995e-03, 1.81837025e-03, 8.44012707e-04,\n",
       "       3.91755995e-04, 1.81837025e-04])},\n",
       "             verbose=3)"
      ]
     },
     "execution_count": 26,
     "metadata": {},
     "output_type": "execute_result"
    }
   ],
   "source": [
    "# Grid of values for the alpha parameter\n",
    "alphas = linear_model._coordinate_descent._alpha_grid(X_2W_tr, y_2W_tr_scaled, n_alphas=10)\n",
    "\n",
    "# Set up the grid search cross validation\n",
    "model_l1 = model_selection.GridSearchCV(lasso, param_grid={'alpha': alphas},\n",
    "                                        cv=3, # 3-fold cross-validation\n",
    "                                        verbose=3) # use verbose=3 to obtain more details \n",
    "\n",
    "# Use the grid search cross validation on the training data\n",
    "model_l1.fit(X_2W_tr, y_2W_tr_scaled)"
   ]
  },
  {
   "cell_type": "markdown",
   "id": "af5a94e9-fb26-430b-97ad-4a1539502122",
   "metadata": {},
   "source": [
    "__Convergence Warnings:__ In the output from the above code, you will have obtained convergence warnings. These are warning you that the optimization procedure that finds the lasso solution did not converge. This happens for small values of `alpha` (you can check this by setting `verbose=3` in the `GridSearchCV`), and indeed, the warning message suggests to increase regularization. Such warnings are bound to happen in a cross-validation loop, but when the optimization do not converge, the model fit will be poor and hence the corresponding value of the regularization parameter will not be chosen. We can therefore opt to turn off these warnings with the following bit of code, to make our notebook easier to read.\n",
    "\n",
    "Note that in general, it's probably better to have warning and worry about why you get them than to turn them off blindly!"
   ]
  },
  {
   "cell_type": "code",
   "execution_count": 27,
   "id": "98833bb6-4490-4021-a035-e7f95a9098b4",
   "metadata": {},
   "outputs": [],
   "source": [
    "import warnings\n",
    "from sklearn.exceptions import ConvergenceWarning\n",
    "warnings.filterwarnings(\"ignore\", category=ConvergenceWarning, module=\"sklearn\")"
   ]
  },
  {
   "cell_type": "markdown",
   "id": "6c8848a1-1691-48f9-ac24-6fc91855677b",
   "metadata": {},
   "source": [
    "The lasso model retrained with the optimal value of `alpha` is now stored in `model_l1.best_estimator_`."
   ]
  },
  {
   "cell_type": "markdown",
   "id": "4baca4f9-2af3-4afc-b73d-cf232b26667d",
   "metadata": {},
   "source": [
    "We can check what the optimal value of `alpha` was:"
   ]
  },
  {
   "cell_type": "code",
   "execution_count": 28,
   "id": "a60e1eae-ba38-447c-9a63-ea548ef3988c",
   "metadata": {},
   "outputs": [
    {
     "name": "stdout",
     "output_type": "stream",
     "text": [
      "The best value of alpha is 0.084\n"
     ]
    }
   ],
   "source": [
    "print(f\"The best value of alpha is {model_l1.best_params_['alpha']:.3f}\")"
   ]
  },
  {
   "cell_type": "markdown",
   "id": "43a6e833-f403-40ef-addb-193238cf75ed",
   "metadata": {
    "tags": []
   },
   "source": [
    "__Q: How close is this value of `alpha` to the lower/upper values of your range? Do you expect a sparse solution?__"
   ]
  },
  {
   "cell_type": "markdown",
   "id": "f66f48d5-0610-4771-b053-682a4dfe3ea3",
   "metadata": {
    "tags": []
   },
   "source": [
    "**Answer:**"
   ]
  },
  {
   "cell_type": "markdown",
   "id": "2ba4592f-9330-429a-9b0d-86a3d08ebb5e",
   "metadata": {},
   "source": [
    "### Selected SNPs"
   ]
  },
  {
   "cell_type": "markdown",
   "id": "de0b77fa-b2f1-4d65-b9c2-42c5a95cc30e",
   "metadata": {},
   "source": [
    "Let us now plot the regression weights of this new model:"
   ]
  },
  {
   "cell_type": "code",
   "execution_count": 29,
   "id": "a855b647-a886-4140-bfdd-227d3c534ec2",
   "metadata": {},
   "outputs": [
    {
     "data": {
      "text/plain": [
       "Text(0.5, 1.0, 'Regression coefficients of a lasso')"
      ]
     },
     "execution_count": 29,
     "metadata": {},
     "output_type": "execute_result"
    },
    {
     "data": {
      "image/png": "[encoded data removed]",
      "text/plain": [
       "<Figure size 720x288 with 1 Axes>"
      ]
     },
     "metadata": {
      "needs_background": "light"
     },
     "output_type": "display_data"
    }
   ],
   "source": [
    "plt.figure(figsize = (10, 4))\n",
    "plt.scatter(range(num_snps), model_l1.best_estimator_.coef_, s=20)\n",
    "\n",
    "plt.xlabel(\"SNP index\")\n",
    "plt.ylabel(\"regression weight\")\n",
    "plt.xlim([0, num_snps])\n",
    "plt.title(\"Regression coefficients of a lasso\")"
   ]
  },
  {
   "cell_type": "markdown",
   "id": "bac1e135-cc50-491c-93e8-ee26030f860b",
   "metadata": {},
   "source": [
    "We can further highlight the non-zero coefficients in this model:"
   ]
  },
  {
   "cell_type": "code",
   "execution_count": 30,
   "id": "1adab46c-897b-400b-96c9-022a060f84f6",
   "metadata": {},
   "outputs": [
    {
     "data": {
      "text/plain": [
       "Text(0.5, 1.0, 'Regression coefficients of a lasso')"
      ]
     },
     "execution_count": 30,
     "metadata": {},
     "output_type": "execute_result"
    },
    {
     "data": {
      "image/png": "[encoded data removed]",
      "text/plain": [
       "<Figure size 720x288 with 1 Axes>"
      ]
     },
     "metadata": {
      "needs_background": "light"
     },
     "output_type": "display_data"
    }
   ],
   "source": [
    "nonzero_weight_indices = np.where(model_l1.best_estimator_.coef_)[0]\n",
    "\n",
    "plt.figure(figsize = (10, 4))\n",
    "# plot for all SNPs\n",
    "plt.scatter(range(num_snps), model_l1.best_estimator_.coef_, s=10) \n",
    "# plot for SNPs with nonzero coefficients\n",
    "plt.scatter(nonzero_weight_indices, model_l1.best_estimator_.coef_[nonzero_weight_indices], s=20) \n",
    "\n",
    "\n",
    "plt.xlabel(\"SNP index\")\n",
    "plt.ylabel(\"regression weight\")\n",
    "plt.xlim([0, num_snps])\n",
    "plt.title(\"Regression coefficients of a lasso\")"
   ]
  },
  {
   "cell_type": "markdown",
   "id": "dcbad3b3-1e13-4aa9-9d53-e4a5bf31f373",
   "metadata": {},
   "source": [
    "__Q: How many SNPs contribute to explaining the phenotype? Does this match your expectations?__"
   ]
  },
  {
   "cell_type": "markdown",
   "id": "bc75fa3d-c826-4278-af27-1462f3dabec9",
   "metadata": {
    "tags": []
   },
   "source": [
    "**Answer:**"
   ]
  },
  {
   "cell_type": "markdown",
   "id": "fb3b9a4b-3a62-4e8d-857d-c6255cdc92d4",
   "metadata": {},
   "source": [
    "Let us now see how many of these SNPs point to genes in the list of candidate genes:"
   ]
  },
  {
   "cell_type": "code",
   "execution_count": 31,
   "id": "65d2206f-ee05-440c-96dd-32d8f00b2430",
   "metadata": {},
   "outputs": [
    {
     "name": "stdout",
     "output_type": "stream",
     "text": [
      "29 of the 29 selected SNP(s) point to 30 candidate genes.\n"
     ]
    }
   ],
   "source": [
    "selected_candidate_genes = []\n",
    "num_snps_pointing_to_candidates = 0\n",
    "for snp_name in genotype_df.columns[nonzero_weight_indices]:\n",
    "    matching_genes = genes_by_snp[snp_name]\n",
    "    candidate_matching_genes = set(matching_genes).intersection(set(candidate_genes))\n",
    "    if len(candidate_matching_genes):\n",
    "        num_snps_pointing_to_candidates += 1\n",
    "        selected_candidate_genes.extend(candidate_matching_genes)\n",
    "print(f\"{num_snps_pointing_to_candidates} of the {len(nonzero_weight_indices)} selected SNP(s) point to {len(selected_candidate_genes)} candidate genes.\")"
   ]
  },
  {
   "cell_type": "code",
   "execution_count": 32,
   "id": "8ae36e6c-c9cf-4ba1-a194-93a9b711ec1d",
   "metadata": {},
   "outputs": [
    {
     "name": "stdout",
     "output_type": "stream",
     "text": [
      "['AT1G14920', 'AT1G79730', 'AT1G79730', 'AT2G18915', 'AT3G02380', 'AT3G02380', 'AT3G04610', 'AT3G11540', 'AT3G12810', 'AT3G19980', 'AT3G47500', 'AT3G54720', 'AT3G54990', 'AT3G57390', 'AT3G62090', 'AT3G62090', 'AT4G01060', 'AT5G03790', 'AT5G04240', 'AT5G10140', 'AT5G10140', 'AT5G15960', 'AT5G15970', 'AT5G23150', 'AT5G37770', 'AT5G39660', 'AT5G49160', 'AT5G60100', 'AT5G60100', 'AT5G67100']\n"
     ]
    }
   ],
   "source": [
    "print(selected_candidate_genes)"
   ]
  },
  {
   "cell_type": "markdown",
   "id": "01c983aa-53d3-4744-b7b8-f1e4acf5e29d",
   "metadata": {
    "tags": []
   },
   "source": [
    "### Quality of model fit\n",
    "\n",
    "As before, we can check how well our model fits the data it was trained on."
   ]
  },
  {
   "cell_type": "code",
   "execution_count": 33,
   "id": "a6eb1042-63f8-4542-b296-872dd0e9e2f3",
   "metadata": {},
   "outputs": [
    {
     "name": "stdout",
     "output_type": "stream",
     "text": [
      "The percentage of variance explained by a lasso using all SNPs is 52%\n"
     ]
    }
   ],
   "source": [
    "y_2W_l1_pred = model_l1.best_estimator_.predict(X_2W_tr)\n",
    "pve = metrics.explained_variance_score(y_2W_tr_scaled, y_2W_l1_pred) * 100\n",
    "print(f\"The percentage of variance explained by a lasso using all SNPs is {pve:.0f}%\")"
   ]
  },
  {
   "cell_type": "markdown",
   "id": "6a4238b8-62a6-4140-8b96-61c1db7f3c69",
   "metadata": {},
   "source": [
    "We can also plot the predictions vs the true phenotype for all samples from the train set:"
   ]
  },
  {
   "cell_type": "code",
   "execution_count": 34,
   "id": "bf70f1e4-ce58-4c0c-a1d2-3c41c1305257",
   "metadata": {},
   "outputs": [
    {
     "data": {
      "text/plain": [
       "Text(0.5, 1.0, 'Goodness of fit of the lasso')"
      ]
     },
     "execution_count": 34,
     "metadata": {},
     "output_type": "execute_result"
    },
    {
     "data": {
      "image/png": "[encoded data removed]",
      "text/plain": [
       "<Figure size 288x288 with 1 Axes>"
      ]
     },
     "metadata": {
      "needs_background": "light"
     },
     "output_type": "display_data"
    }
   ],
   "source": [
    "plt.figure(figsize = (4, 4))\n",
    "plt.scatter(y_2W_tr_scaled, y_2W_l1_pred)\n",
    "\n",
    "# plot a line y=x\n",
    "x_min = np.min(y_2W_tr_scaled)\n",
    "x_max = np.max(y_2W_tr_scaled)\n",
    "plt.plot([x_min, x_max], [x_min, x_max], c='gray')\n",
    "\n",
    "plt.xlabel(\"true phenotype\")\n",
    "plt.ylabel(\"prediction\")\n",
    "plt.xlim([x_min-0.2, x_max+0.2])\n",
    "plt.ylim([x_min-0.2, x_max+0.2])\n",
    "\n",
    "plt.title(\"Goodness of fit of the lasso\")"
   ]
  },
  {
   "cell_type": "markdown",
   "id": "8cdf1e10-83c0-49a2-940f-76286ff51a08",
   "metadata": {},
   "source": [
    "__Q: How well does the model fit the training data? Compare to the linear regression. Is this surprising?__"
   ]
  },
  {
   "cell_type": "markdown",
   "id": "a34e356c-4387-43e9-b0b2-9f6dd68d0674",
   "metadata": {
    "tags": []
   },
   "source": [
    "**Answer:**"
   ]
  },
  {
   "cell_type": "markdown",
   "id": "78689d56-4156-45e0-b045-1c5027dc45b3",
   "metadata": {
    "tags": []
   },
   "source": [
    "### Model predictive power \n",
    "\n",
    "Again, we can use the test set to evaluate the predictive power of the model, on the test set."
   ]
  },
  {
   "cell_type": "code",
   "execution_count": 35,
   "id": "565f4099-fa1c-400d-8c7e-1ce0ab8f00b2",
   "metadata": {},
   "outputs": [],
   "source": [
    "y_2W_te_scaled = scaler.transform(y_2W_te.reshape(-1, 1)).reshape(-1, )"
   ]
  },
  {
   "cell_type": "code",
   "execution_count": 36,
   "id": "c12f6ebc-3061-493d-ac47-281400f47562",
   "metadata": {},
   "outputs": [
    {
     "name": "stdout",
     "output_type": "stream",
     "text": [
      "The percentage of variance explained by a lasso using all SNPs is 6%\n"
     ]
    }
   ],
   "source": [
    "y_2W_l1_pred = model_l1.best_estimator_.predict(X_2W_te)\n",
    "pve = metrics.explained_variance_score(y_2W_te_scaled, y_2W_l1_pred) * 100\n",
    "print(f\"The percentage of variance explained by a lasso using all SNPs is {pve:.0f}%\")"
   ]
  },
  {
   "cell_type": "markdown",
   "id": "f36323c7-cc00-4989-a7e4-9bc09e57daf6",
   "metadata": {},
   "source": [
    "And let us plot the predictions vs the true phenotype for all samples from the test set:"
   ]
  },
  {
   "cell_type": "code",
   "execution_count": 37,
   "id": "f1e84c01-2f5d-42d8-a7a8-5197f0386b08",
   "metadata": {},
   "outputs": [
    {
     "data": {
      "text/plain": [
       "Text(0.5, 1.0, 'Lasso')"
      ]
     },
     "execution_count": 37,
     "metadata": {},
     "output_type": "execute_result"
    },
    {
     "data": {
      "image/png": "[encoded data removed]",
      "text/plain": [
       "<Figure size 288x288 with 1 Axes>"
      ]
     },
     "metadata": {
      "needs_background": "light"
     },
     "output_type": "display_data"
    }
   ],
   "source": [
    "plt.figure(figsize = (4, 4))\n",
    "plt.scatter(y_2W_te_scaled, y_2W_l1_pred)\n",
    "\n",
    "# plot a line y=x\n",
    "x_min = np.min(y_2W_te_scaled)\n",
    "x_max = np.max(y_2W_te_scaled)\n",
    "plt.plot([x_min, x_max], [x_min, x_max], c='gray')\n",
    "\n",
    "plt.xlabel(\"true phenotype\")\n",
    "plt.ylabel(\"prediction\")\n",
    "plt.xlim([x_min - 0.5, x_max + 0.5])\n",
    "plt.ylim([x_min - 0.5, x_max + 0.5])\n",
    "\n",
    "plt.title(\"Lasso\")"
   ]
  },
  {
   "cell_type": "markdown",
   "id": "22948928-8cfe-45c6-a464-c9ac60497bc4",
   "metadata": {},
   "source": [
    "__Q: How well does the model predict on the test data? Compare to the linear regression and to the values on the train set. Is this surprising?__"
   ]
  },
  {
   "cell_type": "markdown",
   "id": "40322b90-b107-4aa1-8aec-2d221d0073ce",
   "metadata": {
    "tags": []
   },
   "source": [
    "**Answer:**"
   ]
  },
  {
   "cell_type": "markdown",
   "id": "eb18536e-90b3-4ad5-a1dc-04af5ab9ad71",
   "metadata": {},
   "source": [
    "## Stability\n",
    "\n",
    "An important aspect of a feature selection algorithm is its _stability_: do we select the same features using only subsets of the data? Of course reducing the number of samples reduces statistical power; but if a feature is truly important, it should be selected every time."
   ]
  },
  {
   "cell_type": "markdown",
   "id": "27a8ffaa-bb3e-4b35-bc33-6929e957c479",
   "metadata": {},
   "source": [
    "To evaluate stability, we can \n",
    "1. Create subsamples of our training data \n",
    "1. Run the feature selection algorithm on each of these subsamples\n",
    "1. Compare the sets of selected features."
   ]
  },
  {
   "cell_type": "markdown",
   "id": "143de770-5a27-43c9-8275-39eead41fcd6",
   "metadata": {},
   "source": [
    "### Method to measure stability"
   ]
  },
  {
   "cell_type": "markdown",
   "id": "96e0c5e9-d793-4508-ac27-7e2625dc9d89",
   "metadata": {},
   "source": [
    "We will need a wrapper around `scipy.stats.pearsonr` to deal with the case where vectors are constant, ie. when all features are selected (vector of all ones) or when none are selected (vector of all zeros). Indeed, Pearson's correlation is not defined for constant vectors, even when they are identical. \n",
    "\n",
    "We will keep returning NaN for the correlation between a constant vector and a non-constant vector. This will raise a warning and the corresponding pair of selected sets of features will not be taken into account in the overall measure of stability."
   ]
  },
  {
   "cell_type": "code",
   "execution_count": 38,
   "id": "80899d23-87c1-4e77-b58e-405a0be5930e",
   "metadata": {},
   "outputs": [],
   "source": [
    "import scipy.stats as st"
   ]
  },
  {
   "cell_type": "code",
   "execution_count": 39,
   "id": "0eb6d795-cbbc-4512-9b5b-5c9cf597f603",
   "metadata": {},
   "outputs": [],
   "source": [
    "def pearson_corr(vector1, vector2):\n",
    "    \"\"\"\n",
    "    Returns Pearson's correlation between two vectors of 0 and 1. \n",
    "    \"\"\"\n",
    "    # if the first or the second vector is constant\n",
    "    if (vector1 == vector1[0]).all() and (vector2 == vector2[0]).all():\n",
    "            # return 1 if both are the same and 0 otherwise\n",
    "            return 1. if (vector1[0] == vector2[0]) else 0.\n",
    "    return st.pearsonr(vector1, vector2)[0]"
   ]
  },
  {
   "cell_type": "markdown",
   "id": "ff13b1ab-22b5-4fe9-abf8-754d83143fba",
   "metadata": {},
   "source": [
    "Now we can define a function that measures the stability of a selection procedure."
   ]
  },
  {
   "cell_type": "code",
   "execution_count": 40,
   "id": "8e6eb72e-872b-45b0-b541-6598faccc9cd",
   "metadata": {},
   "outputs": [],
   "source": [
    "def stability(X_train, y_train, selection_procedure, num_subsamples, subsample_size):\n",
    "    \"\"\"\n",
    "    Sample the training data (X_train, y_train) num_subsamples times.\n",
    "    Apply the selection procedure on each subsample.\n",
    "    Return a mesure of stability of the procedure\n",
    "    \n",
    "    Input parameters\n",
    "    ----------------\n",
    "    X_train: (n_samples, n_features) np.array\n",
    "       training data\n",
    "    y_train: (n_samples, ) np.array\n",
    "       training labels\n",
    "    selection_procedure: function\n",
    "       input parameters: (training_data, training_labels)\n",
    "       outputs: (n_features, ) np.array of 0 and 1 \n",
    "           1 for selected features\n",
    "           0 for non-selected features\n",
    "    num_subsamples: int\n",
    "        number of subsamples to use\n",
    "    subsample_size: int\n",
    "        number of samples in the subsample   \n",
    "        \n",
    "    Output\n",
    "    ------\n",
    "    pearson_corr: float\n",
    "        Pearson's measure of stability of the selection procedure\n",
    "    \"\"\"\n",
    "    n_samples, n_features = X_train.shape\n",
    "    sample_indices = np.arange(n_samples) \n",
    "    \n",
    "    # check there is the same number of samples in X and y\n",
    "    assert len(y_train) == n_samples\n",
    "    \n",
    "    # check the subsample size is less than the sample size\n",
    "    assert subsample_size < n_samples\n",
    "    \n",
    "    # run the feature selection procedure on the subsamples\n",
    "    selected_features_list = []\n",
    "    for idx in range(num_subsamples):\n",
    "        # shuffle the indices\n",
    "        np.random.shuffle(sample_indices)\n",
    "        # create the subsample indices\n",
    "        ss_indices = sample_indices[:subsample_size]\n",
    "        # run the feature selection procedure\n",
    "        # and append the results to selected_features_list\n",
    "        selected_features_list.append(selection_procedure(X_train[ss_indices, :], y_train[ss_indices]))\n",
    "    \n",
    "    # compute the average pairwise Pearson's correlation between the list of selected features\n",
    "    all_correlations = [pearson_corr(selected_features, selected_features_2) for (idx, selected_features) in enumerate(selected_features_list) \\\n",
    "                        for selected_features_2 in selected_features_list[idx+1:]]\n",
    "    \n",
    "    return np.nanmean(all_correlations)"
   ]
  },
  {
   "cell_type": "markdown",
   "id": "48fd3af0-c444-4e8f-b1ae-5773bce46638",
   "metadata": {},
   "source": [
    "### Stability of the t-test\n",
    "To use the `stability` function we have just defined, we need to wrap what we did in the T-test section into a function that can be passed as the `selection_procedure` argument. This function should take a data set as input and return the binary vector represented the selected features as output."
   ]
  },
  {
   "cell_type": "code",
   "execution_count": 41,
   "id": "eb7ce504-70e4-46df-b9ee-00c28309dbb5",
   "metadata": {},
   "outputs": [],
   "source": [
    "def t_test_selection_procedure(X_train, y_train):\n",
    "    \"\"\"\n",
    "    Run t-test of association between each feature and the outcome. \n",
    "    Selects the features with p-values < 0.05/num_features\n",
    "    \n",
    "    Input parameters\n",
    "    ----------------\n",
    "    X_train: (n_samples, n_features) np.array\n",
    "       training data\n",
    "    y_train: (n_samples, ) np.array\n",
    "       training labels\n",
    "    \n",
    "    Output\n",
    "    ------\n",
    "    selection: (n_features, ) np.array\n",
    "        for j=1..n_features:\n",
    "            selection[j] = 0 if j is not selected\n",
    "            selection[j] = 1 otherwise.       \n",
    "    \"\"\"\n",
    "    n_samples, n_features = X_train.shape\n",
    "    # check there is the same number of samples in X and y\n",
    "    assert len(y_train) == n_samples    \n",
    "    \n",
    "    pvalues = []\n",
    "    for feat_idx in range(n_features):\n",
    "        # only look at the column corresponding to that feature\n",
    "        x = X_train[:, feat_idx]\n",
    "        # run a linear regression (with bias) between the phenotype and this SNP\n",
    "        x = sm.add_constant(x)\n",
    "        est = sm.regression.linear_model.OLS(y_train, x)\n",
    "        est = est.fit()\n",
    "    \n",
    "        # get the p-value from the model \n",
    "        pvalues.append(est.pvalues[1])\n",
    "\n",
    "    # convert the list of p-values to a numpy array\n",
    "    pvalues = np.array(pvalues)\n",
    "    \n",
    "    # threshold the p-values\n",
    "    thr = 0.05/n_features\n",
    "    selection = np.where(pvalues < thr, 1, 0)    \n",
    "    print(f\"Significant SNPs: {*genotype_df.columns[np.where(selection)[0]],}\")\n",
    "    return selection"
   ]
  },
  {
   "cell_type": "markdown",
   "id": "58d45090-8bb3-48cc-8b53-5cd365578fa7",
   "metadata": {},
   "source": [
    "As a sanity check, we can apply that method to the full data set and check we obtain the same results as earlier:"
   ]
  },
  {
   "cell_type": "code",
   "execution_count": 42,
   "id": "882973e6-f61f-414c-8287-b834248ac7a4",
   "metadata": {},
   "outputs": [
    {
     "name": "stdout",
     "output_type": "stream",
     "text": [
      "Significant SNPs: ('Chr3_23008395_C',)\n"
     ]
    }
   ],
   "source": [
    "t_test_sel = t_test_selection_procedure(X_2W, y_2W_corrected)"
   ]
  },
  {
   "cell_type": "markdown",
   "id": "a4753ed1-79a3-41a4-ac11-0fb999f7a5d9",
   "metadata": {},
   "source": [
    "Let us now use `stability` to measure the stability of this procedure:"
   ]
  },
  {
   "cell_type": "code",
   "execution_count": 43,
   "id": "fc51c524-bca6-4b10-981a-590af1cbcbbb",
   "metadata": {},
   "outputs": [
    {
     "name": "stdout",
     "output_type": "stream",
     "text": [
      "Significant SNPs: ('Chr3_23008395_C', 'Chr5_3171095_A', 'Chr5_3172628_T', 'Chr5_3184569_T')\n",
      "Significant SNPs: ()\n",
      "Significant SNPs: ()\n",
      "Significant SNPs: ('Chr3_23008395_C',)\n",
      "Significant SNPs: ('Chr5_5812297_A',)\n",
      "Significant SNPs: ('Chr5_5812297_A',)\n",
      "Significant SNPs: ('Chr3_23008395_C',)\n",
      "Significant SNPs: ()\n",
      "Significant SNPs: ('Chr3_23008395_C', 'Chr5_5812297_A')\n",
      "Significant SNPs: ('Chr3_23008395_C',)\n"
     ]
    },
    {
     "name": "stderr",
     "output_type": "stream",
     "text": [
      "/home/cazencott/local/miniconda3/envs/mlgen/lib/python3.8/site-packages/scipy/stats/_stats_py.py:4068: PearsonRConstantInputWarning: An input array is constant; the correlation coefficient is not defined.\n",
      "  warnings.warn(PearsonRConstantInputWarning())\n"
     ]
    }
   ],
   "source": [
    "# use 90% of the data size as subsample size\n",
    "subsize = int(round(0.9*len(y_2W_corrected)))\n",
    "t_test_stab = stability(X_2W, y_2W_corrected, t_test_selection_procedure, 10, subsize)"
   ]
  },
  {
   "cell_type": "markdown",
   "id": "d3d40eb3-5ad6-4042-951d-630ace4c6d25",
   "metadata": {},
   "source": [
    "__Q: At each iteration, we have printed the selected SNPs. What do you observe?__"
   ]
  },
  {
   "cell_type": "markdown",
   "id": "acf3983d-aac4-424d-9e22-ce53e3f7f897",
   "metadata": {
    "tags": []
   },
   "source": [
    "**Answer:**"
   ]
  },
  {
   "cell_type": "code",
   "execution_count": 44,
   "id": "98367b7a-21ae-4419-bf00-9ebb40d46f4b",
   "metadata": {},
   "outputs": [
    {
     "name": "stdout",
     "output_type": "stream",
     "text": [
      "The stability of the T-test selection is: 0.516\n"
     ]
    }
   ],
   "source": [
    "print(f\"The stability of the T-test selection is: {t_test_stab:.3f}\")"
   ]
  },
  {
   "cell_type": "markdown",
   "id": "32033b64-3abf-41cd-a824-2020609801aa",
   "metadata": {},
   "source": [
    "__Q: Does this numerical measure of stability match your observations?__"
   ]
  },
  {
   "cell_type": "markdown",
   "id": "5535a0cc-ea39-4455-8d59-f095681c6886",
   "metadata": {
    "tags": []
   },
   "source": [
    "**Answer:**"
   ]
  },
  {
   "cell_type": "markdown",
   "id": "1eef7fe3-4a5b-41b5-ad8f-cbc5bbf63561",
   "metadata": {},
   "source": [
    "### Stability of the Lasso\n",
    "Let us wrap what we did in the Lasso section into a method which takes a data set as input and selects the features significantly associated with the output."
   ]
  },
  {
   "cell_type": "code",
   "execution_count": 45,
   "id": "91f1bd11-cadb-4c00-9b31-3f1d0ad1642e",
   "metadata": {},
   "outputs": [],
   "source": [
    "def lasso_selection_procedure(X_train, y_train):\n",
    "    \"\"\"\n",
    "    Fits a lasso on the data. Returns the features with non-zero coefficients.\n",
    "    \n",
    "    Input parameters\n",
    "    ----------------\n",
    "    X_train: (n_samples, n_features) np.array\n",
    "       training data\n",
    "    y_train: (n_samples, ) np.array\n",
    "       training labels\n",
    "    \n",
    "    Output\n",
    "    ------\n",
    "    selection: (n_features, ) np.array\n",
    "        for j=1..n_features:\n",
    "            selection[j] = 0 if j is not selected\n",
    "            selection[j] = 1 otherwise.       \n",
    "    \"\"\"\n",
    "    # create a lasso object\n",
    "    lasso = linear_model.Lasso(fit_intercept=True, max_iter=1000)\n",
    "    \n",
    "    # Grid of values for the alpha parameter\n",
    "    alphas = linear_model._coordinate_descent._alpha_grid(X_train, y_train, n_alphas=10, eps=1e-2)\n",
    "\n",
    "    # Set up the grid search cross validation\n",
    "    model_l1 = model_selection.GridSearchCV(lasso, param_grid={'alpha': alphas}, \n",
    "                                            cv=3)\n",
    "\n",
    "    # Use the grid search cross validation on the training data\n",
    "    model_l1.fit(X_train, y_train)\n",
    "    \n",
    "    print(f\"Optimal alpha: {model_l1.best_estimator_.alpha:.3f}\\t\" \\\n",
    "          f\"Selected SNPs: {*genotype_df.columns[np.where(model_l1.best_estimator_.coef_)[0]],}\")    \n",
    "    \n",
    "    # Consider the non-zero coefficients as selected\n",
    "    return(np.where(model_l1.best_estimator_.coef_, 1, 0))"
   ]
  },
  {
   "cell_type": "code",
   "execution_count": 46,
   "id": "1e85d390-3271-46e0-bd29-375e4419d64c",
   "metadata": {},
   "outputs": [
    {
     "name": "stdout",
     "output_type": "stream",
     "text": [
      "Optimal alpha: 0.002\tSelected SNPs: ('Chr1_1196290_A', 'Chr1_4275011_T', 'Chr1_4308649_A', 'Chr1_4309713_G', 'Chr1_5356387_G', 'Chr1_6350963_G', 'Chr1_9615772_T', 'Chr1_11039416_A', 'Chr1_16474533_A', 'Chr1_17839049_T', 'Chr1_17843006_A', 'Chr1_17843037_A', 'Chr1_17843128_T', 'Chr1_17843881_T', 'Chr1_18325367_A', 'Chr1_22485802_G', 'Chr1_22489271_T', 'Chr1_23256450_C', 'Chr1_23266100_C', 'Chr1_23267179_A', 'Chr1_24320333_A', 'Chr1_24729610_G', 'Chr1_26432862_T', 'Chr1_26937005_T', 'Chr1_29041439_C', 'Chr1_29044150_C', 'Chr1_29045537_A', 'Chr1_29045883_A', 'Chr1_29842223_A', 'Chr1_29911157_A', 'Chr1_30020796_A', 'Chr1_30021468_T', 'Chr1_30334006_A', 'Chr2_8123308_C', 'Chr2_8127891_A', 'Chr2_8448098_C', 'Chr2_8450682_C', 'Chr2_8460494_C', 'Chr2_8478404_G', 'Chr2_9021852_G', 'Chr2_9581605_C', 'Chr2_10571603_C', 'Chr2_11041934_A', 'Chr2_11044367_G', 'Chr2_16370409_C', 'Chr2_19003518_A', 'Chr2_19019256_T', 'Chr3_505329_A', 'Chr3_507969_G', 'Chr3_1256038_T', 'Chr3_1257380_C', 'Chr3_1427788_A', 'Chr3_3620367_T', 'Chr3_3625191_C', 'Chr3_3652430_A', 'Chr3_4073356_C', 'Chr3_6529082_A', 'Chr3_6983030_C', 'Chr3_7155151_C', 'Chr3_7244048_C', 'Chr3_7247732_T', 'Chr3_7248010_C', 'Chr3_17951762_A', 'Chr3_20236730_T', 'Chr3_20238937_G', 'Chr3_20264501_C', 'Chr3_20388253_A', 'Chr3_20389490_C', 'Chr3_20389694_C', 'Chr3_20391851_C', 'Chr3_20392804_G', 'Chr3_20393317_T', 'Chr3_21224440_A', 'Chr3_21245739_C', 'Chr3_22984636_T', 'Chr3_22998693_G', 'Chr3_23003259_A', 'Chr3_23008395_C', 'Chr4_197103_C', 'Chr4_454542_A', 'Chr4_475593_A', 'Chr4_1118494_T', 'Chr4_1241727_T', 'Chr4_1241765_G', 'Chr4_10039851_G', 'Chr4_11011073_G', 'Chr4_11017463_C', 'Chr4_15139288_T', 'Chr4_15895966_T', 'Chr4_16988138_G', 'Chr4_17386485_A', 'Chr4_17673719_G', 'Chr5_985158_C', 'Chr5_1011936_G', 'Chr5_1168046_T', 'Chr5_1716172_A', 'Chr5_3172628_T', 'Chr5_5207068_T', 'Chr5_5833749_G', 'Chr5_7780162_A', 'Chr5_9055143_A', 'Chr5_14995268_A', 'Chr5_14995290_G', 'Chr5_14996667_G', 'Chr5_15001150_G', 'Chr5_15004707_A', 'Chr5_15004723_A', 'Chr5_15012608_C', 'Chr5_15863849_T', 'Chr5_15873167_G', 'Chr5_17174777_T', 'Chr5_17188834_C', 'Chr5_19921543_C', 'Chr5_23265265_T', 'Chr5_23540477_A', 'Chr5_24190884_T', 'Chr5_24216252_T', 'Chr5_24670342_A', 'Chr5_25090152_A', 'Chr5_26789458_A')\n",
      "Optimal alpha: 0.042\tSelected SNPs: ('Chr1_4275011_T', 'Chr1_4529000_A', 'Chr1_5158875_C', 'Chr1_16466187_A', 'Chr1_17843006_A', 'Chr1_18325367_A', 'Chr1_22485675_T', 'Chr1_25973043_G', 'Chr1_29026259_C', 'Chr1_29900726_A', 'Chr1_30021468_T', 'Chr1_30343591_T', 'Chr1_30345159_T', 'Chr2_1146229_G', 'Chr2_8449743_C', 'Chr2_8478404_G', 'Chr2_19019256_T', 'Chr3_505329_A', 'Chr3_709201_T', 'Chr3_1256038_T', 'Chr3_3652430_A', 'Chr3_4073356_C', 'Chr3_4073911_C', 'Chr3_6953889_A', 'Chr3_6983030_C', 'Chr3_17512067_T', 'Chr3_20236730_T', 'Chr3_20390008_G', 'Chr3_21220796_C', 'Chr3_21224440_A', 'Chr3_21240944_C', 'Chr3_21245739_C', 'Chr3_22984636_T', 'Chr3_23008395_C', 'Chr4_198176_C', 'Chr4_454542_A', 'Chr4_1260796_A', 'Chr4_1261211_A', 'Chr4_8649881_C', 'Chr4_8663631_G', 'Chr4_9482414_A', 'Chr4_11003559_G', 'Chr4_18560349_A', 'Chr5_1168046_T', 'Chr5_1718145_C', 'Chr5_3171095_A', 'Chr5_3172628_T', 'Chr5_3188327_T', 'Chr5_5205949_C', 'Chr5_5207068_T', 'Chr5_5844147_G', 'Chr5_7811393_G', 'Chr5_14995268_A', 'Chr5_15012608_C', 'Chr5_15863849_T', 'Chr5_17188834_C', 'Chr5_23265265_T', 'Chr5_24190884_T', 'Chr5_24210470_T', 'Chr5_24216252_T', 'Chr5_25090152_A', 'Chr5_25976943_T', 'Chr5_26776950_A', 'Chr5_26789458_A')\n",
      "Optimal alpha: 0.003\tSelected SNPs: ('Chr1_3090757_G', 'Chr1_3091675_A', 'Chr1_3108653_G', 'Chr1_3121697_C', 'Chr1_4309713_G', 'Chr1_4529000_A', 'Chr1_5156207_A', 'Chr1_5158875_C', 'Chr1_5357269_C', 'Chr1_8992078_C', 'Chr1_9279212_C', 'Chr1_9289504_A', 'Chr1_17839049_T', 'Chr1_18325367_A', 'Chr1_22485675_T', 'Chr1_23375108_C', 'Chr1_24322419_G', 'Chr1_24323595_T', 'Chr1_25998099_A', 'Chr1_29834120_G', 'Chr1_29870900_A', 'Chr1_30020796_A', 'Chr1_30021468_T', 'Chr1_30314591_G', 'Chr1_30333876_A', 'Chr1_30345159_T', 'Chr1_30347069_A', 'Chr2_1146605_T', 'Chr2_8195914_C', 'Chr2_8210822_T', 'Chr2_8438294_A', 'Chr2_9028080_A', 'Chr2_9037988_G', 'Chr2_9581605_C', 'Chr2_11041934_A', 'Chr2_14325627_A', 'Chr2_17832577_G', 'Chr2_17893798_G', 'Chr2_18045473_T', 'Chr3_175652_C', 'Chr3_459895_T', 'Chr3_487332_T', 'Chr3_705460_T', 'Chr3_1256038_T', 'Chr3_1427788_A', 'Chr3_3652430_A', 'Chr3_4047086_T', 'Chr3_4073356_C', 'Chr3_6547164_C', 'Chr3_6983030_C', 'Chr3_17492875_G', 'Chr3_17512067_T', 'Chr3_17514607_G', 'Chr3_17940713_G', 'Chr3_17941143_T', 'Chr3_17949721_A', 'Chr3_21225707_A', 'Chr3_21234309_A', 'Chr3_21240944_C', 'Chr3_21242024_A', 'Chr3_21245739_C', 'Chr3_21250707_A', 'Chr3_22984636_T', 'Chr4_197103_C', 'Chr4_475593_A', 'Chr4_1071480_G', 'Chr4_1119298_A', 'Chr4_8148648_T', 'Chr4_11014429_T', 'Chr4_11016446_T', 'Chr4_15898419_C', 'Chr4_15904186_A', 'Chr4_15917072_C', 'Chr4_17419128_G', 'Chr4_17420836_T', 'Chr4_18553773_T', 'Chr5_1168046_T', 'Chr5_1708379_C', 'Chr5_1726029_C', 'Chr5_3188327_T', 'Chr5_4431338_T', 'Chr5_5207068_T', 'Chr5_5218099_C', 'Chr5_5341544_G', 'Chr5_5361263_A', 'Chr5_9017297_T', 'Chr5_9045545_A', 'Chr5_9051311_T', 'Chr5_14006648_G', 'Chr5_14990635_A', 'Chr5_14995268_A', 'Chr5_14995290_G', 'Chr5_14996667_G', 'Chr5_14997378_A', 'Chr5_15001150_G', 'Chr5_15863849_T', 'Chr5_17185382_C', 'Chr5_19067992_C', 'Chr5_19087942_T', 'Chr5_19948540_G', 'Chr5_19953902_A', 'Chr5_24190884_T', 'Chr5_24593697_G', 'Chr5_24666777_G', 'Chr5_25156857_A', 'Chr5_26789458_A')\n",
      "Optimal alpha: 0.003\tSelected SNPs: ('Chr1_1196290_A', 'Chr1_3152014_C', 'Chr1_4529000_A', 'Chr1_5153282_G', 'Chr1_5156207_A', 'Chr1_5158875_C', 'Chr1_6340931_T', 'Chr1_8586632_G', 'Chr1_8586749_A', 'Chr1_9289504_A', 'Chr1_9615772_T', 'Chr1_9622701_C', 'Chr1_16466187_A', 'Chr1_17843006_A', 'Chr1_18325367_A', 'Chr1_18326797_C', 'Chr1_19795022_A', 'Chr1_21412861_G', 'Chr1_22485675_T', 'Chr1_22485802_G', 'Chr1_22496174_T', 'Chr1_22496192_A', 'Chr1_23266100_C', 'Chr1_23267179_A', 'Chr1_23375108_C', 'Chr1_25975890_C', 'Chr1_26433298_C', 'Chr1_29026259_C', 'Chr1_29835274_G', 'Chr1_30021468_T', 'Chr1_30324322_T', 'Chr1_30345159_T', 'Chr2_1146229_G', 'Chr2_8127891_A', 'Chr2_8195914_C', 'Chr2_8213775_C', 'Chr2_8446992_T', 'Chr2_8449743_C', 'Chr2_8460494_C', 'Chr2_8478404_G', 'Chr2_17835505_A', 'Chr2_17891050_T', 'Chr2_18819960_T', 'Chr2_18819977_C', 'Chr2_19019256_T', 'Chr3_167940_G', 'Chr3_175652_C', 'Chr3_476716_A', 'Chr3_505329_A', 'Chr3_507969_G', 'Chr3_709201_T', 'Chr3_3652430_A', 'Chr3_4045875_G', 'Chr3_4047086_T', 'Chr3_4073356_C', 'Chr3_6535547_T', 'Chr3_6953889_A', 'Chr3_6983030_C', 'Chr3_17496673_A', 'Chr3_17512067_T', 'Chr3_20236730_T', 'Chr3_20248565_C', 'Chr3_20268098_A', 'Chr3_20390008_G', 'Chr3_21220796_C', 'Chr3_21240944_C', 'Chr3_21245739_C', 'Chr3_22984636_T', 'Chr3_22998693_G', 'Chr3_23003512_G', 'Chr3_23008395_C', 'Chr4_198176_C', 'Chr4_202037_A', 'Chr4_261357_T', 'Chr4_475593_A', 'Chr4_870696_A', 'Chr4_875397_C', 'Chr4_1071480_G', 'Chr4_1260796_A', 'Chr4_5705252_A', 'Chr4_8649881_C', 'Chr4_9458625_C', 'Chr4_9482414_A', 'Chr4_10041227_T', 'Chr4_10050361_T', 'Chr4_10981297_T', 'Chr4_17386485_A', 'Chr5_985158_C', 'Chr5_1168046_T', 'Chr5_1186639_T', 'Chr5_1718145_C', 'Chr5_1726029_C', 'Chr5_3171095_A', 'Chr5_3172628_T', 'Chr5_3195168_G', 'Chr5_3195613_T', 'Chr5_4431540_T', 'Chr5_5207068_T', 'Chr5_5217845_G', 'Chr5_7811393_G', 'Chr5_9055143_A', 'Chr5_14990635_A', 'Chr5_14995268_A', 'Chr5_15012608_C', 'Chr5_15863849_T', 'Chr5_19921543_C', 'Chr5_24210470_T', 'Chr5_24216252_T', 'Chr5_26776950_A', 'Chr5_26789458_A')\n",
      "Optimal alpha: 0.114\tSelected SNPs: ('Chr1_30020796_A', 'Chr3_3652430_A', 'Chr3_6983030_C', 'Chr3_20236730_T', 'Chr3_22984636_T', 'Chr3_23008395_C', 'Chr5_1168046_T', 'Chr5_3171095_A', 'Chr5_3172628_T', 'Chr5_15863849_T', 'Chr5_19953902_A', 'Chr5_24190884_T')\n",
      "Optimal alpha: 0.067\tSelected SNPs: ('Chr1_17843006_A', 'Chr1_18325367_A', 'Chr1_30020796_A', 'Chr1_30021468_T', 'Chr2_8195914_C', 'Chr2_8438294_A', 'Chr2_8446992_T', 'Chr2_8449743_C', 'Chr2_8478404_G', 'Chr2_11041934_A', 'Chr2_19019256_T', 'Chr3_167940_G', 'Chr3_476716_A', 'Chr3_1256038_T', 'Chr3_3652430_A', 'Chr3_4045875_G', 'Chr3_4073356_C', 'Chr3_4073911_C', 'Chr3_6983030_C', 'Chr3_20390008_G', 'Chr3_22984636_T', 'Chr3_23008395_C', 'Chr4_287861_G', 'Chr4_454422_C', 'Chr4_454542_A', 'Chr4_475593_A', 'Chr4_1111882_G', 'Chr4_1241727_T', 'Chr4_1241765_G', 'Chr4_5742294_C', 'Chr4_11003559_G', 'Chr4_17010405_G', 'Chr5_987682_T', 'Chr5_1168046_T', 'Chr5_3171095_A', 'Chr5_3172628_T', 'Chr5_3184569_T', 'Chr5_3188327_T', 'Chr5_5207068_T', 'Chr5_5217845_G', 'Chr5_7811393_G', 'Chr5_14995268_A', 'Chr5_14996667_G', 'Chr5_14997378_A', 'Chr5_15863849_T', 'Chr5_26789458_A')\n",
      "Optimal alpha: 0.002\tSelected SNPs: ('Chr1_1193672_A', 'Chr1_3091675_A', 'Chr1_3093250_G', 'Chr1_3121697_C', 'Chr1_4528416_C', 'Chr1_4529000_A', 'Chr1_5156207_A', 'Chr1_5158875_C', 'Chr1_8081299_C', 'Chr1_8992078_C', 'Chr1_9095543_G', 'Chr1_9099075_A', 'Chr1_9615772_T', 'Chr1_9634681_A', 'Chr1_16466187_A', 'Chr1_16474533_A', 'Chr1_18325367_A', 'Chr1_18326797_C', 'Chr1_19797093_A', 'Chr1_22485675_T', 'Chr1_23256450_C', 'Chr1_24322419_G', 'Chr1_29709642_C', 'Chr1_29740551_C', 'Chr1_29822861_A', 'Chr1_29824699_A', 'Chr1_30020796_A', 'Chr1_30347069_A', 'Chr2_1136204_T', 'Chr2_1138189_C', 'Chr2_1146605_T', 'Chr2_8195914_C', 'Chr2_8210822_T', 'Chr2_9944089_T', 'Chr2_11041934_A', 'Chr2_11044367_G', 'Chr2_14325627_A', 'Chr2_17832577_G', 'Chr2_17891050_T', 'Chr2_18045473_T', 'Chr2_19019256_T', 'Chr3_185871_G', 'Chr3_194168_A', 'Chr3_487332_T', 'Chr3_487420_T', 'Chr3_508316_A', 'Chr3_705460_T', 'Chr3_709201_T', 'Chr3_1256038_T', 'Chr3_1261187_A', 'Chr3_3652430_A', 'Chr3_4047086_T', 'Chr3_4073356_C', 'Chr3_4073911_C', 'Chr3_4482098_C', 'Chr3_6547164_C', 'Chr3_17492875_G', 'Chr3_17512067_T', 'Chr3_17935944_G', 'Chr3_17949877_G', 'Chr3_17960314_T', 'Chr3_20236730_T', 'Chr3_20391404_C', 'Chr3_21234309_A', 'Chr3_21240944_C', 'Chr3_21242024_A', 'Chr3_21250707_A', 'Chr3_22984636_T', 'Chr3_23008395_C', 'Chr4_197103_C', 'Chr4_198176_C', 'Chr4_216077_T', 'Chr4_254976_A', 'Chr4_454422_C', 'Chr4_873322_G', 'Chr4_873559_T', 'Chr4_1261211_A', 'Chr4_8148790_G', 'Chr4_8152582_A', 'Chr4_9465560_T', 'Chr4_9480387_G', 'Chr4_9482414_A', 'Chr4_10993904_T', 'Chr4_11003559_G', 'Chr4_11016531_C', 'Chr4_15898419_C', 'Chr4_18553773_T', 'Chr5_1001731_G', 'Chr5_1009228_G', 'Chr5_1168046_T', 'Chr5_1726029_C', 'Chr5_3188327_T', 'Chr5_5205949_C', 'Chr5_5207068_T', 'Chr5_5361263_A', 'Chr5_8356759_A', 'Chr5_9017297_T', 'Chr5_9045545_A', 'Chr5_9586762_C', 'Chr5_9586817_A', 'Chr5_9599576_C', 'Chr5_14006648_G', 'Chr5_14995290_G', 'Chr5_14996667_G', 'Chr5_14997378_A', 'Chr5_15001150_G', 'Chr5_15863849_T', 'Chr5_17185382_C', 'Chr5_19067992_C', 'Chr5_24190884_T', 'Chr5_24216252_T', 'Chr5_24666777_G', 'Chr5_25088877_T', 'Chr5_25156857_A', 'Chr5_25976943_T', 'Chr5_26787989_A', 'Chr5_26789458_A')\n",
      "Optimal alpha: 0.109\tSelected SNPs: ('Chr1_30020796_A', 'Chr1_30022260_T', 'Chr2_8449743_C', 'Chr2_8478404_G', 'Chr3_3652430_A', 'Chr3_6983030_C', 'Chr3_17512067_T', 'Chr3_22984636_T', 'Chr3_23008395_C', 'Chr4_877075_T', 'Chr4_1260796_A', 'Chr5_987682_T', 'Chr5_1168046_T', 'Chr5_3188327_T', 'Chr5_15863849_T', 'Chr5_19953902_A', 'Chr5_24190884_T', 'Chr5_24216069_G')\n",
      "Optimal alpha: 0.074\tSelected SNPs: ('Chr1_5156423_T', 'Chr1_9289504_A', 'Chr1_16466187_A', 'Chr1_17843006_A', 'Chr1_29835274_G', 'Chr1_29900726_A', 'Chr1_30021468_T', 'Chr2_8195914_C', 'Chr2_8438294_A', 'Chr3_476716_A', 'Chr3_505329_A', 'Chr3_507969_G', 'Chr3_1256038_T', 'Chr3_1257380_C', 'Chr3_3652430_A', 'Chr3_4047086_T', 'Chr3_4073356_C', 'Chr3_6983030_C', 'Chr3_17512067_T', 'Chr3_20236730_T', 'Chr3_20390008_G', 'Chr3_21224440_A', 'Chr3_22984636_T', 'Chr3_22998693_G', 'Chr3_23003259_A', 'Chr3_23008395_C', 'Chr4_197103_C', 'Chr4_475593_A', 'Chr4_1071480_G', 'Chr4_8649881_C', 'Chr5_987682_T', 'Chr5_1168046_T', 'Chr5_3172628_T', 'Chr5_3188327_T', 'Chr5_5207068_T', 'Chr5_7811393_G', 'Chr5_14995268_A', 'Chr5_14996667_G', 'Chr5_15863849_T', 'Chr5_24190884_T', 'Chr5_24216069_G', 'Chr5_24216252_T', 'Chr5_24593697_G', 'Chr5_26789458_A')\n",
      "Optimal alpha: 0.070\tSelected SNPs: ('Chr1_22485675_T', 'Chr1_25973043_G', 'Chr1_29834120_G', 'Chr1_29900726_A', 'Chr1_30021468_T', 'Chr1_30345159_T', 'Chr2_18045473_T', 'Chr3_505329_A', 'Chr3_1256038_T', 'Chr3_3652430_A', 'Chr3_4047086_T', 'Chr3_4073356_C', 'Chr3_4073911_C', 'Chr3_6983030_C', 'Chr3_17512067_T', 'Chr3_20236730_T', 'Chr3_20390008_G', 'Chr3_21224440_A', 'Chr3_22984636_T', 'Chr3_23003259_A', 'Chr3_23008395_C', 'Chr4_197103_C', 'Chr4_475593_A', 'Chr4_1241727_T', 'Chr4_1241765_G', 'Chr4_1261211_A', 'Chr4_8649881_C', 'Chr4_17420836_T', 'Chr5_1168046_T', 'Chr5_3171095_A', 'Chr5_3172628_T', 'Chr5_7811393_G', 'Chr5_14995268_A', 'Chr5_14996667_G', 'Chr5_14997378_A', 'Chr5_15863849_T', 'Chr5_15869166_T', 'Chr5_15883608_G', 'Chr5_19953902_A', 'Chr5_24190884_T')\n"
     ]
    }
   ],
   "source": [
    "# use 90% of the data size as subsample size\n",
    "subsize = int(round(0.9*len(y_2W_tr)))\n",
    "\n",
    "# compute stability\n",
    "lasso_stab = stability(X_2W_tr, y_2W_tr_scaled, lasso_selection_procedure, 10, subsize)"
   ]
  },
  {
   "cell_type": "code",
   "execution_count": 47,
   "id": "5a4af3b0-8664-407a-be14-ab4243786a63",
   "metadata": {},
   "outputs": [
    {
     "name": "stdout",
     "output_type": "stream",
     "text": [
      "The stability of the Lasso selection is: 0.342\n"
     ]
    }
   ],
   "source": [
    "print(f\"The stability of the Lasso selection is: {lasso_stab:.3f}\")"
   ]
  },
  {
   "cell_type": "markdown",
   "id": "b6214027-2525-433e-b9d4-363a79dbc9fa",
   "metadata": {},
   "source": [
    "__Q: Compare this stability to that of the t-test. Does it match your expectations based on the sets of selected SNPs at each iteration?__"
   ]
  },
  {
   "cell_type": "markdown",
   "id": "59b4037e-e859-40f4-a2f7-bae7bc972d4b",
   "metadata": {
    "tags": []
   },
   "source": [
    "**Answer:**"
   ]
  },
  {
   "cell_type": "markdown",
   "id": "a66a7f8c-77eb-45e4-8800-c319ab885acb",
   "metadata": {},
   "source": [
    "### Stability of the Lasso with a fixed amount of regularization\n",
    "\n",
    "One of the reasons for the instability of the Lasso selection procedure is the fact that solutions with a different value of `alpha` are selected for each repeat. An alternative option is to use a _fixed_ amount of regularization:"
   ]
  },
  {
   "cell_type": "code",
   "execution_count": 48,
   "id": "3ef09b63-8bd2-468b-8779-f5a9cc64aa5f",
   "metadata": {},
   "outputs": [],
   "source": [
    "def fixed_alpha_lasso_selection_procedure(X_train, y_train):\n",
    "    \"\"\"\n",
    "    Fits a lasso on the data. Returns the features with non-zero coefficients.\n",
    "    \n",
    "    Rather than cross-validating alpha, use a fixed amount of regularization \n",
    "    (alpha=0.1).\n",
    "    \n",
    "    Input parameters\n",
    "    ----------------\n",
    "    X_train: (n_samples, n_features) np.array\n",
    "       training data\n",
    "    y_train: (n_samples, ) np.array\n",
    "       training labels\n",
    "    \n",
    "    Output\n",
    "    ------\n",
    "    selection: (n_features, ) np.array\n",
    "        for j=1..n_features:\n",
    "            selection[j] = 0 if j is not selected\n",
    "            selection[j] = 1 otherwise.       \n",
    "    \"\"\"\n",
    "    # create a lasso object\n",
    "    lasso = linear_model.Lasso(fit_intercept=True, max_iter=1000, alpha=0.1)\n",
    "\n",
    "    # Use the grid search cross validation on the training data\n",
    "    lasso.fit(X_train, y_train)\n",
    "    \n",
    "    print(f\"Selected SNPs: {*genotype_df.columns[np.where(lasso.coef_)[0]],}\")    \n",
    "    \n",
    "    # Consider the non-zero coefficients as selected\n",
    "    return(np.where(lasso.coef_, 1, 0))"
   ]
  },
  {
   "cell_type": "code",
   "execution_count": 49,
   "id": "a3f4726c-60a9-42ef-af9f-8dd4fa103e61",
   "metadata": {},
   "outputs": [
    {
     "name": "stdout",
     "output_type": "stream",
     "text": [
      "Selected SNPs: ('Chr1_17843006_A', 'Chr1_25973043_G', 'Chr1_30021468_T', 'Chr2_8177342_C', 'Chr2_18425301_A', 'Chr2_19019256_T', 'Chr3_1256038_T', 'Chr3_1257380_C', 'Chr3_3652430_A', 'Chr3_6983030_C', 'Chr3_17512067_T', 'Chr3_20390008_G', 'Chr3_22984636_T', 'Chr3_23008395_C', 'Chr4_454542_A', 'Chr4_460246_T', 'Chr4_475593_A', 'Chr5_1168046_T', 'Chr5_14996667_G', 'Chr5_15863849_T', 'Chr5_19953902_A', 'Chr5_24190884_T', 'Chr5_26789458_A')\n",
      "Selected SNPs: ('Chr1_9615772_T', 'Chr1_30020796_A', 'Chr1_30021468_T', 'Chr3_505329_A', 'Chr3_507969_G', 'Chr3_3652430_A', 'Chr3_4073911_C', 'Chr3_6983030_C', 'Chr3_20236730_T', 'Chr3_22984636_T', 'Chr3_23008395_C', 'Chr4_1071480_G', 'Chr5_987682_T', 'Chr5_1168046_T', 'Chr5_3172628_T', 'Chr5_5207068_T', 'Chr5_14995268_A', 'Chr5_14996667_G', 'Chr5_15863849_T')\n",
      "Selected SNPs: ('Chr1_24729610_G', 'Chr1_30020796_A', 'Chr1_30021468_T', 'Chr1_30022260_T', 'Chr1_30347069_A', 'Chr2_8443805_T', 'Chr2_8446992_T', 'Chr2_8478404_G', 'Chr2_11041934_A', 'Chr2_18425301_A', 'Chr3_505329_A', 'Chr3_1257380_C', 'Chr3_3652430_A', 'Chr3_4073356_C', 'Chr3_4073911_C', 'Chr3_21224440_A', 'Chr3_22984636_T', 'Chr3_23008395_C', 'Chr4_454542_A', 'Chr4_475593_A', 'Chr4_1241727_T', 'Chr4_1241765_G', 'Chr5_1168046_T', 'Chr5_3172628_T', 'Chr5_15863849_T', 'Chr5_24190884_T')\n",
      "Selected SNPs: ('Chr1_17843006_A', 'Chr1_25973043_G', 'Chr1_30020796_A', 'Chr1_30021468_T', 'Chr3_476716_A', 'Chr3_496044_G', 'Chr3_1256038_T', 'Chr3_1257380_C', 'Chr3_3652430_A', 'Chr3_4049713_A', 'Chr3_4073356_C', 'Chr3_4073911_C', 'Chr3_20236730_T', 'Chr3_21224440_A', 'Chr3_22984636_T', 'Chr4_454542_A', 'Chr5_987682_T', 'Chr5_1168046_T', 'Chr5_3172628_T', 'Chr5_3188327_T', 'Chr5_5207068_T', 'Chr5_15863849_T', 'Chr5_24216069_G', 'Chr5_26776950_A')\n",
      "Selected SNPs: ('Chr1_5156423_T', 'Chr1_25973043_G', 'Chr1_29900726_A', 'Chr1_30020796_A', 'Chr1_30021468_T', 'Chr1_30345159_T', 'Chr3_476716_A', 'Chr3_505329_A', 'Chr3_507969_G', 'Chr3_709201_T', 'Chr3_1257380_C', 'Chr3_3652430_A', 'Chr3_4073356_C', 'Chr3_21240944_C', 'Chr3_22984636_T', 'Chr5_987682_T', 'Chr5_1168046_T', 'Chr5_3157857_C', 'Chr5_3172628_T', 'Chr5_3188327_T', 'Chr5_15863849_T', 'Chr5_24190884_T', 'Chr5_26776950_A')\n",
      "Selected SNPs: ('Chr1_9615772_T', 'Chr1_30020796_A', 'Chr1_30021468_T', 'Chr1_30022260_T', 'Chr1_30345159_T', 'Chr2_8195914_C', 'Chr2_18425301_A', 'Chr3_1257380_C', 'Chr3_3652430_A', 'Chr3_4073356_C', 'Chr3_4073911_C', 'Chr3_6983030_C', 'Chr3_17512067_T', 'Chr3_20236730_T', 'Chr3_20390008_G', 'Chr3_21245739_C', 'Chr3_22984636_T', 'Chr3_23008395_C', 'Chr4_197103_C', 'Chr4_475593_A', 'Chr4_1071480_G', 'Chr4_1241727_T', 'Chr4_1241765_G', 'Chr5_1168046_T', 'Chr5_3171095_A', 'Chr5_3172628_T', 'Chr5_7811393_G', 'Chr5_14995268_A', 'Chr5_15863849_T', 'Chr5_24190884_T', 'Chr5_24216069_G')\n",
      "Selected SNPs: ('Chr1_5156423_T', 'Chr1_25973043_G', 'Chr1_30020796_A', 'Chr1_30021468_T', 'Chr1_30345159_T', 'Chr3_167940_G', 'Chr3_476716_A', 'Chr3_709201_T', 'Chr3_1256038_T', 'Chr3_1257380_C', 'Chr3_3652430_A', 'Chr3_4047086_T', 'Chr3_4073356_C', 'Chr3_22984636_T', 'Chr4_475593_A', 'Chr4_1241727_T', 'Chr4_1241765_G', 'Chr5_1168046_T', 'Chr5_3157857_C', 'Chr5_3172628_T', 'Chr5_5207068_T', 'Chr5_15863849_T', 'Chr5_24190884_T', 'Chr5_24216069_G', 'Chr5_26776950_A')\n",
      "Selected SNPs: ('Chr1_18325367_A', 'Chr1_30020796_A', 'Chr1_30021468_T', 'Chr3_476716_A', 'Chr3_505329_A', 'Chr3_507969_G', 'Chr3_3625191_C', 'Chr3_3652430_A', 'Chr3_4073356_C', 'Chr3_20236730_T', 'Chr3_20390008_G', 'Chr3_21224440_A', 'Chr3_22984636_T', 'Chr3_23008395_C', 'Chr4_475593_A', 'Chr5_1168046_T', 'Chr5_3171095_A', 'Chr5_3172628_T', 'Chr5_3188327_T', 'Chr5_3195168_G', 'Chr5_3195613_T', 'Chr5_7811393_G', 'Chr5_15863849_T', 'Chr5_24190884_T', 'Chr5_24216252_T')\n",
      "Selected SNPs: ('Chr1_5158875_C', 'Chr1_18325367_A', 'Chr1_18326797_C', 'Chr1_30020796_A', 'Chr2_11041934_A', 'Chr2_17832577_G', 'Chr2_18045473_T', 'Chr3_165596_T', 'Chr3_175652_C', 'Chr3_496044_G', 'Chr3_496601_A', 'Chr3_505329_A', 'Chr3_507969_G', 'Chr3_1267344_G', 'Chr3_3652430_A', 'Chr3_4073356_C', 'Chr3_6983030_C', 'Chr4_475593_A', 'Chr5_1168046_T', 'Chr5_3172628_T', 'Chr5_3188327_T', 'Chr5_14997378_A', 'Chr5_15863849_T', 'Chr5_19953902_A', 'Chr5_24190884_T', 'Chr5_24593697_G', 'Chr5_24666777_G', 'Chr5_26789458_A')\n",
      "Selected SNPs: ('Chr1_17843006_A', 'Chr1_30020796_A', 'Chr1_30021468_T', 'Chr3_505329_A', 'Chr3_3652430_A', 'Chr3_4064752_G', 'Chr3_4073911_C', 'Chr3_21224440_A', 'Chr3_22984636_T', 'Chr3_23008395_C', 'Chr4_475593_A', 'Chr5_1168046_T', 'Chr5_3172628_T', 'Chr5_3188327_T', 'Chr5_3195168_G', 'Chr5_3195613_T', 'Chr5_7811393_G', 'Chr5_14995268_A', 'Chr5_15863849_T', 'Chr5_24190884_T', 'Chr5_24216069_G')\n"
     ]
    }
   ],
   "source": [
    "# use 90% of the data size as subsample size\n",
    "subsize = int(round(0.9*len(y_2W_tr)))\n",
    "\n",
    "# compute stability\n",
    "lasso_stab = stability(X_2W_tr, y_2W_tr_scaled, fixed_alpha_lasso_selection_procedure, 10, subsize)"
   ]
  },
  {
   "cell_type": "code",
   "execution_count": 50,
   "id": "70037cde-fb91-444a-9ea1-021a0b434acf",
   "metadata": {},
   "outputs": [
    {
     "name": "stdout",
     "output_type": "stream",
     "text": [
      "The stability of the Lasso selection is now: 0.465\n"
     ]
    }
   ],
   "source": [
    "print(f\"The stability of the Lasso selection is now: {lasso_stab:.3f}\")"
   ]
  },
  {
   "cell_type": "markdown",
   "id": "4600bfb8-b966-47cc-9404-5159c8800ccd",
   "metadata": {},
   "source": [
    "__Q: Compare this stability to that of the lasso with cross-validation of the parameters. Does it match your expectations?__"
   ]
  },
  {
   "cell_type": "markdown",
   "id": "f081c587-d33c-4f58-afee-337a0c2d2f7d",
   "metadata": {
    "tags": []
   },
   "source": [
    "**Answer:**"
   ]
  },
  {
   "cell_type": "markdown",
   "id": "515ea3a5-b85d-47a9-8a15-6c8e63fa9a81",
   "metadata": {},
   "source": [
    "## Further practice: Stability selection\n",
    "\n",
    "One idea that was put forward to increase the stability of the Lasso is _stability selection_. The basic idea is to repeatedly subsample the data and perform the selection procedure, as we just did to _measure_ stability, and then to consider as selected only the features that appear are selected in a large proportion of the repeats. \n",
    "\n",
    "__Q: Implement this idea on the Lasso. Measure the stability of your new selection procedure. Discuss.__"
   ]
  }
 ],
 "metadata": {
  "kernelspec": {
   "display_name": "Python 3 (ipykernel)",
   "language": "python",
   "name": "python3"
  },
  "language_info": {
   "codemirror_mode": {
    "name": "ipython",
    "version": 3
   },
   "file_extension": ".py",
   "mimetype": "text/x-python",
   "name": "python",
   "nbconvert_exporter": "python",
   "pygments_lexer": "ipython3",
   "version": "3.8.12"
  }
 },
 "nbformat": 4,
 "nbformat_minor": 5
}
